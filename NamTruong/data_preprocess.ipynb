{
 "cells": [
  {
   "cell_type": "code",
   "execution_count": 1,
   "metadata": {},
   "outputs": [],
   "source": [
    "#Lowercase\n",
    "def lowercase(text):\n",
    "    return text.lower()\n",
    "\n",
    "def remove_punctuation(text):\n",
    "    import string\n",
    "    translator = str.maketrans('', '', string.punctuation)\n",
    "    return text.translate(translator)\n",
    "\n",
    "from underthesea import word_tokenize\n",
    "\n",
    "def tokenize(text):\n",
    "    return word_tokenize(text, format=\"text\")\n",
    "\n",
    "# import urllib\n",
    "# # Download vietnamese stop words\n",
    "# data=urllib.request.urlopen('https://raw.githubusercontent.com/stopwords/vietnamese-stopwords/master/vietnamese-stopwords-dash.txt').read()\n",
    "data = open(\"vietnamese-stopwords-dash.txt\", \"r\", encoding=\"utf8\").read()\n",
    "\n",
    "# Read stop words\n",
    "stopwords= [ x for x in data.splitlines() ]\n",
    "def remove_stopwords(text):\n",
    "    return ' '.join([word for word in text.split() if word not in stopwords])\n",
    "\n",
    "import re\n",
    "def remove_html_url(text):\n",
    "    return re.sub(r'http\\S+', '', text)\n",
    "\n",
    "import emoji\n",
    "\n",
    "def remove_emoji(text):\n",
    "    def get_emoji_regexp():\n",
    "        # Sort emoji by length to make sure multi-character emojis are\n",
    "    # matched first\n",
    "        emojis = sorted(emoji.EMOJI_DATA, key=len, reverse=True)\n",
    "        pattern = u'(' + u'|'.join(re.escape(u) for u in emojis) + u')'\n",
    "        return re.compile(pattern)\n",
    "\n",
    "    exp = get_emoji_regexp()\n",
    "    return exp.sub(u'', text)\n",
    "\n",
    "def preprocess_text(text):\n",
    "    # '''Input : String, output : String'''\n",
    "      text_url = remove_html_url(text)\n",
    "      text_emoji = remove_emoji(text_url)\n",
    "    \n",
    "      text_lowercase = lowercase(text_emoji)\n",
    "      text_punctuation = remove_punctuation(text_lowercase)\n",
    "      \n",
    "      text_tokenize = tokenize(text_punctuation)\n",
    "      text_stopwords = remove_stopwords(text_tokenize)\n",
    "  \n",
    "      return text_stopwords"
   ]
  },
  {
   "cell_type": "code",
   "execution_count": 2,
   "metadata": {},
   "outputs": [],
   "source": [
    "import pandas as pd\n",
    "data = pd.read_csv('tgdd_product_description_grouped.csv')"
   ]
  },
  {
   "cell_type": "code",
   "execution_count": 3,
   "metadata": {},
   "outputs": [
    {
     "data": {
      "text/html": [
       "<div>\n",
       "<style scoped>\n",
       "    .dataframe tbody tr th:only-of-type {\n",
       "        vertical-align: middle;\n",
       "    }\n",
       "\n",
       "    .dataframe tbody tr th {\n",
       "        vertical-align: top;\n",
       "    }\n",
       "\n",
       "    .dataframe thead th {\n",
       "        text-align: right;\n",
       "    }\n",
       "</style>\n",
       "<table border=\"1\" class=\"dataframe\">\n",
       "  <thead>\n",
       "    <tr style=\"text-align: right;\">\n",
       "      <th></th>\n",
       "      <th>name</th>\n",
       "      <th>description</th>\n",
       "    </tr>\n",
       "  </thead>\n",
       "  <tbody>\n",
       "    <tr>\n",
       "      <th>82</th>\n",
       "      <td>/dtdd/vivo-y02t</td>\n",
       "      <td>Điện thoại vivo này có thiết kế đơn giản nhưng...</td>\n",
       "    </tr>\n",
       "    <tr>\n",
       "      <th>5</th>\n",
       "      <td>/dtdd/iphone-14-pro-256gb</td>\n",
       "      <td>Phong cách thiết kế hiện đại, tối giản vẫn đượ...</td>\n",
       "    </tr>\n",
       "    <tr>\n",
       "      <th>61</th>\n",
       "      <td>/dtdd/samsung-galaxy-a05s-6gb</td>\n",
       "      <td>Galaxy A05s 6GB lấy cảm hứng thiết kế từ các p...</td>\n",
       "    </tr>\n",
       "    <tr>\n",
       "      <th>17</th>\n",
       "      <td>/dtdd/masstel-lux-20</td>\n",
       "      <td>Chiếc điện thoại Masstel này có kích thước bề ...</td>\n",
       "    </tr>\n",
       "    <tr>\n",
       "      <th>24</th>\n",
       "      <td>/dtdd/nokia-105-4g</td>\n",
       "      <td>Toàn thân của máy được hoàn thiện từ nhựa với ...</td>\n",
       "    </tr>\n",
       "  </tbody>\n",
       "</table>\n",
       "</div>"
      ],
      "text/plain": [
       "                             name  \\\n",
       "82                /dtdd/vivo-y02t   \n",
       "5       /dtdd/iphone-14-pro-256gb   \n",
       "61  /dtdd/samsung-galaxy-a05s-6gb   \n",
       "17           /dtdd/masstel-lux-20   \n",
       "24             /dtdd/nokia-105-4g   \n",
       "\n",
       "                                          description  \n",
       "82  Điện thoại vivo này có thiết kế đơn giản nhưng...  \n",
       "5   Phong cách thiết kế hiện đại, tối giản vẫn đượ...  \n",
       "61  Galaxy A05s 6GB lấy cảm hứng thiết kế từ các p...  \n",
       "17  Chiếc điện thoại Masstel này có kích thước bề ...  \n",
       "24  Toàn thân của máy được hoàn thiện từ nhựa với ...  "
      ]
     },
     "execution_count": 3,
     "metadata": {},
     "output_type": "execute_result"
    }
   ],
   "source": [
    "data.sample(5)"
   ]
  },
  {
   "cell_type": "code",
   "execution_count": 4,
   "metadata": {},
   "outputs": [],
   "source": [
    "data['description'] = data['description'].apply(preprocess_text)"
   ]
  },
  {
   "cell_type": "code",
   "execution_count": 15,
   "metadata": {},
   "outputs": [
    {
     "data": {
      "text/html": [
       "<div>\n",
       "<style scoped>\n",
       "    .dataframe tbody tr th:only-of-type {\n",
       "        vertical-align: middle;\n",
       "    }\n",
       "\n",
       "    .dataframe tbody tr th {\n",
       "        vertical-align: top;\n",
       "    }\n",
       "\n",
       "    .dataframe thead th {\n",
       "        text-align: right;\n",
       "    }\n",
       "</style>\n",
       "<table border=\"1\" class=\"dataframe\">\n",
       "  <thead>\n",
       "    <tr style=\"text-align: right;\">\n",
       "      <th></th>\n",
       "      <th>name</th>\n",
       "      <th>description</th>\n",
       "    </tr>\n",
       "  </thead>\n",
       "  <tbody>\n",
       "    <tr>\n",
       "      <th>73</th>\n",
       "      <td>/dtdd/samsung-galaxy-s23-ultra</td>\n",
       "      <td>thiết_kế samsung galaxy s23 ultra thừa_hưởng k...</td>\n",
       "    </tr>\n",
       "    <tr>\n",
       "      <th>17</th>\n",
       "      <td>/dtdd/masstel-lux-20</td>\n",
       "      <td>điện_thoại masstel kích_thước bề ngang 538 mm ...</td>\n",
       "    </tr>\n",
       "    <tr>\n",
       "      <th>42</th>\n",
       "      <td>/dtdd/oppo-reno10-pro</td>\n",
       "      <td>thiết_kế reno10 pro 5 g trông ấn_tượng kiểu th...</td>\n",
       "    </tr>\n",
       "    <tr>\n",
       "      <th>68</th>\n",
       "      <td>/dtdd/samsung-galaxy-a34-5g-128gb</td>\n",
       "      <td>thiết_kế đẹp hiện_đại galaxy a34 5 g có_mặt lư...</td>\n",
       "    </tr>\n",
       "    <tr>\n",
       "      <th>14</th>\n",
       "      <td>/dtdd/masstel-izi-10</td>\n",
       "      <td>masstel izi 10 4 g thiết_kế điện_thoại phổ_thô...</td>\n",
       "    </tr>\n",
       "  </tbody>\n",
       "</table>\n",
       "</div>"
      ],
      "text/plain": [
       "                                 name  \\\n",
       "73     /dtdd/samsung-galaxy-s23-ultra   \n",
       "17               /dtdd/masstel-lux-20   \n",
       "42              /dtdd/oppo-reno10-pro   \n",
       "68  /dtdd/samsung-galaxy-a34-5g-128gb   \n",
       "14               /dtdd/masstel-izi-10   \n",
       "\n",
       "                                          description  \n",
       "73  thiết_kế samsung galaxy s23 ultra thừa_hưởng k...  \n",
       "17  điện_thoại masstel kích_thước bề ngang 538 mm ...  \n",
       "42  thiết_kế reno10 pro 5 g trông ấn_tượng kiểu th...  \n",
       "68  thiết_kế đẹp hiện_đại galaxy a34 5 g có_mặt lư...  \n",
       "14  masstel izi 10 4 g thiết_kế điện_thoại phổ_thô...  "
      ]
     },
     "execution_count": 15,
     "metadata": {},
     "output_type": "execute_result"
    }
   ],
   "source": [
    "data.sample(5)"
   ]
  },
  {
   "cell_type": "code",
   "execution_count": 20,
   "metadata": {},
   "outputs": [],
   "source": [
    "dataDescription = list(data['description'].values)"
   ]
  },
  {
   "cell_type": "code",
   "execution_count": 21,
   "metadata": {},
   "outputs": [],
   "source": [
    "from langdetect import detect, DetectorFactory\n",
    "DetectorFactory.seed = 0"
   ]
  },
  {
   "cell_type": "code",
   "execution_count": 22,
   "metadata": {},
   "outputs": [],
   "source": [
    "## kiem tra ngon ngu\n",
    "vi = 0\n",
    "en = 0\n",
    "remove_index = []\n",
    "for i in range(len(dataDescription)):\n",
    "  try:\n",
    "    if detect(dataDescription[i]) == 'vi':\n",
    "      vi+=1\n",
    "    else : \n",
    "      en+=1\n",
    "      remove_index.append(i)\n",
    "  except:\n",
    "    remove_index.append(i)\n",
    "    continue"
   ]
  },
  {
   "cell_type": "code",
   "execution_count": 23,
   "metadata": {},
   "outputs": [],
   "source": [
    "## loai bo cot ngon ngu\n",
    "data_old = dataDescription\n",
    "dataDescription = []\n",
    "for i in range(len(data_old)):\n",
    "  if i in remove_index:\n",
    "    continue\n",
    "  else : dataDescription.append(data_old[i])"
   ]
  },
  {
   "cell_type": "code",
   "execution_count": 24,
   "metadata": {},
   "outputs": [],
   "source": [
    "data['description'] = dataDescription"
   ]
  },
  {
   "cell_type": "code",
   "execution_count": 28,
   "metadata": {},
   "outputs": [
    {
     "data": {
      "text/html": [
       "<div>\n",
       "<style scoped>\n",
       "    .dataframe tbody tr th:only-of-type {\n",
       "        vertical-align: middle;\n",
       "    }\n",
       "\n",
       "    .dataframe tbody tr th {\n",
       "        vertical-align: top;\n",
       "    }\n",
       "\n",
       "    .dataframe thead th {\n",
       "        text-align: right;\n",
       "    }\n",
       "</style>\n",
       "<table border=\"1\" class=\"dataframe\">\n",
       "  <thead>\n",
       "    <tr style=\"text-align: right;\">\n",
       "      <th></th>\n",
       "      <th>name</th>\n",
       "      <th>description</th>\n",
       "    </tr>\n",
       "  </thead>\n",
       "  <tbody>\n",
       "    <tr>\n",
       "      <th>53</th>\n",
       "      <td>/dtdd/realme-c30s-3gb-64gb</td>\n",
       "      <td>realme c30s máy thiết_kế đẹp nổi_bật tầm_giá n...</td>\n",
       "    </tr>\n",
       "    <tr>\n",
       "      <th>46</th>\n",
       "      <td>/dtdd/oppo-reno11-pro</td>\n",
       "      <td>trải_nghiệm điện_thoại oppo reno11 pro thiết_k...</td>\n",
       "    </tr>\n",
       "    <tr>\n",
       "      <th>69</th>\n",
       "      <td>/dtdd/samsung-galaxy-a54-5g-128gb</td>\n",
       "      <td>2 tuần trải_nghiệm galaxy a54 ngạc_nhiên khả_n...</td>\n",
       "    </tr>\n",
       "    <tr>\n",
       "      <th>10</th>\n",
       "      <td>/dtdd/itel-it9010</td>\n",
       "      <td>itel it9010 khung mặt lưng hoàn_thiện nhựa thi...</td>\n",
       "    </tr>\n",
       "    <tr>\n",
       "      <th>107</th>\n",
       "      <td>/may-tinh-bang/ipad-pro-m2-12-9-inch</td>\n",
       "      <td>tổng_quan tablet máy hoàn_thiện mặt lưng kim_l...</td>\n",
       "    </tr>\n",
       "  </tbody>\n",
       "</table>\n",
       "</div>"
      ],
      "text/plain": [
       "                                     name  \\\n",
       "53             /dtdd/realme-c30s-3gb-64gb   \n",
       "46                  /dtdd/oppo-reno11-pro   \n",
       "69      /dtdd/samsung-galaxy-a54-5g-128gb   \n",
       "10                      /dtdd/itel-it9010   \n",
       "107  /may-tinh-bang/ipad-pro-m2-12-9-inch   \n",
       "\n",
       "                                           description  \n",
       "53   realme c30s máy thiết_kế đẹp nổi_bật tầm_giá n...  \n",
       "46   trải_nghiệm điện_thoại oppo reno11 pro thiết_k...  \n",
       "69   2 tuần trải_nghiệm galaxy a54 ngạc_nhiên khả_n...  \n",
       "10   itel it9010 khung mặt lưng hoàn_thiện nhựa thi...  \n",
       "107  tổng_quan tablet máy hoàn_thiện mặt lưng kim_l...  "
      ]
     },
     "execution_count": 28,
     "metadata": {},
     "output_type": "execute_result"
    }
   ],
   "source": [
    "data.sample(5)"
   ]
  },
  {
   "cell_type": "code",
   "execution_count": 26,
   "metadata": {},
   "outputs": [],
   "source": [
    "data.to_csv('tgdd_product_description_grouped_preprocessed.csv', index=False)"
   ]
  }
 ],
 "metadata": {
  "kernelspec": {
   "display_name": ".venv",
   "language": "python",
   "name": "python3"
  },
  "language_info": {
   "codemirror_mode": {
    "name": "ipython",
    "version": 3
   },
   "file_extension": ".py",
   "mimetype": "text/x-python",
   "name": "python",
   "nbconvert_exporter": "python",
   "pygments_lexer": "ipython3",
   "version": "3.9.2"
  }
 },
 "nbformat": 4,
 "nbformat_minor": 2
}
