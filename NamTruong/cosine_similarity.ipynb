{
 "cells": [
  {
   "cell_type": "markdown",
   "metadata": {},
   "source": [
    "# 1. Demo cosine similarity"
   ]
  },
  {
   "cell_type": "markdown",
   "metadata": {},
   "source": [
    "## Sử dụng keyBERT để trích xuất keywords"
   ]
  },
  {
   "cell_type": "code",
   "execution_count": 250,
   "metadata": {},
   "outputs": [],
   "source": [
    "from keybert import KeyBERT\n",
    "\n",
    "kw_model = KeyBERT(model=\"paraphrase-multilingual-MiniLM-L12-v2\")"
   ]
  },
  {
   "cell_type": "markdown",
   "metadata": {},
   "source": [
    "## Preprocess Text Function"
   ]
  },
  {
   "cell_type": "code",
   "execution_count": 251,
   "metadata": {},
   "outputs": [],
   "source": [
    "#Lowercase\n",
    "def lowercase(text):\n",
    "    return text.lower()\n",
    "\n",
    "def remove_punctuation(text):\n",
    "    import string\n",
    "    translator = str.maketrans('', '', string.punctuation)\n",
    "    return text.translate(translator)\n",
    "\n",
    "from underthesea import word_tokenize\n",
    "\n",
    "def tokenize(text):\n",
    "    return word_tokenize(text, format=\"text\")\n",
    "\n",
    "import urllib\n",
    "# Download vietnamese stop words\n",
    "data=urllib.request.urlopen('https://raw.githubusercontent.com/stopwords/vietnamese-stopwords/master/vietnamese-stopwords-dash.txt').read()\n",
    "#data = open(\"vietnamese-stopwords-dash.txt\", \"r\", encoding=\"utf8\").read()\n",
    "\n",
    "# Read stop words\n",
    "stopwords= [ x for x in data.splitlines() ]\n",
    "def remove_stopwords(text):\n",
    "    return ' '.join([word for word in text.split() if word not in stopwords])\n",
    "\n",
    "import re\n",
    "def remove_html_url(text):\n",
    "    return re.sub(r'http\\S+', '', text)\n",
    "\n",
    "import emoji\n",
    "\n",
    "def remove_emoji(text):\n",
    "    def get_emoji_regexp():\n",
    "        # Sort emoji by length to make sure multi-character emojis are\n",
    "    # matched first\n",
    "        emojis = sorted(emoji.EMOJI_DATA, key=len, reverse=True)\n",
    "        pattern = u'(' + u'|'.join(re.escape(u) for u in emojis) + u')'\n",
    "        return re.compile(pattern)\n",
    "\n",
    "    exp = get_emoji_regexp()\n",
    "    return exp.sub(u'', text)\n",
    "\n",
    "def preprocess_text(text):\n",
    "    # '''Input : String, output : String'''\n",
    "      text_url = remove_html_url(text)\n",
    "      text_emoji = remove_emoji(text_url)\n",
    "    \n",
    "      text_lowercase = lowercase(text_emoji)\n",
    "      text_punctuation = remove_punctuation(text_lowercase)\n",
    "      \n",
    "      text_tokenize = tokenize(text_punctuation)\n",
    "      text_stopwords = remove_stopwords(text_tokenize)\n",
    "  \n",
    "      return text_stopwords"
   ]
  },
  {
   "cell_type": "markdown",
   "metadata": {},
   "source": [
    "## Extract keywords from 3 documents"
   ]
  },
  {
   "cell_type": "code",
   "execution_count": 252,
   "metadata": {},
   "outputs": [
    {
     "data": {
      "text/plain": [
       "['iphone',\n",
       " 'chip',\n",
       " 'tốc_độ',\n",
       " 'cứng_cáp',\n",
       " 'titan',\n",
       " 'camera',\n",
       " 'a17',\n",
       " 'max',\n",
       " 'action_button',\n",
       " 'cổng']"
      ]
     },
     "execution_count": 252,
     "metadata": {},
     "output_type": "execute_result"
    }
   ],
   "source": [
    "doc_1 = \"\"\"\n",
    "      Đặc điểm nổi bật của iPhone 15 Pro Max\n",
    "      Tăng độ cứng cáp và tối ưu khối lượng với chất liệu Titan\n",
    "      Bứt phá mọi giới hạn về hiệu năng nhờ chip A17 Pro\n",
    "      Phiên bản duy nhất cải tiến camera tele 5x\n",
    "      Tích hợp camera 48 MP\n",
    "      Nút tác vụ (Action Button) thay thế cần gạt rung\n",
    "      Chuyển đổi cổng sạc USB-C, truyền tải dữ liệu tốc độ cao\n",
    "      \"\"\"\n",
    "doc_1_pre = preprocess_text(doc_1)\n",
    "keywords_1 = kw_model.extract_keywords(doc_1_pre, top_n=10, use_mmr=True)\n",
    "keywords_1 = [word[0] for word in keywords_1]\n",
    "keywords_1"
   ]
  },
  {
   "cell_type": "code",
   "execution_count": 253,
   "metadata": {},
   "outputs": [
    {
     "data": {
      "text/plain": [
       "['camera',\n",
       " 'iphone',\n",
       " 'retina',\n",
       " 'a16',\n",
       " 'chip',\n",
       " 'gb',\n",
       " 'màu',\n",
       " 'island',\n",
       " 'bionic',\n",
       " 'dynamic']"
      ]
     },
     "execution_count": 253,
     "metadata": {},
     "output_type": "execute_result"
    }
   ],
   "source": [
    "doc_2 = \"\"\"\n",
    "      Đặc điểm nổi bật của iPhone 15 128GB\n",
    "      Sử dụng kiểu hình notch Dynamic Island \n",
    "      Ra mắt với 5 phiên bản màu sắc và được làm từ kính pha màu\n",
    "      Sử dụng Chip A16 Bionic cho hiệu năng vượt trội\n",
    "      Trang bị camera chính 48 MP, Telephoto 2x cho khả năng chụp ảnh sắc nét\n",
    "      Màn hình OLED Super Retina XDR cho chất lượng đồ họa lý tưởng\n",
    "      Hỗ trợ sẵn hệ điều hành iOS 17 mới nhất 2023\n",
    "      \"\"\"\n",
    "doc_2_pre = preprocess_text(doc_2)\n",
    "keywords_2 = kw_model.extract_keywords(doc_2_pre, top_n=10, use_mmr=True)\n",
    "keywords_2 = [word[0] for word in keywords_2]\n",
    "keywords_2"
   ]
  },
  {
   "cell_type": "code",
   "execution_count": 254,
   "metadata": {},
   "outputs": [
    {
     "data": {
      "text/plain": [
       "['camera',\n",
       " 'nhanh',\n",
       " '5000',\n",
       " 'vuông_vức',\n",
       " '64',\n",
       " 'giá',\n",
       " 'amoled',\n",
       " 'pin',\n",
       " 'mặt',\n",
       " 'lưng']"
      ]
     },
     "execution_count": 254,
     "metadata": {},
     "output_type": "execute_result"
    }
   ],
   "source": [
    "doc_3 = \"\"\"\n",
    "      Tạo hình vuông vức cùng hiệu ứng mặt lưng cuốn hút\n",
    "      Màn hình lớn đi kèm tấm nền AMOLED\n",
    "      Camera 64 MP đáp ứng tốt nhu cầu chụp ảnh\n",
    "      Cấu hình mạnh mẽ trong tầm giá\n",
    "      Pin 5000 mAh và có đi kèm sạc nhanh 67 W\n",
    "      \"\"\"\n",
    "doc_3_pre = preprocess_text(doc_3)\n",
    "keywords_3 = kw_model.extract_keywords(doc_3_pre, top_n=10, use_mmr=True)\n",
    "keywords_3 = [word[0] for word in keywords_3]\n",
    "keywords_3"
   ]
  },
  {
   "cell_type": "markdown",
   "metadata": {},
   "source": [
    "## Cosine similarity matrix"
   ]
  },
  {
   "cell_type": "code",
   "execution_count": 255,
   "metadata": {},
   "outputs": [],
   "source": [
    "import pandas as pd\n",
    "\n",
    "from sklearn.feature_extraction.text import CountVectorizer\n",
    "from sklearn.metrics.pairwise import cosine_similarity\n",
    "\n",
    "import warnings\n",
    "warnings.filterwarnings(\"ignore\")"
   ]
  },
  {
   "cell_type": "markdown",
   "metadata": {},
   "source": [
    "Ta nhầm là sử dụng tfidf, sử dụng count vectorizer để trích xuất features từ list keywords"
   ]
  },
  {
   "cell_type": "code",
   "execution_count": 256,
   "metadata": {},
   "outputs": [],
   "source": [
    "count = CountVectorizer()"
   ]
  },
  {
   "cell_type": "code",
   "execution_count": 257,
   "metadata": {},
   "outputs": [],
   "source": [
    "count_matrix = count.fit_transform([\" \".join(keywords_1), \" \".join(keywords_2), \" \".join(keywords_3)])"
   ]
  },
  {
   "cell_type": "code",
   "execution_count": 258,
   "metadata": {},
   "outputs": [],
   "source": [
    "csm_count = cosine_similarity(count_matrix, count_matrix)"
   ]
  },
  {
   "cell_type": "code",
   "execution_count": 259,
   "metadata": {},
   "outputs": [
    {
     "data": {
      "text/plain": [
       "array([[1. , 0.3, 0.1],\n",
       "       [0.3, 1. , 0.1],\n",
       "       [0.1, 0.1, 1. ]])"
      ]
     },
     "execution_count": 259,
     "metadata": {},
     "output_type": "execute_result"
    }
   ],
   "source": [
    "csm_count"
   ]
  },
  {
   "cell_type": "markdown",
   "metadata": {},
   "source": [
    "# 2. Test trên tập dataset điện thoại"
   ]
  },
  {
   "cell_type": "markdown",
   "metadata": {},
   "source": [
    "## Load data"
   ]
  },
  {
   "cell_type": "code",
   "execution_count": 264,
   "metadata": {},
   "outputs": [
    {
     "data": {
      "text/html": [
       "<div>\n",
       "<style scoped>\n",
       "    .dataframe tbody tr th:only-of-type {\n",
       "        vertical-align: middle;\n",
       "    }\n",
       "\n",
       "    .dataframe tbody tr th {\n",
       "        vertical-align: top;\n",
       "    }\n",
       "\n",
       "    .dataframe thead th {\n",
       "        text-align: right;\n",
       "    }\n",
       "</style>\n",
       "<table border=\"1\" class=\"dataframe\">\n",
       "  <thead>\n",
       "    <tr style=\"text-align: right;\">\n",
       "      <th></th>\n",
       "      <th>Unnamed: 0</th>\n",
       "      <th>name</th>\n",
       "      <th>description</th>\n",
       "      <th>label</th>\n",
       "      <th>x_corpus</th>\n",
       "      <th>y_label</th>\n",
       "    </tr>\n",
       "  </thead>\n",
       "  <tbody>\n",
       "    <tr>\n",
       "      <th>131</th>\n",
       "      <td>131</td>\n",
       "      <td>/may-tinh-bang/xiaomi-redmi-pad-se</td>\n",
       "      <td>xiaomi redmi pad se sở_hữu thiết_kế đặc_trưng ...</td>\n",
       "      <td>['bảng_xiaomi', 'pad_se', 'pad', 'máy_tính', '...</td>\n",
       "      <td>['xiaomi', 'redmi', 'pad', 'se', 'sở_hữu', 'th...</td>\n",
       "      <td>[1, 1, 1, 1, 1, 1, 1, 1, 1, 1, 1, 1, 1, 1, 1, ...</td>\n",
       "    </tr>\n",
       "    <tr>\n",
       "      <th>63</th>\n",
       "      <td>63</td>\n",
       "      <td>/dtdd/samsung-galaxy-a14-5g</td>\n",
       "      <td>galaxy a14 cảm_hứng thiết_kế mẫu điện_thoại sa...</td>\n",
       "      <td>['samsung', 'galaxy', 'android', 'a14', 'hd', ...</td>\n",
       "      <td>['galaxy', 'a14', 'cảm_hứng', 'thiết_kế', 'mẫu...</td>\n",
       "      <td>[1, 1, 1, 1, 1, 1, 1, 1, 0, 1, 1, 1, 1, 1, 1, ...</td>\n",
       "    </tr>\n",
       "    <tr>\n",
       "      <th>73</th>\n",
       "      <td>73</td>\n",
       "      <td>/dtdd/samsung-galaxy-s23-ultra</td>\n",
       "      <td>thiết_kế samsung galaxy s23 ultra thừa_hưởng k...</td>\n",
       "      <td>['samsung_tích_hợp', 'samsung', 'galaxy', 'and...</td>\n",
       "      <td>['thiết_kế', 'samsung', 'galaxy', 's23', 'ultr...</td>\n",
       "      <td>[1, 1, 1, 1, 1, 1, 1, 1, 0, 0, 0, 1, 1, 0, 0, ...</td>\n",
       "    </tr>\n",
       "    <tr>\n",
       "      <th>55</th>\n",
       "      <td>55</td>\n",
       "      <td>/dtdd/realme-c53</td>\n",
       "      <td>ngoại_hình máy vô_cùng ấn_tượng máy thừa_hưởng...</td>\n",
       "      <td>['máy', 'camera', 'máy_lạnh', 'điện_thoại', 'c...</td>\n",
       "      <td>['ngoại_hình', 'máy', 'vô_cùng', 'ấn_tượng', '...</td>\n",
       "      <td>[1, 1, 1, 1, 1, 1, 1, 1, 1, 1, 1, 1, 1, 1, 1, ...</td>\n",
       "    </tr>\n",
       "    <tr>\n",
       "      <th>61</th>\n",
       "      <td>61</td>\n",
       "      <td>/dtdd/samsung-galaxy-a05s-6gb</td>\n",
       "      <td>galaxy a05s 6 gb cảm_hứng thiết_kế phiên_bản f...</td>\n",
       "      <td>['galaxy', 'galaxy_a', 'galaxy_s23', 'samsung'...</td>\n",
       "      <td>['galaxy', 'a05s', '6', 'gb', 'cảm_hứng', 'thi...</td>\n",
       "      <td>[1, 1, 0, 1, 1, 1, 1, 1, 1, 1, 1, 1, 1, 1, 1, ...</td>\n",
       "    </tr>\n",
       "  </tbody>\n",
       "</table>\n",
       "</div>"
      ],
      "text/plain": [
       "     Unnamed: 0                                name  \\\n",
       "131         131  /may-tinh-bang/xiaomi-redmi-pad-se   \n",
       "63           63         /dtdd/samsung-galaxy-a14-5g   \n",
       "73           73      /dtdd/samsung-galaxy-s23-ultra   \n",
       "55           55                    /dtdd/realme-c53   \n",
       "61           61       /dtdd/samsung-galaxy-a05s-6gb   \n",
       "\n",
       "                                           description  \\\n",
       "131  xiaomi redmi pad se sở_hữu thiết_kế đặc_trưng ...   \n",
       "63   galaxy a14 cảm_hứng thiết_kế mẫu điện_thoại sa...   \n",
       "73   thiết_kế samsung galaxy s23 ultra thừa_hưởng k...   \n",
       "55   ngoại_hình máy vô_cùng ấn_tượng máy thừa_hưởng...   \n",
       "61   galaxy a05s 6 gb cảm_hứng thiết_kế phiên_bản f...   \n",
       "\n",
       "                                                 label  \\\n",
       "131  ['bảng_xiaomi', 'pad_se', 'pad', 'máy_tính', '...   \n",
       "63   ['samsung', 'galaxy', 'android', 'a14', 'hd', ...   \n",
       "73   ['samsung_tích_hợp', 'samsung', 'galaxy', 'and...   \n",
       "55   ['máy', 'camera', 'máy_lạnh', 'điện_thoại', 'c...   \n",
       "61   ['galaxy', 'galaxy_a', 'galaxy_s23', 'samsung'...   \n",
       "\n",
       "                                              x_corpus  \\\n",
       "131  ['xiaomi', 'redmi', 'pad', 'se', 'sở_hữu', 'th...   \n",
       "63   ['galaxy', 'a14', 'cảm_hứng', 'thiết_kế', 'mẫu...   \n",
       "73   ['thiết_kế', 'samsung', 'galaxy', 's23', 'ultr...   \n",
       "55   ['ngoại_hình', 'máy', 'vô_cùng', 'ấn_tượng', '...   \n",
       "61   ['galaxy', 'a05s', '6', 'gb', 'cảm_hứng', 'thi...   \n",
       "\n",
       "                                               y_label  \n",
       "131  [1, 1, 1, 1, 1, 1, 1, 1, 1, 1, 1, 1, 1, 1, 1, ...  \n",
       "63   [1, 1, 1, 1, 1, 1, 1, 1, 0, 1, 1, 1, 1, 1, 1, ...  \n",
       "73   [1, 1, 1, 1, 1, 1, 1, 1, 0, 0, 0, 1, 1, 0, 0, ...  \n",
       "55   [1, 1, 1, 1, 1, 1, 1, 1, 1, 1, 1, 1, 1, 1, 1, ...  \n",
       "61   [1, 1, 0, 1, 1, 1, 1, 1, 1, 1, 1, 1, 1, 1, 1, ...  "
      ]
     },
     "execution_count": 264,
     "metadata": {},
     "output_type": "execute_result"
    }
   ],
   "source": [
    "import pandas as pd\n",
    "data = pd.read_csv(\"tgdd_product_description_grouped_preprocessed_labeled.csv\")\n",
    "data.sample(5)"
   ]
  },
  {
   "cell_type": "markdown",
   "metadata": {},
   "source": [
    "## Chuyển label keywords về list objects"
   ]
  },
  {
   "cell_type": "code",
   "execution_count": 265,
   "metadata": {},
   "outputs": [
    {
     "data": {
      "text/plain": [
       "0      camera_kép camera iphone iphone_xr smartphone ...\n",
       "1      smartphone_apple apple iphone ipad ip68 a14 a1...\n",
       "2      apple iphone chip ip68 a15 sensor nhôm gb pixe...\n",
       "3      iphone apple điện_thoại điện_ảnh máy app chip ...\n",
       "4      iphone apple_tính apple smartphone nhôm máy kh...\n",
       "                             ...                        \n",
       "129    wifi_tích wifi tcl nhôm_nguyên internet lcd má...\n",
       "130    cao_xiaomi gb sẵn_sàng graphite xiaomi cao_cấp...\n",
       "131    bảng_xiaomi pad_se pad máy_tính redmi mượt_mà ...\n",
       "132    nhanh_chóng bảng_xiaomi độ_chính_xác máy_tính ...\n",
       "133    gần_gũi bảng_xiaomi redmi nhu_cầu công_suất ph...\n",
       "Name: label, Length: 134, dtype: object"
      ]
     },
     "execution_count": 265,
     "metadata": {},
     "output_type": "execute_result"
    }
   ],
   "source": [
    "# Import the ast module\n",
    "import ast\n",
    "data['label'] = data['label'].apply(lambda x: ast.literal_eval(x))\n",
    "data['label'] = data['label'].apply(lambda x: \" \".join(x))\n",
    "data['label']"
   ]
  },
  {
   "cell_type": "markdown",
   "metadata": {},
   "source": [
    "## Cosine similarity matrix"
   ]
  },
  {
   "cell_type": "markdown",
   "metadata": {},
   "source": [
    "Ta nhầm là sử dụng tfidf, sử dụng count vectorizer để trích xuất features từ list keywords"
   ]
  },
  {
   "cell_type": "code",
   "execution_count": 266,
   "metadata": {},
   "outputs": [],
   "source": [
    "count = CountVectorizer()\n",
    "count_matrix = count.fit_transform(data['label'])\n",
    "csm_count = cosine_similarity(count_matrix, count_matrix)"
   ]
  },
  {
   "cell_type": "markdown",
   "metadata": {},
   "source": [
    "## Test Recommendations"
   ]
  },
  {
   "cell_type": "markdown",
   "metadata": {},
   "source": [
    "Tạo indices với key là name (tên của điện thoại)"
   ]
  },
  {
   "cell_type": "code",
   "execution_count": 267,
   "metadata": {},
   "outputs": [],
   "source": [
    "# recommmendation function\n",
    "indices = pd.Series(data.index, index=data.name)"
   ]
  },
  {
   "cell_type": "code",
   "execution_count": 268,
   "metadata": {},
   "outputs": [
    {
     "data": {
      "text/plain": [
       "name\n",
       "/dtdd/iphone-11                             0\n",
       "/dtdd/iphone-12                             1\n",
       "/dtdd/iphone-13                             2\n",
       "/dtdd/iphone-14                             3\n",
       "/dtdd/iphone-14-plus                        4\n",
       "                                         ... \n",
       "/may-tinh-bang/tcl-tab-11                 129\n",
       "/may-tinh-bang/xiaomi-pad-6               130\n",
       "/may-tinh-bang/xiaomi-redmi-pad-se        131\n",
       "/may-tinh-bang/xiaomi-redmi-pad-se-4gb    132\n",
       "/may-tinh-bang/xiaomi-redmi-pad-se-8gb    133\n",
       "Length: 134, dtype: int64"
      ]
     },
     "execution_count": 268,
     "metadata": {},
     "output_type": "execute_result"
    }
   ],
   "source": [
    "indices"
   ]
  },
  {
   "cell_type": "markdown",
   "metadata": {},
   "source": [
    "Hàm recommend"
   ]
  },
  {
   "cell_type": "code",
   "execution_count": 269,
   "metadata": {},
   "outputs": [],
   "source": [
    "def recommend(post, csm=csm_count):        # choosing this csm as it covers both aspects\n",
    "    idx = indices[post]\n",
    "    score_series = list(enumerate(csm[idx]))\n",
    "    score_series = sorted(score_series, key=lambda x: x[1], reverse=True)\n",
    "    score_series = score_series[1:11]   # not recommending the original post itself, starting from 1\n",
    "    post_indices = [i[0] for i in score_series]\n",
    "    return data.loc[post_indices]"
   ]
  },
  {
   "cell_type": "code",
   "execution_count": 270,
   "metadata": {},
   "outputs": [
    {
     "data": {
      "text/html": [
       "<div>\n",
       "<style scoped>\n",
       "    .dataframe tbody tr th:only-of-type {\n",
       "        vertical-align: middle;\n",
       "    }\n",
       "\n",
       "    .dataframe tbody tr th {\n",
       "        vertical-align: top;\n",
       "    }\n",
       "\n",
       "    .dataframe thead th {\n",
       "        text-align: right;\n",
       "    }\n",
       "</style>\n",
       "<table border=\"1\" class=\"dataframe\">\n",
       "  <thead>\n",
       "    <tr style=\"text-align: right;\">\n",
       "      <th></th>\n",
       "      <th>name</th>\n",
       "      <th>label</th>\n",
       "    </tr>\n",
       "  </thead>\n",
       "  <tbody>\n",
       "    <tr>\n",
       "      <th>53</th>\n",
       "      <td>/dtdd/realme-c30s-3gb-64gb</td>\n",
       "      <td>máy khung màn_hình kết_hợp tích_hợp thiết_kế k...</td>\n",
       "    </tr>\n",
       "    <tr>\n",
       "      <th>85</th>\n",
       "      <td>/dtdd/vivo-y22s-8gb?utm_flashsale=1</td>\n",
       "      <td>màu_sắc vivo_y22s nhẹ ánh_sáng xanh_dương y22s...</td>\n",
       "    </tr>\n",
       "    <tr>\n",
       "      <th>30</th>\n",
       "      <td>/dtdd/oppo-a17k</td>\n",
       "      <td>điện_thoại máy cứng_cáp nhựa chip nhanh_chóng ...</td>\n",
       "    </tr>\n",
       "    <tr>\n",
       "      <th>86</th>\n",
       "      <td>/dtdd/vivo-y35-2022?utm_flashsale=1</td>\n",
       "      <td>điện_thoại máy 2022 cứng_cáp năng_lượng đa_nhi...</td>\n",
       "    </tr>\n",
       "    <tr>\n",
       "      <th>36</th>\n",
       "      <td>/dtdd/oppo-a79-5g</td>\n",
       "      <td>thủy_tinh_hữu_cơ hình_chữ_nhật giao_tranh sở_h...</td>\n",
       "    </tr>\n",
       "    <tr>\n",
       "      <th>49</th>\n",
       "      <td>/dtdd/realme-10</td>\n",
       "      <td>máy điện_thoại độ_chính_xác thủy_tinh_hữu_cơ t...</td>\n",
       "    </tr>\n",
       "    <tr>\n",
       "      <th>47</th>\n",
       "      <td>/dtdd/oppo-reno8-t-5g?utm_flashsale=1</td>\n",
       "      <td>cao_cấp thiết_kế tổng_kết thủy_tinh_hữu_cơ đa_...</td>\n",
       "    </tr>\n",
       "    <tr>\n",
       "      <th>94</th>\n",
       "      <td>/dtdd/xiaomi-redmi-a3</td>\n",
       "      <td>camera_hình camera redmi_a3 redmi thoải_mái ch...</td>\n",
       "    </tr>\n",
       "    <tr>\n",
       "      <th>29</th>\n",
       "      <td>/dtdd/oppo-a17?utm_flashsale=1</td>\n",
       "      <td>nhựa mềm máy nhẹ chất_lượng nhanh_chóng dễ_dàn...</td>\n",
       "    </tr>\n",
       "    <tr>\n",
       "      <th>63</th>\n",
       "      <td>/dtdd/samsung-galaxy-a14-5g</td>\n",
       "      <td>samsung galaxy android a14 hd điện_thoại máy c...</td>\n",
       "    </tr>\n",
       "  </tbody>\n",
       "</table>\n",
       "</div>"
      ],
      "text/plain": [
       "                                     name  \\\n",
       "53             /dtdd/realme-c30s-3gb-64gb   \n",
       "85    /dtdd/vivo-y22s-8gb?utm_flashsale=1   \n",
       "30                        /dtdd/oppo-a17k   \n",
       "86    /dtdd/vivo-y35-2022?utm_flashsale=1   \n",
       "36                      /dtdd/oppo-a79-5g   \n",
       "49                        /dtdd/realme-10   \n",
       "47  /dtdd/oppo-reno8-t-5g?utm_flashsale=1   \n",
       "94                  /dtdd/xiaomi-redmi-a3   \n",
       "29         /dtdd/oppo-a17?utm_flashsale=1   \n",
       "63            /dtdd/samsung-galaxy-a14-5g   \n",
       "\n",
       "                                                label  \n",
       "53  máy khung màn_hình kết_hợp tích_hợp thiết_kế k...  \n",
       "85  màu_sắc vivo_y22s nhẹ ánh_sáng xanh_dương y22s...  \n",
       "30  điện_thoại máy cứng_cáp nhựa chip nhanh_chóng ...  \n",
       "86  điện_thoại máy 2022 cứng_cáp năng_lượng đa_nhi...  \n",
       "36  thủy_tinh_hữu_cơ hình_chữ_nhật giao_tranh sở_h...  \n",
       "49  máy điện_thoại độ_chính_xác thủy_tinh_hữu_cơ t...  \n",
       "47  cao_cấp thiết_kế tổng_kết thủy_tinh_hữu_cơ đa_...  \n",
       "94  camera_hình camera redmi_a3 redmi thoải_mái ch...  \n",
       "29  nhựa mềm máy nhẹ chất_lượng nhanh_chóng dễ_dàn...  \n",
       "63  samsung galaxy android a14 hd điện_thoại máy c...  "
      ]
     },
     "execution_count": 270,
     "metadata": {},
     "output_type": "execute_result"
    }
   ],
   "source": [
    "data_rec = recommend('/dtdd/samsung-galaxy-a04s')\n",
    "data_rec[['name', 'label']]"
   ]
  },
  {
   "cell_type": "markdown",
   "metadata": {},
   "source": [
    "Mô tả quá trình recommend sử dụng matrix"
   ]
  },
  {
   "cell_type": "code",
   "execution_count": 271,
   "metadata": {},
   "outputs": [],
   "source": [
    "post = '/dtdd/iphone-14-plus'"
   ]
  },
  {
   "cell_type": "code",
   "execution_count": 272,
   "metadata": {},
   "outputs": [
    {
     "data": {
      "text/plain": [
       "4"
      ]
     },
     "execution_count": 272,
     "metadata": {},
     "output_type": "execute_result"
    }
   ],
   "source": [
    "idx = indices[post]\n",
    "idx"
   ]
  },
  {
   "cell_type": "code",
   "execution_count": 273,
   "metadata": {},
   "outputs": [
    {
     "data": {
      "text/plain": [
       "[(0, 0.2997202997204493),\n",
       " (1, 0.2659159586619983),\n",
       " (2, 0.3360000000000002),\n",
       " (3, 0.4360000000000003),\n",
       " (4, 1.0000000000000007),\n",
       " (5, 0.32853916736992567),\n",
       " (6, 0.3720000000000002),\n",
       " (7, 0.2160000000000001),\n",
       " (8, 0.2600000000000001),\n",
       " (9, 0.24000000000000013),\n",
       " (10, 0.19986296675335338),\n",
       " (11, 0.2168432129926576),\n",
       " (12, 0.29804059091439034),\n",
       " (13, 0.19688854885731927),\n",
       " (14, 0.21936339884283254),\n",
       " (15, 0.16484511834894683),\n",
       " (16, 0.2231436834155872),\n",
       " (17, 0.2241893609545677),\n",
       " (18, 0.2826489181987154),\n",
       " (19, 0.2472393025537662),\n",
       " (20, 0.24678382369818658),\n",
       " (21, 0.24693395463717804),\n",
       " (22, 0.28509866713122334),\n",
       " (23, 0.23306957882020657),\n",
       " (24, 0.17483467670660893),\n",
       " (25, 0.21915421836818777),\n",
       " (26, 0.21634097809573394),\n",
       " (27, 0.16960529899389498),\n",
       " (28, 0.21721803209997959),\n",
       " (29, 0.3400000000000002),\n",
       " (30, 0.3400000000000002),\n",
       " (31, 0.30917219141796787),\n",
       " (32, 0.2949645430092452),\n",
       " (33, 0.2271847336988261),\n",
       " (34, 0.28527988955517947),\n",
       " (35, 0.29655979568764945),\n",
       " (36, 0.3018163637195748),\n",
       " (37, 0.3395352861284307),\n",
       " (38, 0.28400000000000014),\n",
       " (39, 0.2560000000000001),\n",
       " (40, 0.30000000000000016),\n",
       " (41, 0.3240000000000002),\n",
       " (42, 0.34570535882735626),\n",
       " (43, 0.3560000000000002),\n",
       " (44, 0.29600000000000015),\n",
       " (45, 0.30555031639751656),\n",
       " (46, 0.29200000000000015),\n",
       " (47, 0.3414013961523854),\n",
       " (48, 0.30800000000000016),\n",
       " (49, 0.3360000000000002),\n",
       " (50, 0.31200000000000017),\n",
       " (51, 0.3320000000000002),\n",
       " (52, 0.3200000000000002),\n",
       " (53, 0.3290778592414298),\n",
       " (54, 0.2560000000000001),\n",
       " (55, 0.30000000000000016),\n",
       " (56, 0.3200000000000002),\n",
       " (57, 0.3195048252113469),\n",
       " (58, 0.30400000000000016),\n",
       " (59, 0.29600000000000015),\n",
       " (60, 0.2549424115124297),\n",
       " (61, 0.30400000000000016),\n",
       " (62, 0.29764952224930247),\n",
       " (63, 0.34087913042643686),\n",
       " (64, 0.30086431662225227),\n",
       " (65, 0.34415494032603927),\n",
       " (66, 0.29065650346675326),\n",
       " (67, 0.30555031639751656),\n",
       " (68, 0.31957418477478455),\n",
       " (69, 0.3240000000000002),\n",
       " (70, 0.28400000000000014),\n",
       " (71, 0.3200000000000002),\n",
       " (72, 0.31600000000000017),\n",
       " (73, 0.30800000000000016),\n",
       " (74, 0.3280000000000002),\n",
       " (75, 0.31600000000000017),\n",
       " (76, 0.2680000000000001),\n",
       " (77, 0.28400000000000014),\n",
       " (78, 0.30800000000000016),\n",
       " (79, 0.30800000000000016),\n",
       " (80, 0.3520000000000002),\n",
       " (81, 0.3177723290534173),\n",
       " (82, 0.2484519974999766),\n",
       " (83, 0.2966809866559317),\n",
       " (84, 0.31200000000000017),\n",
       " (85, 0.3280000000000002),\n",
       " (86, 0.3520000000000002),\n",
       " (87, 0.28864392478504636),\n",
       " (88, 0.3225161494664522),\n",
       " (89, 0.30400000000000016),\n",
       " (90, 0.27600000000000013),\n",
       " (91, 0.27600000000000013),\n",
       " (92, 0.29200000000000015),\n",
       " (93, 0.30000000000000016),\n",
       " (94, 0.2939387691339817),\n",
       " (95, 0.30137821558438666),\n",
       " (96, 0.3360000000000002),\n",
       " (97, 0.29659378194079455),\n",
       " (98, 0.3293470564132538),\n",
       " (99, 0.3044310445233294),\n",
       " (100, 0.30311143694997145),\n",
       " (101, 0.29600000000000015),\n",
       " (102, 0.15513435037626785),\n",
       " (103, 0.3520000000000002),\n",
       " (104, 0.29200000000000015),\n",
       " (105, 0.3041305851834642),\n",
       " (106, 0.31200000000000017),\n",
       " (107, 0.3079326400732972),\n",
       " (108, 0.28941438070815306),\n",
       " (109, 0.27351925962924056),\n",
       " (110, 0.23631790843301287),\n",
       " (111, 0.2199220641175286),\n",
       " (112, 0.2687201635824699),\n",
       " (113, 0.28660224191450884),\n",
       " (114, 0.28606826378749467),\n",
       " (115, 0.2574247772137849),\n",
       " (116, 0.29376792735371954),\n",
       " (117, 0.30800000000000016),\n",
       " (118, 0.2550992556870774),\n",
       " (119, 0.28114539840220587),\n",
       " (120, 0.23668231560156464),\n",
       " (121, 0.28668568022362606),\n",
       " (122, 0.3048305414261747),\n",
       " (123, 0.2600000000000001),\n",
       " (124, 0.25666226577391366),\n",
       " (125, 0.28800000000000014),\n",
       " (126, 0.28850822210060717),\n",
       " (127, 0.2806585661782496),\n",
       " (128, 0.3018497979005631),\n",
       " (129, 0.25491174943497574),\n",
       " (130, 0.23737697042248362),\n",
       " (131, 0.2846722639674273),\n",
       " (132, 0.24748945190974167),\n",
       " (133, 0.27225504038960163)]"
      ]
     },
     "execution_count": 273,
     "metadata": {},
     "output_type": "execute_result"
    }
   ],
   "source": [
    "score_series = list(enumerate(csm_count[idx]))\n",
    "score_series"
   ]
  },
  {
   "cell_type": "code",
   "execution_count": 274,
   "metadata": {},
   "outputs": [
    {
     "data": {
      "text/plain": [
       "[(4, 1.0000000000000007),\n",
       " (3, 0.4360000000000003),\n",
       " (6, 0.3720000000000002),\n",
       " (43, 0.3560000000000002),\n",
       " (80, 0.3520000000000002),\n",
       " (86, 0.3520000000000002),\n",
       " (103, 0.3520000000000002),\n",
       " (42, 0.34570535882735626),\n",
       " (65, 0.34415494032603927),\n",
       " (47, 0.3414013961523854),\n",
       " (63, 0.34087913042643686),\n",
       " (29, 0.3400000000000002),\n",
       " (30, 0.3400000000000002),\n",
       " (37, 0.3395352861284307),\n",
       " (2, 0.3360000000000002),\n",
       " (49, 0.3360000000000002),\n",
       " (96, 0.3360000000000002),\n",
       " (51, 0.3320000000000002),\n",
       " (98, 0.3293470564132538),\n",
       " (53, 0.3290778592414298),\n",
       " (5, 0.32853916736992567),\n",
       " (74, 0.3280000000000002),\n",
       " (85, 0.3280000000000002),\n",
       " (41, 0.3240000000000002),\n",
       " (69, 0.3240000000000002),\n",
       " (88, 0.3225161494664522),\n",
       " (52, 0.3200000000000002),\n",
       " (56, 0.3200000000000002),\n",
       " (71, 0.3200000000000002),\n",
       " (68, 0.31957418477478455),\n",
       " (57, 0.3195048252113469),\n",
       " (81, 0.3177723290534173),\n",
       " (72, 0.31600000000000017),\n",
       " (75, 0.31600000000000017),\n",
       " (50, 0.31200000000000017),\n",
       " (84, 0.31200000000000017),\n",
       " (106, 0.31200000000000017),\n",
       " (31, 0.30917219141796787),\n",
       " (48, 0.30800000000000016),\n",
       " (73, 0.30800000000000016),\n",
       " (78, 0.30800000000000016),\n",
       " (79, 0.30800000000000016),\n",
       " (117, 0.30800000000000016),\n",
       " (107, 0.3079326400732972),\n",
       " (45, 0.30555031639751656),\n",
       " (67, 0.30555031639751656),\n",
       " (122, 0.3048305414261747),\n",
       " (99, 0.3044310445233294),\n",
       " (105, 0.3041305851834642),\n",
       " (58, 0.30400000000000016),\n",
       " (61, 0.30400000000000016),\n",
       " (89, 0.30400000000000016),\n",
       " (100, 0.30311143694997145),\n",
       " (128, 0.3018497979005631),\n",
       " (36, 0.3018163637195748),\n",
       " (95, 0.30137821558438666),\n",
       " (64, 0.30086431662225227),\n",
       " (40, 0.30000000000000016),\n",
       " (55, 0.30000000000000016),\n",
       " (93, 0.30000000000000016),\n",
       " (0, 0.2997202997204493),\n",
       " (12, 0.29804059091439034),\n",
       " (62, 0.29764952224930247),\n",
       " (83, 0.2966809866559317),\n",
       " (97, 0.29659378194079455),\n",
       " (35, 0.29655979568764945),\n",
       " (44, 0.29600000000000015),\n",
       " (59, 0.29600000000000015),\n",
       " (101, 0.29600000000000015),\n",
       " (32, 0.2949645430092452),\n",
       " (94, 0.2939387691339817),\n",
       " (116, 0.29376792735371954),\n",
       " (46, 0.29200000000000015),\n",
       " (92, 0.29200000000000015),\n",
       " (104, 0.29200000000000015),\n",
       " (66, 0.29065650346675326),\n",
       " (108, 0.28941438070815306),\n",
       " (87, 0.28864392478504636),\n",
       " (126, 0.28850822210060717),\n",
       " (125, 0.28800000000000014),\n",
       " (121, 0.28668568022362606),\n",
       " (113, 0.28660224191450884),\n",
       " (114, 0.28606826378749467),\n",
       " (34, 0.28527988955517947),\n",
       " (22, 0.28509866713122334),\n",
       " (131, 0.2846722639674273),\n",
       " (38, 0.28400000000000014),\n",
       " (70, 0.28400000000000014),\n",
       " (77, 0.28400000000000014),\n",
       " (18, 0.2826489181987154),\n",
       " (119, 0.28114539840220587),\n",
       " (127, 0.2806585661782496),\n",
       " (90, 0.27600000000000013),\n",
       " (91, 0.27600000000000013),\n",
       " (109, 0.27351925962924056),\n",
       " (133, 0.27225504038960163),\n",
       " (112, 0.2687201635824699),\n",
       " (76, 0.2680000000000001),\n",
       " (1, 0.2659159586619983),\n",
       " (8, 0.2600000000000001),\n",
       " (123, 0.2600000000000001),\n",
       " (115, 0.2574247772137849),\n",
       " (124, 0.25666226577391366),\n",
       " (39, 0.2560000000000001),\n",
       " (54, 0.2560000000000001),\n",
       " (118, 0.2550992556870774),\n",
       " (60, 0.2549424115124297),\n",
       " (129, 0.25491174943497574),\n",
       " (82, 0.2484519974999766),\n",
       " (132, 0.24748945190974167),\n",
       " (19, 0.2472393025537662),\n",
       " (21, 0.24693395463717804),\n",
       " (20, 0.24678382369818658),\n",
       " (9, 0.24000000000000013),\n",
       " (130, 0.23737697042248362),\n",
       " (120, 0.23668231560156464),\n",
       " (110, 0.23631790843301287),\n",
       " (23, 0.23306957882020657),\n",
       " (33, 0.2271847336988261),\n",
       " (17, 0.2241893609545677),\n",
       " (16, 0.2231436834155872),\n",
       " (111, 0.2199220641175286),\n",
       " (14, 0.21936339884283254),\n",
       " (25, 0.21915421836818777),\n",
       " (28, 0.21721803209997959),\n",
       " (11, 0.2168432129926576),\n",
       " (26, 0.21634097809573394),\n",
       " (7, 0.2160000000000001),\n",
       " (10, 0.19986296675335338),\n",
       " (13, 0.19688854885731927),\n",
       " (24, 0.17483467670660893),\n",
       " (27, 0.16960529899389498),\n",
       " (15, 0.16484511834894683),\n",
       " (102, 0.15513435037626785)]"
      ]
     },
     "execution_count": 274,
     "metadata": {},
     "output_type": "execute_result"
    }
   ],
   "source": [
    "score_series = sorted(score_series, key=lambda x: x[1], reverse=True)\n",
    "score_series"
   ]
  },
  {
   "cell_type": "code",
   "execution_count": 275,
   "metadata": {},
   "outputs": [
    {
     "data": {
      "text/plain": [
       "[(3, 0.4360000000000003),\n",
       " (6, 0.3720000000000002),\n",
       " (43, 0.3560000000000002),\n",
       " (80, 0.3520000000000002),\n",
       " (86, 0.3520000000000002),\n",
       " (103, 0.3520000000000002),\n",
       " (42, 0.34570535882735626),\n",
       " (65, 0.34415494032603927),\n",
       " (47, 0.3414013961523854),\n",
       " (63, 0.34087913042643686)]"
      ]
     },
     "execution_count": 275,
     "metadata": {},
     "output_type": "execute_result"
    }
   ],
   "source": [
    "score_series = score_series[1:11]   # not recommending the original post itself, starting from 1\n",
    "score_series"
   ]
  },
  {
   "cell_type": "code",
   "execution_count": 276,
   "metadata": {},
   "outputs": [
    {
     "data": {
      "text/plain": [
       "[3, 6, 43, 80, 86, 103, 42, 65, 47, 63]"
      ]
     },
     "execution_count": 276,
     "metadata": {},
     "output_type": "execute_result"
    }
   ],
   "source": [
    "post_indices = [i[0] for i in score_series]\n",
    "post_indices"
   ]
  },
  {
   "cell_type": "code",
   "execution_count": 277,
   "metadata": {},
   "outputs": [
    {
     "data": {
      "text/html": [
       "<div>\n",
       "<style scoped>\n",
       "    .dataframe tbody tr th:only-of-type {\n",
       "        vertical-align: middle;\n",
       "    }\n",
       "\n",
       "    .dataframe tbody tr th {\n",
       "        vertical-align: top;\n",
       "    }\n",
       "\n",
       "    .dataframe thead th {\n",
       "        text-align: right;\n",
       "    }\n",
       "</style>\n",
       "<table border=\"1\" class=\"dataframe\">\n",
       "  <thead>\n",
       "    <tr style=\"text-align: right;\">\n",
       "      <th></th>\n",
       "      <th>name</th>\n",
       "      <th>label</th>\n",
       "    </tr>\n",
       "  </thead>\n",
       "  <tbody>\n",
       "    <tr>\n",
       "      <th>3</th>\n",
       "      <td>/dtdd/iphone-14</td>\n",
       "      <td>iphone apple điện_thoại điện_ảnh máy app chip ...</td>\n",
       "    </tr>\n",
       "    <tr>\n",
       "      <th>6</th>\n",
       "      <td>/dtdd/iphone-14-pro-max</td>\n",
       "      <td>iphone smartphone apple gb pixels max zoom_qua...</td>\n",
       "    </tr>\n",
       "    <tr>\n",
       "      <th>43</th>\n",
       "      <td>/dtdd/oppo-reno10-pro-plus</td>\n",
       "      <td>camera_chính camera_góc camera chụp hình_ảnh ả...</td>\n",
       "    </tr>\n",
       "    <tr>\n",
       "      <th>80</th>\n",
       "      <td>/dtdd/vivo-v29-5g</td>\n",
       "      <td>camera tốc_độ pixels chụp vivo_v27e nhanh_chón...</td>\n",
       "    </tr>\n",
       "    <tr>\n",
       "      <th>86</th>\n",
       "      <td>/dtdd/vivo-y35-2022?utm_flashsale=1</td>\n",
       "      <td>điện_thoại máy 2022 cứng_cáp năng_lượng đa_nhi...</td>\n",
       "    </tr>\n",
       "    <tr>\n",
       "      <th>103</th>\n",
       "      <td>/may-tinh-bang/ipad-gen-10</td>\n",
       "      <td>ipad ipados nhà_apple máy_tính cài_đặt tablet ...</td>\n",
       "    </tr>\n",
       "    <tr>\n",
       "      <th>42</th>\n",
       "      <td>/dtdd/oppo-reno10-pro</td>\n",
       "      <td>camera máy hd_kích_thước portrait_cam tốc_độ c...</td>\n",
       "    </tr>\n",
       "    <tr>\n",
       "      <th>65</th>\n",
       "      <td>/dtdd/samsung-galaxy-a15-5g</td>\n",
       "      <td>samsung galaxy galaxy_a điện_thoại camera_góc ...</td>\n",
       "    </tr>\n",
       "    <tr>\n",
       "      <th>47</th>\n",
       "      <td>/dtdd/oppo-reno8-t-5g?utm_flashsale=1</td>\n",
       "      <td>cao_cấp thiết_kế tổng_kết thủy_tinh_hữu_cơ đa_...</td>\n",
       "    </tr>\n",
       "    <tr>\n",
       "      <th>63</th>\n",
       "      <td>/dtdd/samsung-galaxy-a14-5g</td>\n",
       "      <td>samsung galaxy android a14 hd điện_thoại máy c...</td>\n",
       "    </tr>\n",
       "  </tbody>\n",
       "</table>\n",
       "</div>"
      ],
      "text/plain": [
       "                                      name  \\\n",
       "3                          /dtdd/iphone-14   \n",
       "6                  /dtdd/iphone-14-pro-max   \n",
       "43              /dtdd/oppo-reno10-pro-plus   \n",
       "80                       /dtdd/vivo-v29-5g   \n",
       "86     /dtdd/vivo-y35-2022?utm_flashsale=1   \n",
       "103             /may-tinh-bang/ipad-gen-10   \n",
       "42                   /dtdd/oppo-reno10-pro   \n",
       "65             /dtdd/samsung-galaxy-a15-5g   \n",
       "47   /dtdd/oppo-reno8-t-5g?utm_flashsale=1   \n",
       "63             /dtdd/samsung-galaxy-a14-5g   \n",
       "\n",
       "                                                 label  \n",
       "3    iphone apple điện_thoại điện_ảnh máy app chip ...  \n",
       "6    iphone smartphone apple gb pixels max zoom_qua...  \n",
       "43   camera_chính camera_góc camera chụp hình_ảnh ả...  \n",
       "80   camera tốc_độ pixels chụp vivo_v27e nhanh_chón...  \n",
       "86   điện_thoại máy 2022 cứng_cáp năng_lượng đa_nhi...  \n",
       "103  ipad ipados nhà_apple máy_tính cài_đặt tablet ...  \n",
       "42   camera máy hd_kích_thước portrait_cam tốc_độ c...  \n",
       "65   samsung galaxy galaxy_a điện_thoại camera_góc ...  \n",
       "47   cao_cấp thiết_kế tổng_kết thủy_tinh_hữu_cơ đa_...  \n",
       "63   samsung galaxy android a14 hd điện_thoại máy c...  "
      ]
     },
     "execution_count": 277,
     "metadata": {},
     "output_type": "execute_result"
    }
   ],
   "source": [
    "data.loc[post_indices][['name', 'label']]"
   ]
  },
  {
   "cell_type": "markdown",
   "metadata": {},
   "source": [
    "# 3. Test add user request"
   ]
  },
  {
   "cell_type": "markdown",
   "metadata": {},
   "source": [
    "Extract keywords from user request"
   ]
  },
  {
   "cell_type": "code",
   "execution_count": 278,
   "metadata": {},
   "outputs": [],
   "source": [
    "from keybert import KeyBERT\n",
    "\n",
    "kw_model = KeyBERT(model=\"paraphrase-multilingual-MiniLM-L12-v2\")"
   ]
  },
  {
   "cell_type": "code",
   "execution_count": 279,
   "metadata": {},
   "outputs": [
    {
     "data": {
      "text/plain": [
       "['android',\n",
       " 'rẻ',\n",
       " 'giá',\n",
       " 'điện_thoại',\n",
       " 'game',\n",
       " 'triệu',\n",
       " 'chụp',\n",
       " 'điều_hành',\n",
       " 'đủ',\n",
       " 'một']"
      ]
     },
     "execution_count": 279,
     "metadata": {},
     "output_type": "execute_result"
    }
   ],
   "source": [
    "doc = \"\"\"\n",
    "      Tôi muốn một chiếc điện thoại giá rẻ, đủ để chơi game, nghe nhạc chụp hình. Hệ điều hành phải là android. Giá từ 3 - 5 triệu\n",
    "      \"\"\"\n",
    "doc_pre = preprocess_text(doc)\n",
    "keywords = kw_model.extract_keywords(doc_pre, top_n=10, use_mmr=True)\n",
    "keywords = [word[0] for word in keywords]\n",
    "keywords"
   ]
  },
  {
   "cell_type": "markdown",
   "metadata": {},
   "source": [
    "Recommend function with keywords"
   ]
  },
  {
   "cell_type": "code",
   "execution_count": 280,
   "metadata": {},
   "outputs": [],
   "source": [
    "def recommend(keywords):\n",
    "    import pandas as pd\n",
    "    data = pd.read_csv(\"tgdd_product_description_grouped_preprocessed_labeled.csv\")\n",
    "    \n",
    "    # Import the ast module\n",
    "    import ast\n",
    "    data['label'] = data['label'].apply(lambda x: ast.literal_eval(x))\n",
    "    data['label'] = data['label'].apply(lambda x: \" \".join(x))\n",
    "    \n",
    "    user_request = {\"name\": \"user_request\", \"label\": \" \".join(keywords)}\n",
    "    data = pd.concat([data, pd.DataFrame([user_request])], ignore_index=True)\n",
    "\n",
    "    count = CountVectorizer()\n",
    "    count_matrix = count.fit_transform(data['label'])\n",
    "    csm_count = cosine_similarity(count_matrix, count_matrix)\n",
    "    \n",
    "    indices = pd.Series(data.index, index=data.name)\n",
    "    idx = indices[\"user_request\"]\n",
    "    score_series = list(enumerate(csm_count[idx]))\n",
    "    score_series = sorted(score_series, key=lambda x: x[1], reverse=True)\n",
    "    score_series = score_series[1:11]   # not recommending the original post itself, starting from 1\n",
    "    post_indices = [i[0] for i in score_series]\n",
    "    return data.loc[post_indices]"
   ]
  },
  {
   "cell_type": "code",
   "execution_count": 281,
   "metadata": {},
   "outputs": [
    {
     "data": {
      "text/html": [
       "<div>\n",
       "<style scoped>\n",
       "    .dataframe tbody tr th:only-of-type {\n",
       "        vertical-align: middle;\n",
       "    }\n",
       "\n",
       "    .dataframe tbody tr th {\n",
       "        vertical-align: top;\n",
       "    }\n",
       "\n",
       "    .dataframe thead th {\n",
       "        text-align: right;\n",
       "    }\n",
       "</style>\n",
       "<table border=\"1\" class=\"dataframe\">\n",
       "  <thead>\n",
       "    <tr style=\"text-align: right;\">\n",
       "      <th></th>\n",
       "      <th>Unnamed: 0</th>\n",
       "      <th>name</th>\n",
       "      <th>description</th>\n",
       "      <th>label</th>\n",
       "      <th>x_corpus</th>\n",
       "      <th>y_label</th>\n",
       "    </tr>\n",
       "  </thead>\n",
       "  <tbody>\n",
       "    <tr>\n",
       "      <th>82</th>\n",
       "      <td>82.0</td>\n",
       "      <td>/dtdd/vivo-y02t</td>\n",
       "      <td>điện_thoại vivo thiết_kế đơn_giản tinh_tế thân...</td>\n",
       "      <td>camera pixels video hình_ảnh flash chụp hd ảnh...</td>\n",
       "      <td>['điện_thoại', 'vivo', 'thiết_kế', 'đơn_giản',...</td>\n",
       "      <td>[1, 1, 1, 1, 1, 1, 1, 0, 1, 1, 1, 1, 1, 1, 1, ...</td>\n",
       "    </tr>\n",
       "    <tr>\n",
       "      <th>12</th>\n",
       "      <td>12.0</td>\n",
       "      <td>/dtdd/itel-l6502</td>\n",
       "      <td>itel l6502 ra_mắt tiêu_dùng màu_sắc trẻ trung_...</td>\n",
       "      <td>điện_thoại nhu_cầu tiêu_dùng tinh_chỉnh máy ng...</td>\n",
       "      <td>['itel', 'l6502', 'ra_mắt', 'tiêu_dùng', 'màu_...</td>\n",
       "      <td>[1, 1, 1, 1, 1, 1, 1, 1, 1, 1, 1, 1, 1, 1, 1, ...</td>\n",
       "    </tr>\n",
       "    <tr>\n",
       "      <th>62</th>\n",
       "      <td>62.0</td>\n",
       "      <td>/dtdd/samsung-galaxy-a14</td>\n",
       "      <td>samsung galaxy a14 4 g thiết_kế thừa_hưởng vẻ ...</td>\n",
       "      <td>samsung galaxy smartphone android điện_thoại m...</td>\n",
       "      <td>['samsung', 'galaxy', 'a14', '4', 'g', 'thiết_...</td>\n",
       "      <td>[1, 1, 1, 0, 0, 1, 1, 1, 1, 1, 1, 1, 1, 1, 1, ...</td>\n",
       "    </tr>\n",
       "    <tr>\n",
       "      <th>33</th>\n",
       "      <td>33.0</td>\n",
       "      <td>/dtdd/oppo-a57-128gb?utm_flashsale=1</td>\n",
       "      <td>điện_thoại oppo_a màn_hình giọt mặt khung viền...</td>\n",
       "      <td>gb hd pixels f22_cảm hdr máy điện_thoại g35 10...</td>\n",
       "      <td>['điện_thoại', 'oppo_a', 'màn_hình', 'giọt', '...</td>\n",
       "      <td>[1, 1, 1, 1, 1, 1, 1, 1, 1, 1, 1, 1, 1, 1, 0, ...</td>\n",
       "    </tr>\n",
       "    <tr>\n",
       "      <th>57</th>\n",
       "      <td>57.0</td>\n",
       "      <td>/dtdd/realme-c60</td>\n",
       "      <td>realme c60 bắt_gặp thiết_kế quen_thuộc khung v...</td>\n",
       "      <td>máy điện_thoại c60 gb t612 hd tốc_độ chip thiế...</td>\n",
       "      <td>['realme', 'c60', 'bắt_gặp', 'thiết_kế', 'quen...</td>\n",
       "      <td>[1, 1, 1, 1, 1, 1, 1, 1, 1, 1, 1, 1, 1, 1, 1, ...</td>\n",
       "    </tr>\n",
       "    <tr>\n",
       "      <th>129</th>\n",
       "      <td>129.0</td>\n",
       "      <td>/may-tinh-bang/tcl-tab-11</td>\n",
       "      <td>tcl tab 11 wifi máy_tính bảng thiết_kế vuông_v...</td>\n",
       "      <td>wifi_tích wifi tcl nhôm_nguyên internet lcd má...</td>\n",
       "      <td>['tcl', 'tab', '11', 'wifi', 'máy_tính', 'bảng...</td>\n",
       "      <td>[1, 1, 1, 1, 1, 1, 1, 1, 1, 1, 1, 1, 1, 1, 1, ...</td>\n",
       "    </tr>\n",
       "    <tr>\n",
       "      <th>63</th>\n",
       "      <td>63.0</td>\n",
       "      <td>/dtdd/samsung-galaxy-a14-5g</td>\n",
       "      <td>galaxy a14 cảm_hứng thiết_kế mẫu điện_thoại sa...</td>\n",
       "      <td>samsung galaxy android a14 hd điện_thoại máy c...</td>\n",
       "      <td>['galaxy', 'a14', 'cảm_hứng', 'thiết_kế', 'mẫu...</td>\n",
       "      <td>[1, 1, 1, 1, 1, 1, 1, 1, 0, 1, 1, 1, 1, 1, 1, ...</td>\n",
       "    </tr>\n",
       "    <tr>\n",
       "      <th>83</th>\n",
       "      <td>83.0</td>\n",
       "      <td>/dtdd/vivo-y03-64gb</td>\n",
       "      <td>thiết_kế vuông vức vivo y03 64 gb sản_phẩm điệ...</td>\n",
       "      <td>máy cpu microsd điện_thoại nhanh_chóng gb nhựa...</td>\n",
       "      <td>['thiết_kế', 'vuông', 'vức', 'vivo', 'y03', '6...</td>\n",
       "      <td>[1, 1, 1, 1, 1, 1, 1, 1, 1, 1, 1, 1, 1, 1, 1, ...</td>\n",
       "    </tr>\n",
       "    <tr>\n",
       "      <th>53</th>\n",
       "      <td>53.0</td>\n",
       "      <td>/dtdd/realme-c30s-3gb-64gb</td>\n",
       "      <td>realme c30s máy thiết_kế đẹp nổi_bật tầm_giá n...</td>\n",
       "      <td>máy khung màn_hình kết_hợp tích_hợp thiết_kế k...</td>\n",
       "      <td>['realme', 'c30s', 'máy', 'thiết_kế', 'đẹp', '...</td>\n",
       "      <td>[1, 1, 1, 1, 1, 1, 1, 1, 1, 1, 1, 1, 1, 1, 1, ...</td>\n",
       "    </tr>\n",
       "    <tr>\n",
       "      <th>60</th>\n",
       "      <td>60.0</td>\n",
       "      <td>/dtdd/samsung-galaxy-a05-4gb</td>\n",
       "      <td>samsung galaxy_a05 mục_tiêu đem sang_trọng hợp...</td>\n",
       "      <td>samsung galaxy_a05 galaxy android điện_thoại_d...</td>\n",
       "      <td>['samsung', 'galaxy_a05', 'mục_tiêu', 'đem', '...</td>\n",
       "      <td>[1, 1, 1, 1, 1, 1, 1, 1, 1, 1, 1, 1, 1, 1, 1, ...</td>\n",
       "    </tr>\n",
       "  </tbody>\n",
       "</table>\n",
       "</div>"
      ],
      "text/plain": [
       "     Unnamed: 0                                  name  \\\n",
       "82         82.0                       /dtdd/vivo-y02t   \n",
       "12         12.0                      /dtdd/itel-l6502   \n",
       "62         62.0              /dtdd/samsung-galaxy-a14   \n",
       "33         33.0  /dtdd/oppo-a57-128gb?utm_flashsale=1   \n",
       "57         57.0                      /dtdd/realme-c60   \n",
       "129       129.0             /may-tinh-bang/tcl-tab-11   \n",
       "63         63.0           /dtdd/samsung-galaxy-a14-5g   \n",
       "83         83.0                   /dtdd/vivo-y03-64gb   \n",
       "53         53.0            /dtdd/realme-c30s-3gb-64gb   \n",
       "60         60.0          /dtdd/samsung-galaxy-a05-4gb   \n",
       "\n",
       "                                           description  \\\n",
       "82   điện_thoại vivo thiết_kế đơn_giản tinh_tế thân...   \n",
       "12   itel l6502 ra_mắt tiêu_dùng màu_sắc trẻ trung_...   \n",
       "62   samsung galaxy a14 4 g thiết_kế thừa_hưởng vẻ ...   \n",
       "33   điện_thoại oppo_a màn_hình giọt mặt khung viền...   \n",
       "57   realme c60 bắt_gặp thiết_kế quen_thuộc khung v...   \n",
       "129  tcl tab 11 wifi máy_tính bảng thiết_kế vuông_v...   \n",
       "63   galaxy a14 cảm_hứng thiết_kế mẫu điện_thoại sa...   \n",
       "83   thiết_kế vuông vức vivo y03 64 gb sản_phẩm điệ...   \n",
       "53   realme c30s máy thiết_kế đẹp nổi_bật tầm_giá n...   \n",
       "60   samsung galaxy_a05 mục_tiêu đem sang_trọng hợp...   \n",
       "\n",
       "                                                 label  \\\n",
       "82   camera pixels video hình_ảnh flash chụp hd ảnh...   \n",
       "12   điện_thoại nhu_cầu tiêu_dùng tinh_chỉnh máy ng...   \n",
       "62   samsung galaxy smartphone android điện_thoại m...   \n",
       "33   gb hd pixels f22_cảm hdr máy điện_thoại g35 10...   \n",
       "57   máy điện_thoại c60 gb t612 hd tốc_độ chip thiế...   \n",
       "129  wifi_tích wifi tcl nhôm_nguyên internet lcd má...   \n",
       "63   samsung galaxy android a14 hd điện_thoại máy c...   \n",
       "83   máy cpu microsd điện_thoại nhanh_chóng gb nhựa...   \n",
       "53   máy khung màn_hình kết_hợp tích_hợp thiết_kế k...   \n",
       "60   samsung galaxy_a05 galaxy android điện_thoại_d...   \n",
       "\n",
       "                                              x_corpus  \\\n",
       "82   ['điện_thoại', 'vivo', 'thiết_kế', 'đơn_giản',...   \n",
       "12   ['itel', 'l6502', 'ra_mắt', 'tiêu_dùng', 'màu_...   \n",
       "62   ['samsung', 'galaxy', 'a14', '4', 'g', 'thiết_...   \n",
       "33   ['điện_thoại', 'oppo_a', 'màn_hình', 'giọt', '...   \n",
       "57   ['realme', 'c60', 'bắt_gặp', 'thiết_kế', 'quen...   \n",
       "129  ['tcl', 'tab', '11', 'wifi', 'máy_tính', 'bảng...   \n",
       "63   ['galaxy', 'a14', 'cảm_hứng', 'thiết_kế', 'mẫu...   \n",
       "83   ['thiết_kế', 'vuông', 'vức', 'vivo', 'y03', '6...   \n",
       "53   ['realme', 'c30s', 'máy', 'thiết_kế', 'đẹp', '...   \n",
       "60   ['samsung', 'galaxy_a05', 'mục_tiêu', 'đem', '...   \n",
       "\n",
       "                                               y_label  \n",
       "82   [1, 1, 1, 1, 1, 1, 1, 0, 1, 1, 1, 1, 1, 1, 1, ...  \n",
       "12   [1, 1, 1, 1, 1, 1, 1, 1, 1, 1, 1, 1, 1, 1, 1, ...  \n",
       "62   [1, 1, 1, 0, 0, 1, 1, 1, 1, 1, 1, 1, 1, 1, 1, ...  \n",
       "33   [1, 1, 1, 1, 1, 1, 1, 1, 1, 1, 1, 1, 1, 1, 0, ...  \n",
       "57   [1, 1, 1, 1, 1, 1, 1, 1, 1, 1, 1, 1, 1, 1, 1, ...  \n",
       "129  [1, 1, 1, 1, 1, 1, 1, 1, 1, 1, 1, 1, 1, 1, 1, ...  \n",
       "63   [1, 1, 1, 1, 1, 1, 1, 1, 0, 1, 1, 1, 1, 1, 1, ...  \n",
       "83   [1, 1, 1, 1, 1, 1, 1, 1, 1, 1, 1, 1, 1, 1, 1, ...  \n",
       "53   [1, 1, 1, 1, 1, 1, 1, 1, 1, 1, 1, 1, 1, 1, 1, ...  \n",
       "60   [1, 1, 1, 1, 1, 1, 1, 1, 1, 1, 1, 1, 1, 1, 1, ...  "
      ]
     },
     "execution_count": 281,
     "metadata": {},
     "output_type": "execute_result"
    }
   ],
   "source": [
    "recommend(keywords)"
   ]
  },
  {
   "cell_type": "markdown",
   "metadata": {},
   "source": [
    "Demo steps to recommend"
   ]
  },
  {
   "cell_type": "code",
   "execution_count": 282,
   "metadata": {},
   "outputs": [
    {
     "data": {
      "text/plain": [
       "0      camera_kép camera iphone iphone_xr smartphone ...\n",
       "1      smartphone_apple apple iphone ipad ip68 a14 a1...\n",
       "2      apple iphone chip ip68 a15 sensor nhôm gb pixe...\n",
       "3      iphone apple điện_thoại điện_ảnh máy app chip ...\n",
       "4      iphone apple_tính apple smartphone nhôm máy kh...\n",
       "                             ...                        \n",
       "129    wifi_tích wifi tcl nhôm_nguyên internet lcd má...\n",
       "130    cao_xiaomi gb sẵn_sàng graphite xiaomi cao_cấp...\n",
       "131    bảng_xiaomi pad_se pad máy_tính redmi mượt_mà ...\n",
       "132    nhanh_chóng bảng_xiaomi độ_chính_xác máy_tính ...\n",
       "133    gần_gũi bảng_xiaomi redmi nhu_cầu công_suất ph...\n",
       "Name: label, Length: 134, dtype: object"
      ]
     },
     "execution_count": 282,
     "metadata": {},
     "output_type": "execute_result"
    }
   ],
   "source": [
    "import pandas as pd\n",
    "data = pd.read_csv(\"tgdd_product_description_grouped_preprocessed_labeled.csv\")\n",
    "\n",
    "# Import the ast module\n",
    "import ast\n",
    "data['label'] = data['label'].apply(lambda x: ast.literal_eval(x))\n",
    "data['label'] = data['label'].apply(lambda x: \" \".join(x))\n",
    "data['label']"
   ]
  },
  {
   "cell_type": "code",
   "execution_count": 283,
   "metadata": {},
   "outputs": [],
   "source": [
    "user_request = {\"name\": \"user_request\", \"label\": \" \".join(keywords)}\n",
    "data = pd.concat([data, pd.DataFrame([user_request])], ignore_index=True)"
   ]
  },
  {
   "cell_type": "code",
   "execution_count": 284,
   "metadata": {},
   "outputs": [
    {
     "data": {
      "text/html": [
       "<div>\n",
       "<style scoped>\n",
       "    .dataframe tbody tr th:only-of-type {\n",
       "        vertical-align: middle;\n",
       "    }\n",
       "\n",
       "    .dataframe tbody tr th {\n",
       "        vertical-align: top;\n",
       "    }\n",
       "\n",
       "    .dataframe thead th {\n",
       "        text-align: right;\n",
       "    }\n",
       "</style>\n",
       "<table border=\"1\" class=\"dataframe\">\n",
       "  <thead>\n",
       "    <tr style=\"text-align: right;\">\n",
       "      <th></th>\n",
       "      <th>Unnamed: 0</th>\n",
       "      <th>name</th>\n",
       "      <th>description</th>\n",
       "      <th>label</th>\n",
       "      <th>x_corpus</th>\n",
       "      <th>y_label</th>\n",
       "    </tr>\n",
       "  </thead>\n",
       "  <tbody>\n",
       "    <tr>\n",
       "      <th>130</th>\n",
       "      <td>130.0</td>\n",
       "      <td>/may-tinh-bang/xiaomi-pad-6</td>\n",
       "      <td>xiaomi pad 6 máy_tính bảng thiết_kế tinh_tế ca...</td>\n",
       "      <td>cao_xiaomi gb sẵn_sàng graphite xiaomi cao_cấp...</td>\n",
       "      <td>['xiaomi', 'pad', '6', 'máy_tính', 'bảng', 'th...</td>\n",
       "      <td>[1, 1, 0, 1, 1, 1, 1, 1, 1, 1, 1, 1, 1, 1, 1, ...</td>\n",
       "    </tr>\n",
       "    <tr>\n",
       "      <th>131</th>\n",
       "      <td>131.0</td>\n",
       "      <td>/may-tinh-bang/xiaomi-redmi-pad-se</td>\n",
       "      <td>xiaomi redmi pad se sở_hữu thiết_kế đặc_trưng ...</td>\n",
       "      <td>bảng_xiaomi pad_se pad máy_tính redmi mượt_mà ...</td>\n",
       "      <td>['xiaomi', 'redmi', 'pad', 'se', 'sở_hữu', 'th...</td>\n",
       "      <td>[1, 1, 1, 1, 1, 1, 1, 1, 1, 1, 1, 1, 1, 1, 1, ...</td>\n",
       "    </tr>\n",
       "    <tr>\n",
       "      <th>132</th>\n",
       "      <td>132.0</td>\n",
       "      <td>/may-tinh-bang/xiaomi-redmi-pad-se-4gb</td>\n",
       "      <td>máy_tính bảng xiaomi redmi pad_se thiết_kế hiệ...</td>\n",
       "      <td>nhanh_chóng bảng_xiaomi độ_chính_xác máy_tính ...</td>\n",
       "      <td>['máy_tính', 'bảng', 'xiaomi', 'redmi', 'pad_s...</td>\n",
       "      <td>[1, 1, 1, 1, 1, 1, 1, 1, 1, 1, 1, 1, 1, 1, 1, ...</td>\n",
       "    </tr>\n",
       "    <tr>\n",
       "      <th>133</th>\n",
       "      <td>133.0</td>\n",
       "      <td>/may-tinh-bang/xiaomi-redmi-pad-se-8gb</td>\n",
       "      <td>redmi pad_se thiết_kế dựa cảm_hứng xu_hướng vu...</td>\n",
       "      <td>gần_gũi bảng_xiaomi redmi nhu_cầu công_suất ph...</td>\n",
       "      <td>['redmi', 'pad_se', 'thiết_kế', 'dựa', 'cảm_hứ...</td>\n",
       "      <td>[1, 1, 1, 1, 1, 1, 1, 1, 1, 1, 1, 1, 1, 1, 1, ...</td>\n",
       "    </tr>\n",
       "    <tr>\n",
       "      <th>134</th>\n",
       "      <td>NaN</td>\n",
       "      <td>user_request</td>\n",
       "      <td>NaN</td>\n",
       "      <td>android rẻ giá điện_thoại game triệu chụp điều...</td>\n",
       "      <td>NaN</td>\n",
       "      <td>NaN</td>\n",
       "    </tr>\n",
       "  </tbody>\n",
       "</table>\n",
       "</div>"
      ],
      "text/plain": [
       "     Unnamed: 0                                    name  \\\n",
       "130       130.0             /may-tinh-bang/xiaomi-pad-6   \n",
       "131       131.0      /may-tinh-bang/xiaomi-redmi-pad-se   \n",
       "132       132.0  /may-tinh-bang/xiaomi-redmi-pad-se-4gb   \n",
       "133       133.0  /may-tinh-bang/xiaomi-redmi-pad-se-8gb   \n",
       "134         NaN                            user_request   \n",
       "\n",
       "                                           description  \\\n",
       "130  xiaomi pad 6 máy_tính bảng thiết_kế tinh_tế ca...   \n",
       "131  xiaomi redmi pad se sở_hữu thiết_kế đặc_trưng ...   \n",
       "132  máy_tính bảng xiaomi redmi pad_se thiết_kế hiệ...   \n",
       "133  redmi pad_se thiết_kế dựa cảm_hứng xu_hướng vu...   \n",
       "134                                                NaN   \n",
       "\n",
       "                                                 label  \\\n",
       "130  cao_xiaomi gb sẵn_sàng graphite xiaomi cao_cấp...   \n",
       "131  bảng_xiaomi pad_se pad máy_tính redmi mượt_mà ...   \n",
       "132  nhanh_chóng bảng_xiaomi độ_chính_xác máy_tính ...   \n",
       "133  gần_gũi bảng_xiaomi redmi nhu_cầu công_suất ph...   \n",
       "134  android rẻ giá điện_thoại game triệu chụp điều...   \n",
       "\n",
       "                                              x_corpus  \\\n",
       "130  ['xiaomi', 'pad', '6', 'máy_tính', 'bảng', 'th...   \n",
       "131  ['xiaomi', 'redmi', 'pad', 'se', 'sở_hữu', 'th...   \n",
       "132  ['máy_tính', 'bảng', 'xiaomi', 'redmi', 'pad_s...   \n",
       "133  ['redmi', 'pad_se', 'thiết_kế', 'dựa', 'cảm_hứ...   \n",
       "134                                                NaN   \n",
       "\n",
       "                                               y_label  \n",
       "130  [1, 1, 0, 1, 1, 1, 1, 1, 1, 1, 1, 1, 1, 1, 1, ...  \n",
       "131  [1, 1, 1, 1, 1, 1, 1, 1, 1, 1, 1, 1, 1, 1, 1, ...  \n",
       "132  [1, 1, 1, 1, 1, 1, 1, 1, 1, 1, 1, 1, 1, 1, 1, ...  \n",
       "133  [1, 1, 1, 1, 1, 1, 1, 1, 1, 1, 1, 1, 1, 1, 1, ...  \n",
       "134                                                NaN  "
      ]
     },
     "execution_count": 284,
     "metadata": {},
     "output_type": "execute_result"
    }
   ],
   "source": [
    "data.tail()"
   ]
  },
  {
   "cell_type": "code",
   "execution_count": 285,
   "metadata": {},
   "outputs": [],
   "source": [
    "import numpy as np\n",
    "\n",
    "count = CountVectorizer()\n",
    "count_matrix = count.fit_transform(data['label'])\n",
    "csm_count = cosine_similarity(count_matrix, count_matrix)"
   ]
  },
  {
   "cell_type": "code",
   "execution_count": 286,
   "metadata": {},
   "outputs": [],
   "source": [
    "# recommmendation function\n",
    "indices = pd.Series(data.index, index=data.name)"
   ]
  },
  {
   "cell_type": "code",
   "execution_count": 287,
   "metadata": {},
   "outputs": [
    {
     "data": {
      "text/plain": [
       "name\n",
       "/dtdd/iphone-11                             0\n",
       "/dtdd/iphone-12                             1\n",
       "/dtdd/iphone-13                             2\n",
       "/dtdd/iphone-14                             3\n",
       "/dtdd/iphone-14-plus                        4\n",
       "                                         ... \n",
       "/may-tinh-bang/xiaomi-pad-6               130\n",
       "/may-tinh-bang/xiaomi-redmi-pad-se        131\n",
       "/may-tinh-bang/xiaomi-redmi-pad-se-4gb    132\n",
       "/may-tinh-bang/xiaomi-redmi-pad-se-8gb    133\n",
       "user_request                              134\n",
       "Length: 135, dtype: int64"
      ]
     },
     "execution_count": 287,
     "metadata": {},
     "output_type": "execute_result"
    }
   ],
   "source": [
    "indices"
   ]
  },
  {
   "cell_type": "code",
   "execution_count": 288,
   "metadata": {},
   "outputs": [
    {
     "data": {
      "text/html": [
       "<div>\n",
       "<style scoped>\n",
       "    .dataframe tbody tr th:only-of-type {\n",
       "        vertical-align: middle;\n",
       "    }\n",
       "\n",
       "    .dataframe tbody tr th {\n",
       "        vertical-align: top;\n",
       "    }\n",
       "\n",
       "    .dataframe thead th {\n",
       "        text-align: right;\n",
       "    }\n",
       "</style>\n",
       "<table border=\"1\" class=\"dataframe\">\n",
       "  <thead>\n",
       "    <tr style=\"text-align: right;\">\n",
       "      <th></th>\n",
       "      <th>Unnamed: 0</th>\n",
       "      <th>name</th>\n",
       "      <th>description</th>\n",
       "      <th>label</th>\n",
       "      <th>x_corpus</th>\n",
       "      <th>y_label</th>\n",
       "    </tr>\n",
       "  </thead>\n",
       "  <tbody>\n",
       "    <tr>\n",
       "      <th>82</th>\n",
       "      <td>82.0</td>\n",
       "      <td>/dtdd/vivo-y02t</td>\n",
       "      <td>điện_thoại vivo thiết_kế đơn_giản tinh_tế thân...</td>\n",
       "      <td>camera pixels video hình_ảnh flash chụp hd ảnh...</td>\n",
       "      <td>['điện_thoại', 'vivo', 'thiết_kế', 'đơn_giản',...</td>\n",
       "      <td>[1, 1, 1, 1, 1, 1, 1, 0, 1, 1, 1, 1, 1, 1, 1, ...</td>\n",
       "    </tr>\n",
       "    <tr>\n",
       "      <th>12</th>\n",
       "      <td>12.0</td>\n",
       "      <td>/dtdd/itel-l6502</td>\n",
       "      <td>itel l6502 ra_mắt tiêu_dùng màu_sắc trẻ trung_...</td>\n",
       "      <td>điện_thoại nhu_cầu tiêu_dùng tinh_chỉnh máy ng...</td>\n",
       "      <td>['itel', 'l6502', 'ra_mắt', 'tiêu_dùng', 'màu_...</td>\n",
       "      <td>[1, 1, 1, 1, 1, 1, 1, 1, 1, 1, 1, 1, 1, 1, 1, ...</td>\n",
       "    </tr>\n",
       "    <tr>\n",
       "      <th>62</th>\n",
       "      <td>62.0</td>\n",
       "      <td>/dtdd/samsung-galaxy-a14</td>\n",
       "      <td>samsung galaxy a14 4 g thiết_kế thừa_hưởng vẻ ...</td>\n",
       "      <td>samsung galaxy smartphone android điện_thoại m...</td>\n",
       "      <td>['samsung', 'galaxy', 'a14', '4', 'g', 'thiết_...</td>\n",
       "      <td>[1, 1, 1, 0, 0, 1, 1, 1, 1, 1, 1, 1, 1, 1, 1, ...</td>\n",
       "    </tr>\n",
       "    <tr>\n",
       "      <th>33</th>\n",
       "      <td>33.0</td>\n",
       "      <td>/dtdd/oppo-a57-128gb?utm_flashsale=1</td>\n",
       "      <td>điện_thoại oppo_a màn_hình giọt mặt khung viền...</td>\n",
       "      <td>gb hd pixels f22_cảm hdr máy điện_thoại g35 10...</td>\n",
       "      <td>['điện_thoại', 'oppo_a', 'màn_hình', 'giọt', '...</td>\n",
       "      <td>[1, 1, 1, 1, 1, 1, 1, 1, 1, 1, 1, 1, 1, 1, 0, ...</td>\n",
       "    </tr>\n",
       "    <tr>\n",
       "      <th>57</th>\n",
       "      <td>57.0</td>\n",
       "      <td>/dtdd/realme-c60</td>\n",
       "      <td>realme c60 bắt_gặp thiết_kế quen_thuộc khung v...</td>\n",
       "      <td>máy điện_thoại c60 gb t612 hd tốc_độ chip thiế...</td>\n",
       "      <td>['realme', 'c60', 'bắt_gặp', 'thiết_kế', 'quen...</td>\n",
       "      <td>[1, 1, 1, 1, 1, 1, 1, 1, 1, 1, 1, 1, 1, 1, 1, ...</td>\n",
       "    </tr>\n",
       "    <tr>\n",
       "      <th>129</th>\n",
       "      <td>129.0</td>\n",
       "      <td>/may-tinh-bang/tcl-tab-11</td>\n",
       "      <td>tcl tab 11 wifi máy_tính bảng thiết_kế vuông_v...</td>\n",
       "      <td>wifi_tích wifi tcl nhôm_nguyên internet lcd má...</td>\n",
       "      <td>['tcl', 'tab', '11', 'wifi', 'máy_tính', 'bảng...</td>\n",
       "      <td>[1, 1, 1, 1, 1, 1, 1, 1, 1, 1, 1, 1, 1, 1, 1, ...</td>\n",
       "    </tr>\n",
       "    <tr>\n",
       "      <th>63</th>\n",
       "      <td>63.0</td>\n",
       "      <td>/dtdd/samsung-galaxy-a14-5g</td>\n",
       "      <td>galaxy a14 cảm_hứng thiết_kế mẫu điện_thoại sa...</td>\n",
       "      <td>samsung galaxy android a14 hd điện_thoại máy c...</td>\n",
       "      <td>['galaxy', 'a14', 'cảm_hứng', 'thiết_kế', 'mẫu...</td>\n",
       "      <td>[1, 1, 1, 1, 1, 1, 1, 1, 0, 1, 1, 1, 1, 1, 1, ...</td>\n",
       "    </tr>\n",
       "    <tr>\n",
       "      <th>83</th>\n",
       "      <td>83.0</td>\n",
       "      <td>/dtdd/vivo-y03-64gb</td>\n",
       "      <td>thiết_kế vuông vức vivo y03 64 gb sản_phẩm điệ...</td>\n",
       "      <td>máy cpu microsd điện_thoại nhanh_chóng gb nhựa...</td>\n",
       "      <td>['thiết_kế', 'vuông', 'vức', 'vivo', 'y03', '6...</td>\n",
       "      <td>[1, 1, 1, 1, 1, 1, 1, 1, 1, 1, 1, 1, 1, 1, 1, ...</td>\n",
       "    </tr>\n",
       "    <tr>\n",
       "      <th>53</th>\n",
       "      <td>53.0</td>\n",
       "      <td>/dtdd/realme-c30s-3gb-64gb</td>\n",
       "      <td>realme c30s máy thiết_kế đẹp nổi_bật tầm_giá n...</td>\n",
       "      <td>máy khung màn_hình kết_hợp tích_hợp thiết_kế k...</td>\n",
       "      <td>['realme', 'c30s', 'máy', 'thiết_kế', 'đẹp', '...</td>\n",
       "      <td>[1, 1, 1, 1, 1, 1, 1, 1, 1, 1, 1, 1, 1, 1, 1, ...</td>\n",
       "    </tr>\n",
       "    <tr>\n",
       "      <th>60</th>\n",
       "      <td>60.0</td>\n",
       "      <td>/dtdd/samsung-galaxy-a05-4gb</td>\n",
       "      <td>samsung galaxy_a05 mục_tiêu đem sang_trọng hợp...</td>\n",
       "      <td>samsung galaxy_a05 galaxy android điện_thoại_d...</td>\n",
       "      <td>['samsung', 'galaxy_a05', 'mục_tiêu', 'đem', '...</td>\n",
       "      <td>[1, 1, 1, 1, 1, 1, 1, 1, 1, 1, 1, 1, 1, 1, 1, ...</td>\n",
       "    </tr>\n",
       "  </tbody>\n",
       "</table>\n",
       "</div>"
      ],
      "text/plain": [
       "     Unnamed: 0                                  name  \\\n",
       "82         82.0                       /dtdd/vivo-y02t   \n",
       "12         12.0                      /dtdd/itel-l6502   \n",
       "62         62.0              /dtdd/samsung-galaxy-a14   \n",
       "33         33.0  /dtdd/oppo-a57-128gb?utm_flashsale=1   \n",
       "57         57.0                      /dtdd/realme-c60   \n",
       "129       129.0             /may-tinh-bang/tcl-tab-11   \n",
       "63         63.0           /dtdd/samsung-galaxy-a14-5g   \n",
       "83         83.0                   /dtdd/vivo-y03-64gb   \n",
       "53         53.0            /dtdd/realme-c30s-3gb-64gb   \n",
       "60         60.0          /dtdd/samsung-galaxy-a05-4gb   \n",
       "\n",
       "                                           description  \\\n",
       "82   điện_thoại vivo thiết_kế đơn_giản tinh_tế thân...   \n",
       "12   itel l6502 ra_mắt tiêu_dùng màu_sắc trẻ trung_...   \n",
       "62   samsung galaxy a14 4 g thiết_kế thừa_hưởng vẻ ...   \n",
       "33   điện_thoại oppo_a màn_hình giọt mặt khung viền...   \n",
       "57   realme c60 bắt_gặp thiết_kế quen_thuộc khung v...   \n",
       "129  tcl tab 11 wifi máy_tính bảng thiết_kế vuông_v...   \n",
       "63   galaxy a14 cảm_hứng thiết_kế mẫu điện_thoại sa...   \n",
       "83   thiết_kế vuông vức vivo y03 64 gb sản_phẩm điệ...   \n",
       "53   realme c30s máy thiết_kế đẹp nổi_bật tầm_giá n...   \n",
       "60   samsung galaxy_a05 mục_tiêu đem sang_trọng hợp...   \n",
       "\n",
       "                                                 label  \\\n",
       "82   camera pixels video hình_ảnh flash chụp hd ảnh...   \n",
       "12   điện_thoại nhu_cầu tiêu_dùng tinh_chỉnh máy ng...   \n",
       "62   samsung galaxy smartphone android điện_thoại m...   \n",
       "33   gb hd pixels f22_cảm hdr máy điện_thoại g35 10...   \n",
       "57   máy điện_thoại c60 gb t612 hd tốc_độ chip thiế...   \n",
       "129  wifi_tích wifi tcl nhôm_nguyên internet lcd má...   \n",
       "63   samsung galaxy android a14 hd điện_thoại máy c...   \n",
       "83   máy cpu microsd điện_thoại nhanh_chóng gb nhựa...   \n",
       "53   máy khung màn_hình kết_hợp tích_hợp thiết_kế k...   \n",
       "60   samsung galaxy_a05 galaxy android điện_thoại_d...   \n",
       "\n",
       "                                              x_corpus  \\\n",
       "82   ['điện_thoại', 'vivo', 'thiết_kế', 'đơn_giản',...   \n",
       "12   ['itel', 'l6502', 'ra_mắt', 'tiêu_dùng', 'màu_...   \n",
       "62   ['samsung', 'galaxy', 'a14', '4', 'g', 'thiết_...   \n",
       "33   ['điện_thoại', 'oppo_a', 'màn_hình', 'giọt', '...   \n",
       "57   ['realme', 'c60', 'bắt_gặp', 'thiết_kế', 'quen...   \n",
       "129  ['tcl', 'tab', '11', 'wifi', 'máy_tính', 'bảng...   \n",
       "63   ['galaxy', 'a14', 'cảm_hứng', 'thiết_kế', 'mẫu...   \n",
       "83   ['thiết_kế', 'vuông', 'vức', 'vivo', 'y03', '6...   \n",
       "53   ['realme', 'c30s', 'máy', 'thiết_kế', 'đẹp', '...   \n",
       "60   ['samsung', 'galaxy_a05', 'mục_tiêu', 'đem', '...   \n",
       "\n",
       "                                               y_label  \n",
       "82   [1, 1, 1, 1, 1, 1, 1, 0, 1, 1, 1, 1, 1, 1, 1, ...  \n",
       "12   [1, 1, 1, 1, 1, 1, 1, 1, 1, 1, 1, 1, 1, 1, 1, ...  \n",
       "62   [1, 1, 1, 0, 0, 1, 1, 1, 1, 1, 1, 1, 1, 1, 1, ...  \n",
       "33   [1, 1, 1, 1, 1, 1, 1, 1, 1, 1, 1, 1, 1, 1, 0, ...  \n",
       "57   [1, 1, 1, 1, 1, 1, 1, 1, 1, 1, 1, 1, 1, 1, 1, ...  \n",
       "129  [1, 1, 1, 1, 1, 1, 1, 1, 1, 1, 1, 1, 1, 1, 1, ...  \n",
       "63   [1, 1, 1, 1, 1, 1, 1, 1, 0, 1, 1, 1, 1, 1, 1, ...  \n",
       "83   [1, 1, 1, 1, 1, 1, 1, 1, 1, 1, 1, 1, 1, 1, 1, ...  \n",
       "53   [1, 1, 1, 1, 1, 1, 1, 1, 1, 1, 1, 1, 1, 1, 1, ...  \n",
       "60   [1, 1, 1, 1, 1, 1, 1, 1, 1, 1, 1, 1, 1, 1, 1, ...  "
      ]
     },
     "execution_count": 288,
     "metadata": {},
     "output_type": "execute_result"
    }
   ],
   "source": [
    "idx = indices['user_request']\n",
    "score_series = list(enumerate(csm_count[idx]))\n",
    "score_series = sorted(score_series, key=lambda x: x[1], reverse=True)\n",
    "score_series = score_series[1:11]\n",
    "post_indices = [i[0] for i in score_series]\n",
    "data.loc[post_indices]"
   ]
  }
 ],
 "metadata": {
  "kernelspec": {
   "display_name": ".venv",
   "language": "python",
   "name": "python3"
  },
  "language_info": {
   "codemirror_mode": {
    "name": "ipython",
    "version": 3
   },
   "file_extension": ".py",
   "mimetype": "text/x-python",
   "name": "python",
   "nbconvert_exporter": "python",
   "pygments_lexer": "ipython3",
   "version": "3.9.2"
  }
 },
 "nbformat": 4,
 "nbformat_minor": 2
}
