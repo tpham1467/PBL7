{
 "cells": [
  {
   "cell_type": "markdown",
   "metadata": {},
   "source": [
    "# 1. Setup"
   ]
  },
  {
   "cell_type": "markdown",
   "metadata": {},
   "source": [
    "## Các hàm tiền xử lý dữ liệu"
   ]
  },
  {
   "cell_type": "code",
   "execution_count": 15,
   "metadata": {},
   "outputs": [],
   "source": [
    "#Lowercase\n",
    "def lowercase(text):\n",
    "    return text.lower()\n",
    "\n",
    "def remove_punctuation(text):\n",
    "    import string\n",
    "    translator = str.maketrans('', '', string.punctuation)\n",
    "    return text.translate(translator)\n",
    "\n",
    "from underthesea import word_tokenize\n",
    "\n",
    "def tokenize(text):\n",
    "    return word_tokenize(text, format=\"text\")\n",
    "\n",
    "# import urllib\n",
    "# # Download vietnamese stop words\n",
    "# data=urllib.request.urlopen('https://raw.githubusercontent.com/stopwords/vietnamese-stopwords/master/vietnamese-stopwords-dash.txt').read()\n",
    "data = open(\"vietnamese-stopwords-dash.txt\", \"r\", encoding=\"utf8\").read()\n",
    "\n",
    "# Read stop words\n",
    "stopwords= [ x for x in data.splitlines() ]\n",
    "def remove_stopwords(text):\n",
    "    return ' '.join([word for word in text.split() if word not in stopwords])\n",
    "\n",
    "import re\n",
    "def remove_html_url(text):\n",
    "    return re.sub(r'http\\S+', '', text)"
   ]
  },
  {
   "cell_type": "code",
   "execution_count": 16,
   "metadata": {},
   "outputs": [],
   "source": [
    "import emoji\n",
    "\n",
    "def remove_emoji(text):\n",
    "    def get_emoji_regexp():\n",
    "        # Sort emoji by length to make sure multi-character emojis are\n",
    "    # matched first\n",
    "        emojis = sorted(emoji.EMOJI_DATA, key=len, reverse=True)\n",
    "        pattern = u'(' + u'|'.join(re.escape(u) for u in emojis) + u')'\n",
    "        return re.compile(pattern)\n",
    "\n",
    "    exp = get_emoji_regexp()\n",
    "    return exp.sub(u'', text)"
   ]
  },
  {
   "cell_type": "markdown",
   "metadata": {},
   "source": [
    "## Demo preprocessing"
   ]
  },
  {
   "cell_type": "code",
   "execution_count": 3,
   "metadata": {},
   "outputs": [],
   "source": [
    "def preprocess_text(text):\n",
    "    # '''Input : String, output : String'''\n",
    "      text_url = remove_html_url(text)\n",
    "      text_emoji = remove_emoji(text_url)\n",
    "    \n",
    "      text_lowercase = lowercase(text_emoji)\n",
    "      text_punctuation = remove_punctuation(text_lowercase)\n",
    "      \n",
    "      text_tokenize = tokenize(text_punctuation)\n",
    "      text_stopwords = remove_stopwords(text_tokenize)\n",
    "  \n",
    "      return text_url, text_emoji, text_lowercase, text_punctuation, text_tokenize, text_stopwords"
   ]
  },
  {
   "cell_type": "code",
   "execution_count": 20,
   "metadata": {},
   "outputs": [
    {
     "data": {
      "text/plain": [
       "('Tôi muốn mua một chiếc điện thoại có cấu hình cao đủ để chơi game và có camera chụp hình đẹp.',\n",
       " 'Tôi muốn mua một chiếc điện thoại có cấu hình cao đủ để chơi game và có camera chụp hình đẹp.',\n",
       " 'tôi muốn mua một chiếc điện thoại có cấu hình cao đủ để chơi game và có camera chụp hình đẹp.',\n",
       " 'tôi muốn mua một chiếc điện thoại có cấu hình cao đủ để chơi game và có camera chụp hình đẹp',\n",
       " 'tôi muốn mua một chiếc điện_thoại có cấu_hình cao đủ để chơi game và có camera chụp hình đẹp',\n",
       " 'mua điện_thoại cấu_hình game camera chụp hình đẹp')"
      ]
     },
     "execution_count": 20,
     "metadata": {},
     "output_type": "execute_result"
    }
   ],
   "source": [
    "preprocess_text('Tôi muốn mua một chiếc điện thoại có cấu hình cao đủ để chơi game và có camera chụp hình đẹp.')"
   ]
  },
  {
   "cell_type": "markdown",
   "metadata": {},
   "source": [
    "## Hàm sử dụng cuối cùng"
   ]
  },
  {
   "cell_type": "code",
   "execution_count": 17,
   "metadata": {},
   "outputs": [],
   "source": [
    "def preprocess_text(text):\n",
    "    # '''Input : String, output : String'''\n",
    "      text_url = remove_html_url(text)\n",
    "      text_emoji = remove_emoji(text_url)\n",
    "    \n",
    "      text_lowercase = lowercase(text_emoji)\n",
    "      text_punctuation = remove_punctuation(text_lowercase)\n",
    "      \n",
    "      text_tokenize = tokenize(text_punctuation)\n",
    "      text_stopwords = remove_stopwords(text_tokenize)\n",
    "  \n",
    "      return text_stopwords"
   ]
  },
  {
   "cell_type": "markdown",
   "metadata": {},
   "source": [
    "# 2. Load data"
   ]
  },
  {
   "cell_type": "markdown",
   "metadata": {},
   "source": [
    "## Read data from csv"
   ]
  },
  {
   "cell_type": "code",
   "execution_count": 8,
   "metadata": {},
   "outputs": [],
   "source": [
    "import pandas as pd\n",
    "data = pd.read_csv('tgdd_product_description.csv')"
   ]
  },
  {
   "cell_type": "code",
   "execution_count": 9,
   "metadata": {},
   "outputs": [
    {
     "data": {
      "text/html": [
       "<div>\n",
       "<style scoped>\n",
       "    .dataframe tbody tr th:only-of-type {\n",
       "        vertical-align: middle;\n",
       "    }\n",
       "\n",
       "    .dataframe tbody tr th {\n",
       "        vertical-align: top;\n",
       "    }\n",
       "\n",
       "    .dataframe thead th {\n",
       "        text-align: right;\n",
       "    }\n",
       "</style>\n",
       "<table border=\"1\" class=\"dataframe\">\n",
       "  <thead>\n",
       "    <tr style=\"text-align: right;\">\n",
       "      <th></th>\n",
       "      <th>name</th>\n",
       "      <th>description</th>\n",
       "    </tr>\n",
       "  </thead>\n",
       "  <tbody>\n",
       "    <tr>\n",
       "      <th>1606</th>\n",
       "      <td>/dtdd/oppo-reno8-t?utm_flashsale=1</td>\n",
       "      <td>Với 6.4 inch thì mình vẫn có thể xem nội dung ...</td>\n",
       "    </tr>\n",
       "    <tr>\n",
       "      <th>3060</th>\n",
       "      <td>/may-tinh-bang/samsung-galaxy-tab-s9-plus-5g</td>\n",
       "      <td>Camera trước của máy có độ phân giải 12 MP, cả...</td>\n",
       "    </tr>\n",
       "    <tr>\n",
       "      <th>771</th>\n",
       "      <td>/dtdd/samsung-galaxy-s24-plus-5g</td>\n",
       "      <td>Bộ nhớ trong lên đến 256 GB là một điểm đặc bi...</td>\n",
       "    </tr>\n",
       "    <tr>\n",
       "      <th>741</th>\n",
       "      <td>/dtdd/samsung-galaxy-s24-256gb-5g</td>\n",
       "      <td>Với các nhu cầu về chơi game trên điện thoại, ...</td>\n",
       "    </tr>\n",
       "    <tr>\n",
       "      <th>1364</th>\n",
       "      <td>/dtdd/samsung-galaxy-a15-5g</td>\n",
       "      <td>Việc tích hợp cảm biến vân tay vào nút nguồn ở...</td>\n",
       "    </tr>\n",
       "  </tbody>\n",
       "</table>\n",
       "</div>"
      ],
      "text/plain": [
       "                                              name  \\\n",
       "1606            /dtdd/oppo-reno8-t?utm_flashsale=1   \n",
       "3060  /may-tinh-bang/samsung-galaxy-tab-s9-plus-5g   \n",
       "771               /dtdd/samsung-galaxy-s24-plus-5g   \n",
       "741              /dtdd/samsung-galaxy-s24-256gb-5g   \n",
       "1364                   /dtdd/samsung-galaxy-a15-5g   \n",
       "\n",
       "                                            description  \n",
       "1606  Với 6.4 inch thì mình vẫn có thể xem nội dung ...  \n",
       "3060  Camera trước của máy có độ phân giải 12 MP, cả...  \n",
       "771   Bộ nhớ trong lên đến 256 GB là một điểm đặc bi...  \n",
       "741   Với các nhu cầu về chơi game trên điện thoại, ...  \n",
       "1364  Việc tích hợp cảm biến vân tay vào nút nguồn ở...  "
      ]
     },
     "execution_count": 9,
     "metadata": {},
     "output_type": "execute_result"
    }
   ],
   "source": [
    "data.sample(5)"
   ]
  },
  {
   "cell_type": "markdown",
   "metadata": {},
   "source": [
    "## Preprocess data"
   ]
  },
  {
   "cell_type": "code",
   "execution_count": 10,
   "metadata": {},
   "outputs": [],
   "source": [
    "data['description'] = data['description'].apply(preprocess_text)"
   ]
  },
  {
   "cell_type": "code",
   "execution_count": 11,
   "metadata": {},
   "outputs": [
    {
     "data": {
      "text/html": [
       "<div>\n",
       "<style scoped>\n",
       "    .dataframe tbody tr th:only-of-type {\n",
       "        vertical-align: middle;\n",
       "    }\n",
       "\n",
       "    .dataframe tbody tr th {\n",
       "        vertical-align: top;\n",
       "    }\n",
       "\n",
       "    .dataframe thead th {\n",
       "        text-align: right;\n",
       "    }\n",
       "</style>\n",
       "<table border=\"1\" class=\"dataframe\">\n",
       "  <thead>\n",
       "    <tr style=\"text-align: right;\">\n",
       "      <th></th>\n",
       "      <th>name</th>\n",
       "      <th>description</th>\n",
       "    </tr>\n",
       "  </thead>\n",
       "  <tbody>\n",
       "    <tr>\n",
       "      <th>1170</th>\n",
       "      <td>/dtdd/realme-c53</td>\n",
       "      <td>đối_thủ ký pubg mobile bật chế_độ cấu_hình máy...</td>\n",
       "    </tr>\n",
       "    <tr>\n",
       "      <th>2072</th>\n",
       "      <td>/dtdd/samsung-galaxy-m54</td>\n",
       "      <td>màn_hình 67 inch samsung galaxy m54 5 g trải_n...</td>\n",
       "    </tr>\n",
       "    <tr>\n",
       "      <th>2421</th>\n",
       "      <td>/dtdd/xiaomi-redmi-12</td>\n",
       "      <td>điện_thoại thu_hút thiết_kế mới_lạ khác_biệt t...</td>\n",
       "    </tr>\n",
       "    <tr>\n",
       "      <th>669</th>\n",
       "      <td>/dtdd/iphone-15</td>\n",
       "      <td>ảnh trích applecom</td>\n",
       "    </tr>\n",
       "    <tr>\n",
       "      <th>1722</th>\n",
       "      <td>/dtdd/samsung-galaxy-z-fold5</td>\n",
       "      <td>công_nghệ tiên_tiến cảm_biến cao_cấp camera sa...</td>\n",
       "    </tr>\n",
       "  </tbody>\n",
       "</table>\n",
       "</div>"
      ],
      "text/plain": [
       "                              name  \\\n",
       "1170              /dtdd/realme-c53   \n",
       "2072      /dtdd/samsung-galaxy-m54   \n",
       "2421         /dtdd/xiaomi-redmi-12   \n",
       "669                /dtdd/iphone-15   \n",
       "1722  /dtdd/samsung-galaxy-z-fold5   \n",
       "\n",
       "                                            description  \n",
       "1170  đối_thủ ký pubg mobile bật chế_độ cấu_hình máy...  \n",
       "2072  màn_hình 67 inch samsung galaxy m54 5 g trải_n...  \n",
       "2421  điện_thoại thu_hút thiết_kế mới_lạ khác_biệt t...  \n",
       "669                                  ảnh trích applecom  \n",
       "1722  công_nghệ tiên_tiến cảm_biến cao_cấp camera sa...  "
      ]
     },
     "execution_count": 11,
     "metadata": {},
     "output_type": "execute_result"
    }
   ],
   "source": [
    "data.sample(5)"
   ]
  },
  {
   "cell_type": "markdown",
   "metadata": {},
   "source": [
    "## Save to csv"
   ]
  },
  {
   "cell_type": "code",
   "execution_count": 12,
   "metadata": {},
   "outputs": [],
   "source": [
    "data.to_csv('tgdd_product_description_preprocessed.csv', index=False)"
   ]
  },
  {
   "cell_type": "markdown",
   "metadata": {},
   "source": [
    "## Load from csv to reduce runtime"
   ]
  },
  {
   "cell_type": "code",
   "execution_count": 23,
   "metadata": {},
   "outputs": [
    {
     "data": {
      "text/html": [
       "<div>\n",
       "<style scoped>\n",
       "    .dataframe tbody tr th:only-of-type {\n",
       "        vertical-align: middle;\n",
       "    }\n",
       "\n",
       "    .dataframe tbody tr th {\n",
       "        vertical-align: top;\n",
       "    }\n",
       "\n",
       "    .dataframe thead th {\n",
       "        text-align: right;\n",
       "    }\n",
       "</style>\n",
       "<table border=\"1\" class=\"dataframe\">\n",
       "  <thead>\n",
       "    <tr style=\"text-align: right;\">\n",
       "      <th></th>\n",
       "      <th>name</th>\n",
       "      <th>description</th>\n",
       "    </tr>\n",
       "  </thead>\n",
       "  <tbody>\n",
       "    <tr>\n",
       "      <th>1302</th>\n",
       "      <td>/dtdd/oppo-reno11-pro</td>\n",
       "      <td>khả_năng video 4 k tốc_độ khung_hình 30 fps ca...</td>\n",
       "    </tr>\n",
       "    <tr>\n",
       "      <th>2637</th>\n",
       "      <td>/dtdd/itel-l6502</td>\n",
       "      <td>mặt kính cong 25 d bề_mặt trơn_tru liền_mạch t...</td>\n",
       "    </tr>\n",
       "    <tr>\n",
       "      <th>1334</th>\n",
       "      <td>/dtdd/realme-c30s-3gb-64gb</td>\n",
       "      <td>mẫu điện_thoại ram 3 gb khả_năng đa_nhiệm ổn m...</td>\n",
       "    </tr>\n",
       "    <tr>\n",
       "      <th>405</th>\n",
       "      <td>/dtdd/iphone-15-plus</td>\n",
       "      <td>• video trực_tuyến 20</td>\n",
       "    </tr>\n",
       "    <tr>\n",
       "      <th>944</th>\n",
       "      <td>/dtdd/realme-c55</td>\n",
       "      <td>môi_trường đầy_đủ ánh_sáng cường_độ gắt_realme...</td>\n",
       "    </tr>\n",
       "  </tbody>\n",
       "</table>\n",
       "</div>"
      ],
      "text/plain": [
       "                            name  \\\n",
       "1302       /dtdd/oppo-reno11-pro   \n",
       "2637            /dtdd/itel-l6502   \n",
       "1334  /dtdd/realme-c30s-3gb-64gb   \n",
       "405         /dtdd/iphone-15-plus   \n",
       "944             /dtdd/realme-c55   \n",
       "\n",
       "                                            description  \n",
       "1302  khả_năng video 4 k tốc_độ khung_hình 30 fps ca...  \n",
       "2637  mặt kính cong 25 d bề_mặt trơn_tru liền_mạch t...  \n",
       "1334  mẫu điện_thoại ram 3 gb khả_năng đa_nhiệm ổn m...  \n",
       "405                               • video trực_tuyến 20  \n",
       "944   môi_trường đầy_đủ ánh_sáng cường_độ gắt_realme...  "
      ]
     },
     "execution_count": 23,
     "metadata": {},
     "output_type": "execute_result"
    }
   ],
   "source": [
    "import pandas as pd\n",
    "data = pd.read_csv('tgdd_product_description_preprocessed.csv')\n",
    "data.sample(5)"
   ]
  },
  {
   "cell_type": "markdown",
   "metadata": {},
   "source": [
    "## From DataFrame to List"
   ]
  },
  {
   "cell_type": "code",
   "execution_count": 24,
   "metadata": {},
   "outputs": [],
   "source": [
    "dataDescription = list(data['description'].values)"
   ]
  },
  {
   "cell_type": "code",
   "execution_count": 25,
   "metadata": {},
   "outputs": [
    {
     "data": {
      "text/plain": [
       "['đặc_điểm nổi_bật iphone 15 pro •_chế_tác_bộ khung viền chất_liệu titanium cứng_cáp •_sở_hữu_cấu_hình mạnh_mẽ bậc ngành điện_thoại •_camera chụp zoom_quang 3 x • video chất_lượng 4 k khả_năng chống rung đỉnh_cao • thay_thế gạt rung action_button mới_lạ tiện_lợi • chuyển_đổi cổng sạc usbc truyền_tải dữ_liệu tốc_độ',\n",
       " 'iphone 15 pro điện_thoại thông_minh mong_đợi 2023 tính_năng cải_tiến iphone 15 pro lựa_chọn tuyệt_vời tìm_kiếm điện_thoại cao_cấp',\n",
       " '• chất_lượng sản_phẩm thế_giới di_động cam_kết cung_cấp sản_phẩm iphone 15 pro hãng chất_lượng giúp yên_tâm xuất_xứ sản_phẩm tận_hưởng trải_nghiệm',\n",
       " '• ưu_đãi khuyến_mãi thế_giới di_động thường_xuyên chương_trình khuyến_mãi giảm_giá tặng quà kèm giúp tiết_kiệm khoản tiền mua iphone 15 pro',\n",
       " '• hệ_thống cửa_hàng rộng_rãi thế_giới di_động mạng_lưới cửa_hàng rộng_rãi toàn_quốc giúp dễ_dàng cửa_hàng mua_sắm kiểm_tra sản_phẩm nhân_viên cửa_hàng',\n",
       " '• dịch_vụ hậu_mãi thế_giới di_động cung_cấp dịch_vụ hậu_mãi chuyên_nghiệp bao_gồm bảo_hành sửa_chữa kỹ_thuật giúp yên_tâm iphone 15 pro',\n",
       " '• hệ_thống trả_góp linh_hoạt thế_giới di_động cung_cấp lựa_chọn trả_góp ngân_sách giúp mua sản_phẩm mong_muốn thanh_toán toàn_bộ tiền',\n",
       " '• uy_tín kinh_nghiệm 15 hoạt_động thị_trường thế_giới di_động xây_dựng uy_tín mạnh_mẽ ngành công_nghiệp điện_thoại_di_động giúp yên_tâm mua_sắm thế_giới di_động',\n",
       " '• dịch_vụ mua_sắm trực_tuyến hệ_thống cửa_hàng siêu_thị thế_giới di_động cung_cấp dịch_vụ mua_sắm trực_tuyến giúp mua hàng dễ_dàng so_sánh giá_cả',\n",
       " 'tiêu_chí',\n",
       " 'iphone 15 pro 128 gb',\n",
       " 'iphone 15 pro max 128 gb',\n",
       " 'iphone 15 plus 128 gb',\n",
       " 'iphone 15 128 gb',\n",
       " 'màn_hình',\n",
       " '• kích_thước 61 inch',\n",
       " '• super retina xdr oled',\n",
       " '• công_nghệ promotion',\n",
       " '• dynamic island',\n",
       " '• 2556 x 1179 pixels',\n",
       " '• kích_thước 67 inch',\n",
       " '• super retina xdr oled',\n",
       " '• công_nghệ promotion',\n",
       " '• dynamic island',\n",
       " '• 2796 x 1290 pixels',\n",
       " '• kích_thước 67 inch',\n",
       " '• super retina xdr oled',\n",
       " '• dynamic island',\n",
       " '• 2796 x 1290 pixels',\n",
       " '• kích_thước 61 inch',\n",
       " '• super retina xdr oled',\n",
       " '• dynamic island',\n",
       " '• 2556 x 1179 pixels',\n",
       " 'kích_thước khối_lượng',\n",
       " '• 1466 mm x 706 mm x 825 mm',\n",
       " '• 187 gram',\n",
       " '• 1599 mm x 767 mm x 825 mm',\n",
       " '• 221 gram',\n",
       " '• 1609 mm x 778 mm x 78 mm',\n",
       " '• 201 gram',\n",
       " '• 1476 mm x 716 mm x 78 mm',\n",
       " '• 171 gram',\n",
       " 'khung viền',\n",
       " 'titanium',\n",
       " 'titanium',\n",
       " 'nhôm',\n",
       " 'nhôm',\n",
       " 'chip',\n",
       " 'apple a17 pro',\n",
       " 'apple a17 pro',\n",
       " 'apple a16 bionic',\n",
       " 'apple a16 bionic',\n",
       " 'dung',\n",
       " '• 128 gb',\n",
       " '• 256 gb',\n",
       " '• 512 gb',\n",
       " '• 1 tb',\n",
       " '• 256 gb',\n",
       " '• 512 gb',\n",
       " '• 1 tb',\n",
       " '• 128 gb',\n",
       " '• 256 gb',\n",
       " '• 512 gb',\n",
       " '• 128 gb',\n",
       " '• 256 gb',\n",
       " '• 512 gb',\n",
       " 'camera',\n",
       " '• camera 12 mp f19',\n",
       " '• camera 48 mp f178',\n",
       " '• camera góc siêu rộng 12 mp f22',\n",
       " '• camera telephoto 12 mp f28 khả_năng zoom 2 x 3 x',\n",
       " '• camera 12 mp f19',\n",
       " '• camera 48 mp f178',\n",
       " '• camera góc siêu rộng 12 mp f22',\n",
       " '• camera telephoto 12 mp f28 khả_năng zoom 2 x 5 x',\n",
       " '• camera 12 mp f19',\n",
       " '• camera 48 mp f16',\n",
       " '• camera góc siêu rộng 12 mp f24',\n",
       " '• camera 12 mp f19',\n",
       " '• camera 48 mp f16',\n",
       " '• camera góc siêu rộng 12 mp f24',\n",
       " 'nút tác vụ',\n",
       " nan,\n",
       " nan,\n",
       " nan,\n",
       " nan,\n",
       " 'thời_lượng pin',\n",
       " '• nhạc 75 tiếng',\n",
       " '• video 23 tiếng',\n",
       " '• video trực_tuyến 20 tiếng',\n",
       " '• nhạc 95 tiếng',\n",
       " '• video 29 tiếng',\n",
       " '• video trực_tuyến 25 tiếng',\n",
       " '• nhạc 100 tiếng',\n",
       " '• video 26 tiếng',\n",
       " '• video trực_tuyến 20 tiếng',\n",
       " '• nhạc 80 tiếng',\n",
       " '• video 20 tiếng',\n",
       " '• video trực_tuyến 16 tiếng',\n",
       " 'cảm biến',\n",
       " 'cảm_biến tiệm cận',\n",
       " 'cảm_biến tiệm cận',\n",
       " 'cảm_biến tiệm cận',\n",
       " 'cảm_biến tiệm cận',\n",
       " 'cổng kết_nối',\n",
       " 'usbc usb 3',\n",
       " 'usbc usb 3',\n",
       " 'usbc usb 2',\n",
       " 'usbc usb 2',\n",
       " 'bảng tổng_hợp thông_số kỹ_thuật hai thế_hệ điện_thoại iphone',\n",
       " 'tiêu_chí',\n",
       " 'iphone 15 pro 128 gb',\n",
       " 'iphone 14 pro 128 gb',\n",
       " 'màn_hình',\n",
       " nan,\n",
       " '• màn_hình super retina xdr',\n",
       " '• màn_hình toàn oled 61 inch',\n",
       " '•_độ phân_giải 2556 x 1179 pixels',\n",
       " '• mật_độ ảnh 460 ppi',\n",
       " '• màn_hình dải màu rộng p3',\n",
       " '•_độ 2000 nit',\n",
       " '• dynamic island',\n",
       " '• công_nghệ promotion tốc_độ thích_ứng 120 hz',\n",
       " '• màn_hình bật',\n",
       " nan,\n",
       " '• màn_hình super retina xdr',\n",
       " '• màn_hình toàn oled 61 inch',\n",
       " '•_độ phân_giải 2556 x 1179 pixels',\n",
       " '• mật_độ ảnh 460 ppi',\n",
       " '• màn_hình dải màu rộng p3',\n",
       " '•_độ 2000 nit',\n",
       " '• dynamic island',\n",
       " '• công_nghệ promotion tốc_độ thích_ứng 120 hz',\n",
       " '• màn_hình bật',\n",
       " 'kích_thước khối_lượng',\n",
       " nan,\n",
       " '• 1466 x 706 x 825 mm',\n",
       " '• 187 g',\n",
       " nan,\n",
       " '• 1475 x 715 x 785 mm',\n",
       " '• 206 g',\n",
       " 'khung viền',\n",
       " 'titan mặt kính nhám',\n",
       " 'thép gỉ mặt kính nhám',\n",
       " 'chip',\n",
       " 'a17 pro',\n",
       " 'a16 bionic',\n",
       " 'ram',\n",
       " 'bộ_nhớ',\n",
       " 'hệ điều_hành',\n",
       " 'camera',\n",
       " '• camera truedepth 12 mp',\n",
       " '• camera 48 mp ultra wide 12 mp telephoto 12 mp',\n",
       " '• camera truedepth 12 mp',\n",
       " '• camera 48 mp ultra wide 12 mp telephoto 12 mp',\n",
       " 'nút tác vụ',\n",
       " 'action button',\n",
       " 'nút chuyển_đổi chuôngim_lặng',\n",
       " 'thời_lượng pin',\n",
       " nan,\n",
       " '• nhạc 75 tiếng',\n",
       " '• video 23 tiếng',\n",
       " '• video trực_tuyến 20 tiếng',\n",
       " nan,\n",
       " '• nhạc 75 tiếng',\n",
       " '• video 23 tiếng',\n",
       " '• video trực_tuyến 20 tiếng',\n",
       " 'cảm biến',\n",
       " nan,\n",
       " '• lidar scanner',\n",
       " '• hồi',\n",
       " '•_gia_tốc kế_lực g',\n",
       " '• cảm_biến tiệm cận',\n",
       " '• hai cảm_biến ánh_sáng môi_trường',\n",
       " '• áp_kế',\n",
       " nan,\n",
       " '• lidar scanner',\n",
       " '• hồi',\n",
       " '•_gia_tốc kế_lực g',\n",
       " '• cảm_biến tiệm cận',\n",
       " '• hai cảm_biến ánh_sáng môi_trường',\n",
       " '• áp_kế',\n",
       " 'cổng kết_nối',\n",
       " 'usbc usb 3',\n",
       " 'lightning usb 2',\n",
       " 'công_suất sạc',\n",
       " 'sạc',\n",
       " 'màu_sắc',\n",
       " 'kết_nối',\n",
       " 'thiết_kế iphone 15 pro apple lưu_giữ vẻ vuông_vức đặc_trưng thế_hệ mặt lưng khung phẳng giúp hòa_quyện tuyệt_vời hai điện_thoại thanh_lịch hiện_đại nghĩa',\n",
       " 'ảnh trích applecom',\n",
       " 'mặt lưng kính cường_lực cao_cấp thiết_bị trở_nên sang_trọng bền_bỉ vẻ đẹp mà_còn bền độ ổn_định hằng',\n",
       " 'thế_hệ thay_vì chất_liệu nhôm apple titanium chế_tạo khung máy ấn_tượng giúp khung máy cứng_cáp bền_bỉ cảm_giác sang_trọng đẳng_cấp hơn_bao_giờ',\n",
       " 'ảnh trích applecom',\n",
       " 'iphone 15 pro thiết_kế khung sản_phẩm đường viền nhẹ giao khung mặt lưng cầm nắm sản_phẩm trở_nên giúp trải_nghiệm thoải_mái điện_thoại',\n",
       " 'hình notch_dạng viên thuốc tiện_dụng iphone 15 pro tối_ưu_hóa không_gian màn_hình hiển_thị mượt_mà kiểu hình_notch thú_vị apple bổ_sung chế_độ hiển_thị mới_lạ thông_qua tính_năng dynamic island',\n",
       " 'ảnh trích applecom',\n",
       " 'viền màn_hình siêu mỏng iphone 15 pro trải_nghiệm tầm thú_vị mắt cảm_giác trở_nên cực_kỳ dễ_chịu thoải_mái hề bí_bách khó_chịu',\n",
       " 'thay_vì phím_gạt phiên_bản iphone 15 pro nâng_cấp nút bấm nguyên cũ cho_phép dễ_dàng điều_chỉnh chế_độ bật tắt_chuông điện_thoại iphone hề máy cho_phép cài tiện_ích ứng_dụng thông_qua phím chức_năng',\n",
       " 'apple quyết_định cổng kết_nối lightning typec iphone 15 pro đáp_ứng nhu_cầu tốc_độ tích_hợp đa_dụng giúp truyền dữ_liệu sạc_pin nhanh_chóng hơn_bao_giờ',\n",
       " 'ảnh trích applecom',\n",
       " 'cổng typec tiêu_chuẩn kết_nối phổ_biến thiết_bị apple bao_gồm mac ipad airpods giúp cáp sạc thiết_bị giúp tiết_kiệm không_gian sản_phẩm hệ_sinh_thái apple',\n",
       " 'áp_dụng phiên_bản thế_hệ chuẩn typec',\n",
       " 'iphone 15 pro công_nghệ esim cho_phép lưu_trữ tối_đa 8 esim điện_thoại số_lượng esim hoạt_động phụ_thuộc thị_trường khu_vực giới_hạn 1 2 1 thị_trường việt_nam',\n",
       " 'khả_năng kích_hoạt_esim trực_tuyến giúp dễ_dàng chuyển_đổi nhà_mạng điện_thoại iphone thay_vì cửa_hàng nhà_mạng kích_hoạt_esim thông_qua trang_web ứng_dụng nhà_mạng',\n",
       " 'iphone 15 pro trang_bị cụm 3 camera camera 48 mp camera góc siêu rộng 12 mp camera tele 12 mp camera 48 mp cho_phép chụp ảnh sắc nét giúp thu vẻ đẹp khung_cảnh trọn_vẹn',\n",
       " 'ảnh trích applecom',\n",
       " 'cảm_biến camera iphone 15 pro thu ánh_sáng giúp ảnh chụp ánh_sáng yếu độ ít_nhiễu chi_tiết',\n",
       " 'ảnh trích applecom',\n",
       " 'camera tele 12 mp chụp zoom_quang học 3 x tương_tự tiêu_cự 77 mm khả_năng zoom kỹ_thuật 15 x bận_tâm chất_lượng ảnh đi quan_ngại liệu máy zoom tính_năng tiện_ích flagship',\n",
       " 'ảnh trích applecom',\n",
       " 'camera iphone 15 pro độ phân_giải 12 mp cho_phép chụp ảnh selfie gọi video chất_lượng camera video 4 k tốc_độ khung_hình 60 fps',\n",
       " 'iphone 15 pro video 28 k tốc_độ khung_hình 60 fps chế_độ hành_động tính_năng giúp ghi khoảnh_khắc độ phân_giải độ ổn_định chạy video kết_quả giật lag nhòe mờ',\n",
       " 'ảnh trích applecom',\n",
       " 'chế_độ cinematic iphone 15 pro cho_phép video hiệu_ứng xóa_phông tự_nhiên chế_độ công_nghệ theo_dõi đối_tượng tự_động nét chủ_thể mờ hậu_cảnh giúp video trông chuyên_nghiệp chủ_thể nhân_vật đám đông nổi_bật',\n",
       " 'chụp ảnh chân_dung tiêu_cự cố_định iphone 15 pro trang_bị camera tele khả_năng thu phóng_quang_học 3 x giúp điều_chỉnh tiêu_cự liền_mạch chính_xác ảnh chân_dung độ chi_tiết hiệu_ứng xóa_phông đẹp_mắt',\n",
       " 'ảnh trích applecom',\n",
       " 'tính_năng chế_độ chụp chân_dung iphone 15 pro khả_năng chuyển_đổi tiêu_điểm chụp dễ_dàng điều_chỉnh tiêu_điểm chạm màn_hình giúp ảnh chân_dung sáng_tạo',\n",
       " 'ảnh trích applecom',\n",
       " 'chế_độ chụp chân_dung iphone 15 pro trang_bị công_cụ photonic loạt cải_tiến chất_lượng hình_ảnh công_cụ giúp cải_thiện độ chi_tiết sắc_thái màu_sắc độ trễ màn_trập hiệu_suất chụp ảnh ánh_sáng yếu',\n",
       " 'iphone 15 pro trang_bị oled công_nghệ hiển_thị tiên_tiến màu_sắc sáng_rực độ tương_phản vượt_trội giúp hình_ảnh sắc nét chân_thực chuyển_động mượt',\n",
       " 'màn_hình oled nổi_bật thiết_bị màn_hình oled',\n",
       " 'cạnh trang_bị cao_cấp điện_thoại công_nghệ phụ hdr display true tone dải màu rộng p3 cho_phép nội_dung tái_hiện chân_thực màu_sắc độ chuẩn_xác phục_vụ chỉnh_sửa nội_dung đa phương_tiện trở_nên thuận_tiện dễ_dàng hơn_bao_giờ',\n",
       " 'độ phân_giải super retina xdr 1179 x 2556 pixels iphone 15 series cho_phép trải_nghiệm hình_ảnh độ chi_tiết cao_cấp pixel màn_hình điều_chỉnh tối_ưu hình_ảnh sắc nét màu_sắc chính_xác độ tương_phản đỉnh',\n",
       " 'ảnh trích applecom',\n",
       " 'kích_thước lý_tưởng màn_hình 61 inch cho_phép cầm nắm thiết_bị thoải_mái tiện_lợi trải_nghiệm video game đỉnh_cao',\n",
       " 'viền màn_hình iphone 15 pro thiết_kế mỏng iphone 14 pro trải_nghiệm thoải_mái đắm chìm_viền màn_hình mỏng góp_phần tổng_thể thiết_kế thanh_thoát tinh_tế máy giúp iphone 15 pro điện_thoại đẹp thị_trường',\n",
       " 'độ 2000 nits màn_hình iphone 15 pro cho_phép nội_dung ánh_sáng mạnh_mẽ iphone 15 pro tính_năng alwayson display giúp thông_tin điện_thoại trở_nên đẹp_mắt thú_vị đặtđể bàn làm_việc',\n",
       " 'tính_năng nổi_bật iphone 15 pro dynamic island khuyết_hình_viên thuốc màn_hình dynamic island chứa camera truedepth cảm_biến mà_còn tính_năng tương_tác giúp dễ_dàng thông_tin thao_tác thiết_bị',\n",
       " 'ảnh trích applecom',\n",
       " 'dynamic island khuyết_chứa camera tính_năng tương_tác giúp dễ_dàng thao_tác thiết_bị dynamic island điều_khiển_nhạc trả_lời cuộc_gọi thao_tác chỉ_dẫn đường_bộ đếm ghi_âm',\n",
       " 'apple tính_năng chú_ý bong bóng_nhân đôi tính_năng cho_phép hai ứng_dụng màn_hình ứng_dụng hiển_thị dạng bong_bóng hình notch',\n",
       " 'ảnh trích internet',\n",
       " 'ví_dụ trò_chuyện bạn_bè chỉ_dẫn bản_đồ theo_dõi điểm_số đội giải_trí nội_dung mở_rộng hoạt_động chạm ứng_dụng',\n",
       " 'động_cơ đằng hoạt_động iphone 15 pro vi apple a17 pro vi_xử_lý mạnh_mẽ tiên_tiến thị_trường ra_mắt điện_thoại hiệu_năng tối_ưu hiệu_suất đỉnh_cao biến điện_thoại thành công_cụ linh_hoạt mạnh_mẽ đáp_ứng',\n",
       " 'hãng đề_cập a17_pro hiệu_năng mạnh_mẽ 10 cpu 20 gpu gấp 2 công_cụ thần_kinh neural engine giúp 35 nghìn tỷ_phép giây 16 lõi a16 quả_thực con_số cực_kỳ ấn_tượng thị_trường chipset điện_thoại tự_tin cân_tất tựa_game',\n",
       " 'ảnh trích applecom',\n",
       " 'iphone 15 pro khả_năng chạy mượt_mà ứng_dụng tác_vụ đa_nhiệm trở_ngại khả_năng quản_lý dữ_liệu chuyển_đổi ứng_dụng nhanh_chóng iphone 15 pro dễ_dàng',\n",
       " 'iphone 15 pro chạy hệ điều_hành ios 17 phiên_bản cập_nhật apple ios 17 giao_diện thân_thiện đa_dạng tính_năng tối_ưu_hóa tiện_ích mở_rộng cung_cấp trải_nghiệm mượt_mà bảo_mật tối_đa khả_năng tương_tác đa phương_tiện đỉnh_cao',\n",
       " 'ios 17 chính_thức ra_mắt máy',\n",
       " 'iphone 15 pro trang_bị viên pin cung_cấp thời_lượng video 23 con_số ấn_tượng năng_lượng thiết_bị dung_lượng cho_phép video game ứng_dụng lo_lắng sạc_pin thường_xuyên',\n",
       " 'nổi_bật apple iphone 15 pro thời_lượng phát video 6 iphone 12 pro chênh_lệch giúp yên_tâm thiết_bị lo_lắng pin',\n",
       " 'khả_năng sạc tính_năng giúp tiết_kiệm iphone 15 pro sạc 20 w cho_phép nạp pin nhanh_chóng bận_rộn họp đường đi sạc_pin hiệu_quả nhanh_chóng sẵn_sàng nhiệm_vụ',\n",
       " 'trang hãng iphone 15 pro khả_năng sạc 50 vòng 30 phút',\n",
       " 'ảnh trích applecom',\n",
       " 'iphone 15 pro sản_phẩm apple chính_thức hệ điều_hành di_động ios 17 phiên_bản ios cải_tiến hiệu_năng bảo_mật trải_nghiệm',\n",
       " 'áp_phích liên_hệ hóa tối_ưu',\n",
       " 'tính_năng nổi_bật ios 17 áp_phích liên_hệ tuyệt_vời ảnh đại_diện tùy_chỉnh danh_bạ thay_vì ảnh đại_diện tĩnh_thường áp_phích liên_hệ hình_ảnh văn_bản yếu_tố đồ họa độc_đáo đa_dạng sáng_tạo danh_bạ',\n",
       " 'giúp thể_hiện cá_tính áp_phích liên_hệ giúp dễ_dàng liên_hệ danh_bạ thông_tin nhận_dạng dựa sở_thích quan_hệ giúp danh_bạ hóa giúp tìm_kiếm kết_nối dễ_dàng hơn_bao_giờ',\n",
       " 'namedrop dễ_dàng nhanh_chóng',\n",
       " 'tính_năng tiện_ích ios 17 namedrop namedrop thông_tin liên_hệ nhanh_chóng thiết_bị apple chạm hai thiết_bị tính_năng công_nghệ airdrop tiên_tiến truyền_thông_tin liên_hệ bluetooth wifi',\n",
       " 'thiết_bị ios 17',\n",
       " 'ảnh trích applecom',\n",
       " 'namedrop dễ_dàng nhanh_chóng',\n",
       " 'tính_năng tiện_ích ios 17 namedrop namedrop thông_tin liên_hệ nhanh_chóng thiết_bị apple chạm hai thiết_bị tính_năng công_nghệ airdrop tiên_tiến truyền_thông_tin liên_hệ bluetooth wifi',\n",
       " 'dễ_dàng điện_thoại địa_chỉ email thông_tin bạn_bè đồng_nghiệp namedrop dữ_liệu thiết_bị trở_nên dễ_dàng tiện_lợi hơn_bao_giờ',\n",
       " 'đường vệ_tinh',\n",
       " 'nổi_bật iphone 15 pro tính_năng đường qua_vệ tinh_đây ứng_dụng an_toàn tiện_ích tính_năng khả_năng gửi đường nhà_cung_cấp dịch_vụ đường nhanh_chóng hiệu_quả sự_cố đường',\n",
       " 'ảnh trích applecom',\n",
       " 'gửi vệ_tinh iphone kết_nối mạng di_động wifi cần_thiết đặt_chân',\n",
       " 'phát_hiện va_chạm',\n",
       " 'an_toàn ưu_tiên hàng_đầu lái_xe iphone 15 pro an_tâm tính_năng phát_hiện va_chạm tính_năng cảm_biến iphone phát_hiện vụ va_chạm ô_tô nghiêm_trọng iphone cảm_nhận va_chạm tự_động kích_hoạt chuỗi biện_pháp an_toàn',\n",
       " 'điện_thoại tự_động gửi cuộc_gọi dịch_vụ khẩn_cấp liên_hệ khẩn_cấp giúp giúp_đỡ cuộc_gọi',\n",
       " 'tính_năng khả_năng ghi thông_tin vụ va_chạm bao_gồm chi_tiết hữu_ích điều_tra xác_định nguyên_nhân sự_cố',\n",
       " 'iphone apple_watch hoạt_động liền mạch',\n",
       " 'apple watch đồng_hồ thông_thường mà_còn trợ_thủ đắc_lực iphone khả_năng trả_lời cuộc_gọi kiểm_tra nhắn điều_khiển ứng_dụng iphone apple watch giúp tiết_kiệm tiện_lợi cuộc_sống hàng',\n",
       " 'theo_dõi sức_khỏe thể_dục cung_cấp thông_tin thời_tiết giao_thông giúp hướng thông_minh',\n",
       " 'iphone mac kết_nối dễ_dàng tính_năng handoff',\n",
       " 'năng_handoff iphone mac ví_dụ hoàn_hảo apple chuyển_đổi thiết_bị trở_nên dễ_dàng hơn_bao_giờ công_việc iphone hoàn_thành mac gián_đoạn hữu_ích di_chuyển thiết_bị làm_việc giải_trí',\n",
       " 'apple tích_hợp tính_năng_icloud hoàn_hảo hệ_thống cho_phép đồng_bộ hóa dữ_liệu iphone mac dễ_dàng truy_cập tài_liệu ảnh ứng_dụng hai thiết_bị công_sức đồng_bộ hóa thủ_công',\n",
       " 'ảnh trích applecom',\n",
       " 'iphone airpods âm_nhạc dây',\n",
       " 'airpods dòng tai dây apple trải_nghiệm âm_nhạc trò_chuyện hoạt_động hoàn_hảo iphone thiết_bị apple airpods dễ_dàng nhạc_podcast trả_lời cuộc_gọi lo_lắng dây_cáp rườm_rà airpods điều_khiển siri giúp tương_tác điện_thoại tự_nhiên',\n",
       " 'iphone 15 pro điện_thoại thông_minh ưu_điểm thiết_kế đẹp hiệu_năng mạnh_mẽ camera tuyệt_vời giá_cả hợp_lý tìm_kiếm điện_thoại đáp_ứng nhu_cầu iphone 15 pro lựa_chọn cân_nhắc',\n",
       " 'iphone 15 pro mấy màu',\n",
       " 'iphone 15 pro hiện ra_mắt 4 màu_sắc titan tự_nhiên natural titanium titan trắng white titanium titan đen black titanium titan xanh blue_titanium màu_sắc thiết_kế tone màu huyền_bí lịch_lãm giúp toát vẻ đẹp sang_trọng đẳng_cấp',\n",
       " 'camera iphone 15 pro chụp ảnh',\n",
       " 'camera iphone 15 pro độ phân_giải 48 mp khẩu_độ tính_năng chụp ảnh tiên_tiến giúp iphone 15 pro chụp ảnh sắc nét sống_động chuyên_nghiệp',\n",
       " 'iphone 15 pro chạy chip mạnh_mẽ',\n",
       " 'iphone 15 pro chip apple a17 pro chip apple a17_pro hiệu_năng vượt_trội giúp iphone 15 pro chạy mượt_mà ứng_dụng game',\n",
       " 'bảng tổng_hợp giá iphone 15 pro phiên_bản bộ_nhớ thị_trường quốc_tế việt_nam',\n",
       " 'phiên_bản iphone 15 pro',\n",
       " 'giá thị_trường quốc_tế',\n",
       " 'iphone 15 pro lựa_chọn hết_sức lý_tưởng kinh_tế kiểu_dáng đẹp cấu_hình khủng iphone 15 pro trải_nghiệm mượt_mà ổn_định cực_kỳ',\n",
       " 'đặc_điểm nổi_bật iphone 15 plus • màn_hình dynamic_island thay_thế tai_thỏ tiện_lợi • 5 phiên_bản màu đặc_sắc thiết_kế mặt kính pha màu thị_trường • chip a16 bionic hiệu_năng vượt_trội • hệ_thống camera 48 mp telephoto 2 x giúp chụp ảnh chân_thực_sắc nét • màn_hình oled super retina xdr chất_lượng đồ họa lý_tưởng • ứng_dụng hệ điều_hành ios 17',\n",
       " 'thế_giới di_động bán_lẻ điện_thoại_di_động việt_nam cung_cấp đa_dạng sản_phẩm iphone 15 hãng giá_cạnh_tranh mua iphone 15 thế_giới di_động',\n",
       " '• chất_lượng sản_phẩm thế_giới di_động cam_kết cung_cấp sản_phẩm iphone 15 hãng giúp yên_tâm chất_lượng sản_phẩm hưởng đầy_đủ quyền_lợi bảo_hành apple',\n",
       " '• ưu_đãi khuyến_mãi thế_giới di_động thường_xuyên chương_trình khuyến_mãi giảm_giá tặng quà kèm giúp tiết_kiệm chi_phí mua_sắm',\n",
       " '• hệ_thống cửa_hàng rộng_rãi thế_giới di_động mạng_lưới cửa_hàng rộng khắp toàn_quốc giúp dễ_dàng tìm_kiếm mua_sắm trải_nghiệm sản_phẩm cửa_hàng nhân_viên',\n",
       " '• dịch_vụ hậu_mãi thế_giới di_động cung_cấp dịch_vụ hậu_mãi chuyên_nghiệp bao_gồm bảo_hành sửa_chữa kỹ_thuật giúp yên_tâm sản_phẩm',\n",
       " '• hệ_thống trả_góp linh_hoạt thế_giới di_động cung_cấp lựa_chọn trả_góp ngân_sách giúp mua sản_phẩm mong_muốn thanh_toán toàn_bộ tiền',\n",
       " '• uy_tín kinh_nghiệm 15 hoạt_động thị_trường thế_giới di_động xây_dựng uy_tín mạnh_mẽ ngành công_nghiệp điện_thoại_di_động giúp yên_tâm mua_sắm',\n",
       " '• dịch_vụ mua_sắm trực_tuyến hệ_thống cửa_hàng siêu_thị thế_giới di_động cung_cấp dịch_vụ mua_sắm trực_tuyến giúp mua hàng dễ_dàng so_sánh giá_cả',\n",
       " 'tiêu_chí',\n",
       " 'iphone 15 plus 128 gb',\n",
       " 'iphone 15 128 gb',\n",
       " 'iphone 15 pro 128 gb',\n",
       " 'iphone 15 pro max 128 gb',\n",
       " 'màn_hình',\n",
       " '• 67 inch',\n",
       " '• màn_hình super retina xdr',\n",
       " '•_độ phân_giải 2796x1290_pixels mật_độ ảnh 460 ppi',\n",
       " '• 61 inch',\n",
       " '• màn_hình super retina xdr',\n",
       " '•_độ phân_giải 2556x1179_pixels mật_độ ảnh 460 ppi',\n",
       " '• 61 inch',\n",
       " '• màn_hình super retina xdr',\n",
       " '•_độ phân_giải 2556x1179_pixels mật_độ ảnh 460 ppi',\n",
       " '• 67 inch',\n",
       " '• màn_hình super retina xdr',\n",
       " '•_độ phân_giải 2796x1290_pixels mật_độ ảnh 460 ppi',\n",
       " 'kích_thước khối_lượng',\n",
       " '• 1609 x 778 x 780 mm x rộng x dày',\n",
       " '• 201 gram',\n",
       " '• 1476 x 716 x 780 mm x rộng x dày',\n",
       " '• 171 gram',\n",
       " '• 1466 x 706 x 825 mm x rộng x dày',\n",
       " '• 187 gram',\n",
       " '• 1599 x 767 x 825 mm x rộng x dày',\n",
       " '• 221 gram',\n",
       " 'khung viền',\n",
       " 'nhôm mặt kính pha màu',\n",
       " 'nhôm mặt kính pha màu',\n",
       " 'titan mặt kính nhám',\n",
       " 'titan mặt kính nhám',\n",
       " 'chip',\n",
       " 'chip a16 bionic',\n",
       " 'chip a16 bionic',\n",
       " 'chip a17 pro',\n",
       " 'chip a17 pro',\n",
       " 'camera',\n",
       " '• hệ_thống camera kép tiên_tiến 48 mp ultra wide 12 mp',\n",
       " '• camera truedepth',\n",
       " '• lựa_chọn thu phóng quang_học 05 x 1 x 2 x',\n",
       " '• hệ_thống camera kép tiên_tiến 48 mp ultra wide 12 mp',\n",
       " '• camera truedepth',\n",
       " '• lựa_chọn thu phóng quang_học 05 x 1 x 2 x',\n",
       " '• hệ_thống camera chuyên_nghiệp 48 mp ultra wide 12 mp telephoto 12 mp',\n",
       " '• camera truedepth',\n",
       " '• lựa_chọn thu phóng quang_học 05 x 1 x 2 x 3 x',\n",
       " '• hệ_thống camera chuyên_nghiệp 48 mp ultra wide 12 mp telephoto 12 mp',\n",
       " '• camera truedepth',\n",
       " '• lựa_chọn thu phóng quang_học 05 x 1 x 2 x 5 x',\n",
       " 'nút tác vụ',\n",
       " 'nút chuyển_đổi chuôngim_lặng',\n",
       " 'nút chuyển_đổi chuôngim_lặng',\n",
       " 'nút action button',\n",
       " 'nút action button',\n",
       " 'thời_lượng pin',\n",
       " '• video 26',\n",
       " '• video trực_tuyến 20',\n",
       " '• nhạc 100',\n",
       " '• video 20',\n",
       " '• video trực_tuyến 16',\n",
       " '• nhạc 80',\n",
       " '• video 23',\n",
       " '• video trực_tuyến 20',\n",
       " '• nhạc 75',\n",
       " '• video 29',\n",
       " '• video trực_tuyến 25',\n",
       " '• nhạc 95',\n",
       " 'cảm biến',\n",
       " 'hồi chuyển_độ lệch tương_phản',\n",
       " 'hồi chuyển_độ lệch tương_phản',\n",
       " '• lidar scanner',\n",
       " '• hồi chuyển_độ lệch tương_phản',\n",
       " '• lidar scanner',\n",
       " '• hồi chuyển_độ lệch tương_phản',\n",
       " 'cổng kết_nối',\n",
       " '• usbc',\n",
       " '• usb 2',\n",
       " '• usbc',\n",
       " '• usb 2',\n",
       " '• usbc',\n",
       " '• usb 3 10 gbs',\n",
       " '• usbc',\n",
       " '• usb 3 10 gbs',\n",
       " 'bảng tổng_hợp thông_số kỹ_thuật hai thế_hệ điện_thoại iphone',\n",
       " 'tiêu_chí',\n",
       " 'iphone 15 plus 128 gb',\n",
       " 'iphone 14 plus 128 gb',\n",
       " 'màn_hình',\n",
       " '• 67 inch',\n",
       " '• màn_hình super retina xdr',\n",
       " '•_độ phân_giải 2796x1290_pixel mật_độ ảnh 460 ppi',\n",
       " '• 67 inch',\n",
       " '• màn_hình super retina xdr',\n",
       " '•_độ phân_giải 2778x1284_pixel mật_độ ảnh 458 ppi',\n",
       " 'kích_thước khối_lượng',\n",
       " '• 1609 x 778 x 780 mm x rộng x dày',\n",
       " '• 201 gram',\n",
       " '• 1608 x 781 x 780 mm x rộng x dày',\n",
       " '• 203 gam',\n",
       " 'chip',\n",
       " 'chip a16 bionic',\n",
       " 'chip a15 bionic',\n",
       " 'camera',\n",
       " '• hệ_thống camera kép tiên_tiến 48 mp ultra wide 12 mp',\n",
       " '• camera truedepth',\n",
       " '• lựa_chọn thu phóng quang_học 05 x 1 x 2 x',\n",
       " '• hệ_thống camera kép 12 mp ultra wide',\n",
       " '• camera truedepth',\n",
       " '• lựa_chọn thu phóng_quang học học 05 x 1 x',\n",
       " 'thời_lượng pin',\n",
       " '• video 26',\n",
       " '• video trực_tuyến 20',\n",
       " '• nhạc 100',\n",
       " '• video 26',\n",
       " '• video trực_tuyến 20',\n",
       " '• nhạc 100',\n",
       " 'cổng kết_nối',\n",
       " '• usbc',\n",
       " '• usb 2',\n",
       " '• lightning',\n",
       " '• usb 2',\n",
       " 'apple kiểu thiết_kế vuông_vắn thế_hệ iphone 2023 giúp cảm_giác cứng_cáp độc_đáo màn_hình điện_thoại thiết_kế phẳng thú_vị hiện_đại hơn_bao_giờ_hết thiết_kế vẻ đẹp độc_đáo mà_còn tối_ưu_hóa trải_nghiệm cầm nắm sản_phẩm',\n",
       " 'iphone 15 plus thể_hiện sự_cố_gắng apple sáng_tạo chất_liệu cao_cấp điện_thoại iphone khung nhôm độc_đáo đẳng_cấp',\n",
       " 'ảnh trích applecom',\n",
       " 'kính pha màu cải_tiến chú_ý thiết_kế iphone 15 plus chất_liệu chế_tạo mặt lưng điện_thoại trở_nên sang_trọng tinh_tế bắt_mắt',\n",
       " 'kính pha màu gia_cố độ bền quy_trình trao_đổi ion_kép quy_trình điện_áp cấu_trúc phân_tử kính trở_nên cứng chống trầy_xước',\n",
       " 'ảnh trích applecom',\n",
       " 'iphone 15 plus hình notch_dạng viên thuốc màn_hình thay_vì tai_thỏ thế_hệ trải_nghiệm giúp điện_thoại thú_vị hình_notch tính_năng dynamic island giúp tương_tác ứng_dụng thú_vị tiện_ích',\n",
       " 'ảnh trích applecom',\n",
       " 'viền màn_hình iphone 15 plus thiết_kế mỏng cảm_giác hấp_dẫn tối_ưu_hóa trải_nghiệm video game màn_hình viền mỏng tỷ_lệ màn_hình thân máy ấn_tượng',\n",
       " 'sự_kiện ra_mắt iphone 15 series 9 2023 apple trang_bị cổng usbc iphone 15 plus lịch_sử điện_thoại hãng bước_ngoặt giúp hệ_sinh_thái apple trở_nên thống_nhất tiện_dụng',\n",
       " 'cổng usbc iphone 15 plus cáp_sạc thiết_bị apple bao_gồm mac ipad airpods giúp tiết_kiệm chi_phí rắc_rối cáp_sạc',\n",
       " 'ảnh trích applecom',\n",
       " 'cổng usbc sạc siêu apple iphone 15 plus sạc 50 30 phút giúp nhanh_chóng nạp pin thiết_bị cần_thiết',\n",
       " 'iphone 15 plus trang_bị cặp camera camera độ phân_giải 48 mp phụ 12 mp theo_đuổi đua số_lượng camera thay apple tối_ưu_hóa chất_lượng ảnh nâng khả_năng chụp ảnh sắc_nét chất_lượng màu_sắc',\n",
       " 'iphone 15 trang_bị camera telephoto 2 x 12 mp chụp ảnh cận_cảnh zoom_quang học 2 x camera máy khẩu_độ f16 giúp chụp ảnh nâng chất_lượng ảnh',\n",
       " 'ảnh trích applecom',\n",
       " 'xuất_sắc nhiếp_ảnh iphone 15 plus cỗ máy quay_phim ấn_tượng khả_năng video 4 k tốc_độ khung_hình 60 fps video chất_lượng chuyên_nghiệp độ mượt sắc_nét kinh_ngạc',\n",
       " 'ảnh video_mượt iphone 15 plus trang_bị tính_năng chống rung cải_tiến gọi_là action mode video chụp ảnh ánh_sáng yếu lo_lắng bắt gọn khoảnh_khắc',\n",
       " 'camera iphone 15 plus hề thua_kém độ phân_giải 12 mp cho_phép chụp ảnh tự_sướng chất_lượng khả_năng video 4 k kỷ_nguyên ghi khoảnh_khắc cuộc_sống',\n",
       " 'camera iphone 15 nâng_cấp khả_năng nét tự_động tính_năng giúp chụp ảnh selfie_sắc nét ánh_sáng yếu',\n",
       " 'ảnh trích applecom',\n",
       " 'tiêu_điểm đối_tượng',\n",
       " 'iphone 15 plus điện_thoại thông_minh camera thị_trường hệ_thống camera 48 mp iphone 15 plus khả_năng chụp ảnh chân_dung chất_lượng tuyệt đẹp',\n",
       " 'tính_năng nổi_bật iphone 15 plus khả_năng tiêu_điểm đối_tượng tính_năng cho_phép chụp ảnh chân_dung đối_tượng khung_hình dễ_dàng điều_chỉnh tiêu_điểm nổi_bật đối_tượng',\n",
       " 'ảnh trích applecom',\n",
       " 'tiêu_điểm đối_tượng chế_độ chụp chân_dung chụp ảnh iphone 15 plus dễ_dàng chụp',\n",
       " 'ảnh photonic',\n",
       " 'iphone 15 plus trang_bị công_nghệ ảnh photonic giúp cải_thiện chất_lượng ảnh chân_dung ánh_sáng yếu công_nghệ loạt cảm_biến thuật_toán ảnh chân_dung nét chân_thực',\n",
       " 'ảnh trích applecom',\n",
       " 'zoom chụp chân_dung',\n",
       " 'iphone 15 plus zoom chụp chân_dung giúp chụp ảnh chân_dung chất_lượng ảnh',\n",
       " 'nâng_cấp tính_năng chụp ảnh chân_dung iphone 15 plus trở_nên hoàn_hảo linh_hoạt hơn_bao_giờ tính_năng tuyệt_vời yêu_thích chụp ảnh chân_dung',\n",
       " 'ảnh trích applecom',\n",
       " 'oled màn_hình iphone 15 plus màu_sắc chân_thực độ tương_phản vượt_trội mà_còn tiết_kiệm năng_lượng màu đen sâu màu_sắc sống_động trải_nghiệm hình_ảnh sắc nét chân_thực hơn_bao_giờ',\n",
       " 'màn_hình oled nổi_bật thiết_bị màn_hình oled',\n",
       " 'ảnh trích applecom',\n",
       " 'độ phân_giải super retina xdr 1290 x 2796 pixels màn_hình iphone 15 plus đem sắc_nét kinh_ngạc chi_tiết màn_hình hiển_thị rõ_ràng hình_ảnh văn_bản phim game đơn_giản lướt_web hiển_thị chất_lượng',\n",
       " 'màn_hình iphone 15 plus kích_thước 67 inch thoải_mái hằng không_gian rộng_rãi tận_hưởng nội_dung đa phương_tiện công_việc',\n",
       " 'bảo_vệ màn_hình iphone 15 plus trang_bị mặt kính cường_lực đỉnh_cao khả_năng chống trầy_xước va_đập màn_hình nâng_cấp giúp yên_tâm lo_lắng vết trầy_xước hỏng hóc độ 2000 nits màn_hình iphone 15 plus tự_tin hiển_thị nội_dung rõ_ràng ánh_sáng',\n",
       " 'tính_năng nổi_bật iphone 15 plus dynamic_island thay_thế notch tai_thỏ dynamic island diện_tích màn_hình hiển_thị thông_báo tính_năng giúp diện_tích hiển_thị nội_dung trải_nghiệm thoải_mái',\n",
       " 'dynamic island cho_phép tương_tác tính_năng màn_hình khóa điện_thoại giúp tiết_kiệm nâng hiệu_quả ví_dụ trả_lời tin_nhắn điều_khiển nhạc thời_tiết dynamic island ứng_dụng tương_ứng',\n",
       " 'ảnh trích applecom',\n",
       " 'bong bóng_nhân đôi tính_năng chú_ý iphone 15 plus trường_hợp dynamic island chia thành hai cảm_biến face id camera hai hoạt_động diễn dynamic_island chia đôi hiển_thị hai hoạt_động',\n",
       " 'ví_dụ trò_chuyện bạn_bè ứng_dụng messenger theo_dõi_bộ đếm ứng_dụng theo_dõi tỷ_số đội game',\n",
       " 'iphone 15 plus trang_bị vi apple a16 bionic khả_năng đỉnh_cao hiệu_năng đa_nhiệm mượt tác_vụ tận_hưởng trải_nghiệm game phim làm_việc lo_lắng hiệu_suất',\n",
       " 'ảnh trích applecom',\n",
       " 'iphone 15 plus máy sức_mạnh ứng_dụng tác_vụ đa_nhiệm mượt_mà ứng_dụng đóng ứng_dụng',\n",
       " 'điện_thoại game cấu_hình chạy hệ điều_hành ios 17 phiên_bản apple đồng_nghĩa trải_nghiệm tính_năng tân_tiến giao_diện thân_thiện tích_hợp dịch_vụ apple siri thông_minh ứng_dụng tiện_ích bảo_mật nâng ios 17 trải_nghiệm tầm',\n",
       " 'hiệu_năng mạnh_mẽ iphone 15 plus trang_bị tính_năng kết_nối tiên_tiến bao_gồm 5 g wifi 6 e giúp truy_cập internet nhanh_chóng ổn_định',\n",
       " 'khả_năng lưu_trữ esim',\n",
       " 'iphone 15 plus khả_năng lưu_trữ 8 esim nghĩa đăng_ký gói cước di_động nhà_mạng kích_hoạt_chúng tùy thị_trường khu_vực máy 1 2 8 esim lưu_trữ',\n",
       " 'kích_hoạt_esim',\n",
       " 'esim kích_hoạt trực_tuyến giúp dễ_dàng chuyển_đổi nhà_mạng điện_thoại iphone truy_cập trang_web ứng_dụng nhà_mạng kích_hoạt_esim cửa_hàng nhà_mạng thủ_tục',\n",
       " 'iphone 15 plus mẫu smartphone cao_cấp apple ra_mắt 9 2023 máy chạy hệ điều_hành ios 17 phiên_bản apple cải_tiến hiệu_năng bảo_mật trải_nghiệm',\n",
       " 'ảnh trích applecom',\n",
       " 'áp_phích liên_hệ hóa danh_bạ',\n",
       " 'áp_phích liên_hệ tính_năng ios 17 cho_phép ảnh đại_diện tùy_chỉnh liên_hệ áp_phích liên_hệ bao_gồm ảnh văn_bản yếu_tố đồ họa áp_phích liên_hệ danh_bạ trông đẹp',\n",
       " 'namedrop thông_tin liên_hệ dễ_dàng',\n",
       " 'namedrop tính_năng giới_thiệu cập_nhật ios 17 apple tính_năng giúp thông_tin liên_hệ chẳng_hạn điện_thoại địa_chỉ email ảnh hồ_sơ thiết_bị apple chạm hai thiết_bị',\n",
       " 'namedrop bật airdrop hai thiết_bị chạm hai thiết_bị giây hai thiết_bị namedrop cửa_sổ bật màn_hình thiết_bị thông_tin liên_hệ thiết_bị kia',\n",
       " 'nhãn dán_động trò_chuyện sinh_động',\n",
       " 'nhãn dán_động nhãn_dán ảnh video live photo nhãn_dán ứng_dụng nhắn ứng_dụng ghi_chú ứng_dụng đánh_dấu',\n",
       " 'nhãn dán_động công_cụ cắt chỉnh_sửa ảnh video ứng_dụng nhắn xong nhãn dán_động lưu ngăn nhãn dán bàn_phím biểu_tượng',\n",
       " 'nhãn dán_động trò_chuyện trở_nên sinh_động thú_vị nhãn dán_động biểu_đạt cảm_xúc suy_nghĩ câu_chuyện',\n",
       " 'dung pin iphone 15 plus 4383 mah 12 iphone 12 pro max giúp iphone 15 plus thời_lượng pin 20 video cho_phép điện_thoại suốt tìm_kiếm ổ cắm sạc liên_tục',\n",
       " 'iphone 12 pro max iphone 15 plus thời_lượng pin video 3 nghĩa video liên_tục suốt lo_lắng pin',\n",
       " 'dung_lượng pin iphone 15 plus sạc 20 w giúp nạp năng_lượng nhanh_chóng tiết_kiệm khả_năng sạc 0 50 ngắn điện_thoại sẵn_sàng',\n",
       " 'dung_lượng khả_năng sạc iphone 15 plus đi kèm tính_năng quản_lý pin thông_minh_hệ điều_hành ios 17 tự_động tối_ưu_hóa tiêu_thụ năng_lượng pin hiệu_quả',\n",
       " 'đường vệ_tinh',\n",
       " 'đường vệ_tinh tính_năng apple giới_thiệu iphone 15 plus tính_năng cho_phép gửi đường nhà_cung_cấp dịch_vụ đường sự_cố đường gửi vệ_tinh iphone kết_nối mạng di_động wifi',\n",
       " 'tính_năng cài_đặt ứng_dụng đường apple đăng_ký dịch_vụ đường nhà_cung_cấp dịch_vụ sự_cố đường ứng_dụng đường nhấn nút gửi vệ_tinh nhà_cung_cấp dịch_vụ đường',\n",
       " 'tính_năng phát_hiện va_chạm',\n",
       " 'tính_năng phát_hiện va_chạm iphone 15 plus tính_năng an_toàn apple giới_thiệu tính_năng cảm_biến iphone phát_hiện vụ va_chạm ô_tô nghiêm_trọng phát_hiện va_chạm iphone tự_động gọi điện_thoại dịch_vụ khẩn_cấp liên_hệ khẩn_cấp',\n",
       " 'tính_năng hoạt_động dựa cảm_biến iphone bao_gồm cảm_biến gia_tốc cảm_biến áp_suất iphone phát_hiện vụ va_chạm ô_tô nghiêm_trọng cảm_biến ghi dữ_liệu vụ va_chạm dữ_liệu gửi dịch_vụ khẩn_cấp giúp cơ_quan_chức_năng nhanh_chóng vụ va_chạm cung_cấp kịp_thời',\n",
       " 'apple hệ_sinh_thái sản_phẩm chặt_chẽ sản_phẩm thiết_kế hoạt_động liền_mạch trải_nghiệm liền_mạch hiệu_quả',\n",
       " 'iphone apple watch',\n",
       " 'iphone apple watch hai sản_phẩm phổ_biến apple hai sản_phẩm thiết_kế hoạt_động liền_mạch lợi_ích',\n",
       " 'apple watch trả_lời cuộc_gọi kiểm_tra nhắn điều_khiển ứng_dụng iphone giúp dễ_dàng tiếp_cận thông_tin tác_vụ điện_thoại',\n",
       " 'apple watch theo_dõi sức_khỏe thể_dục apple watch theo_dõi nhịp tim chỉ_số sức khỏe',\n",
       " 'iphone mac',\n",
       " 'iphone mac thiết_kế hoạt_động liền mạch năng_handoff chuyển_đổi dễ_dàng thiết_bị ví_dụ viết email iphone viết email mac',\n",
       " 'icloud đồng_bộ hóa dữ_liệu iphone mac cho_phép truy_cập tài_liệu ảnh ứng_dụng hai thiết_bị',\n",
       " 'iphone airpods',\n",
       " 'airpods tai dây thiết_kế apple_airpods hoạt_động liền_mạch iphone thiết_bị apple airpods nhạc podcast trả_lời cuộc_gọi airpods điều_khiển siri',\n",
       " 'iphone 15 plus điện_thoại thông_minh thiết_kế đẹp hiệu_năng mạnh_mẽ camera tuyệt_vời màu_sắc thời_trang tìm_kiếm điện_thoại đáp_ứng nhu_cầu lựa_chọn cân_nhắc',\n",
       " 'iphone 15 plus mấy màu',\n",
       " 'iphone 15 plus hiện ra_mắt 5 màu đen xanh lá vàng hồng xanh_dương màu_sắc phổ_biến đối_tượng',\n",
       " 'camera iphone 15 plus chụp ảnh',\n",
       " 'câu trả_lời iphone 15 plus trang_bị camera 48 mp khẩu_độ giúp chụp ảnh sắc nét chân_thực ánh_sáng máy trang_bị camera góc siêu rộng 12 mp giúp lựa_chọn chụp ảnh sáng_tạo',\n",
       " 'iphone 15 plus chạy chip mạnh_mẽ',\n",
       " 'iphone 15 plus trang_bị chip apple a16 bionic chip di_động mạnh_mẽ chip giúp iphone 15 plus tác_vụ mượt_mà nhanh_chóng sức_mạnh a16 bionic thể_hiện iphone 14 pro iphone 14 pro_max mạnh_mẽ kinh_ngạc',\n",
       " 'iphone 15 plus apple đem tuyệt_phẩm công_nghệ đỉnh_cao nâng_cấp mạnh_mẽ thiết_kế cấu_hình hiệu_năng thiết_bị di_động toàn_diện bỏ_qua',\n",
       " 'đặc_điểm nổi_bật iphone 15 • kiểu hình_notch dynamic island • ra_mắt 5 phiên_bản màu_sắc kính pha màu • chip a16 bionic hiệu_năng vượt_trội • trang_bị camera 48 mp telephoto 2 x khả_năng chụp ảnh sắc nét • màn_hình oled super retina xdr chất_lượng đồ họa lý_tưởng • sẵn_hệ điều_hành ios 17 2023',\n",
       " '• chất_lượng sản_phẩm thế_giới di_động cam_kết cung_cấp sản_phẩm iphone 15 hãng chất_lượng giúp yên_tâm xuất_xứ sản_phẩm an_tâm mua sản_phẩm',\n",
       " '• ưu_đãi khuyến_mãi thế_giới di_động thường_xuyên chương_trình khuyến_mãi giảm_giá tặng quà kèm giúp mua_sắm iphone 15 trở_nên dễ_dàng tiếp_cận',\n",
       " '• hệ_thống cửa_hàng trải rộng thế_giới di_động mạng_lưới cửa_hàng trải rộng toàn_quốc dễ_dàng tiếp_cận mua_sắm kiểm_tra sản_phẩm nhân_viên cửa_hàng',\n",
       " '• dịch_vụ hậu_mãi thế_giới di_động cung_cấp dịch_vụ hậu_mãi chuyên_nghiệp bao_gồm bảo_hành sửa_chữa kỹ_thuật giúp giải_quyết kỹ_thuật sự_cố sản_phẩm dễ_dàng',\n",
       " '• hệ_thống trả_góp linh_hoạt thế_giới di_động cung_cấp lựa_chọn trả_góp ngân_sách giúp mua sản_phẩm mong_muốn thanh_toán toàn_bộ tiền',\n",
       " '• uy_tín kinh_nghiệm 15 hoạt_động thị_trường thế_giới di_động xây_dựng uy_tín mạnh_mẽ ngành công_nghiệp điện_thoại_di_động',\n",
       " '• dịch_vụ mua_sắm trực_tuyến hệ_thống cửa_hàng siêu_thị thế_giới di_động cung_cấp dịch_vụ mua_sắm trực_tuyến giúp mua hàng dễ_dàng so_sánh giá_cả',\n",
       " 'tiêu_chí',\n",
       " 'iphone 15 plus 128 gb',\n",
       " 'iphone 15 pro 128 gb',\n",
       " 'iphone 15 pro max 128 gb',\n",
       " 'màn_hình',\n",
       " '• 61 inch',\n",
       " '• màn_hình super retina xdr',\n",
       " '•_độ phân_giải 2556x1179_pixels mật_độ ảnh 460 ppi',\n",
       " '• 67 inch',\n",
       " '• màn_hình super retina xdr',\n",
       " '•_độ phân_giải 2796x1290_pixels mật_độ ảnh 460 ppi',\n",
       " '• 61 inch',\n",
       " '• màn_hình super retina xdr',\n",
       " '•_độ phân_giải 2556x1179_pixels mật_độ ảnh 460 ppi',\n",
       " '• 67 inch',\n",
       " '• màn_hình super retina xdr',\n",
       " '•_độ phân_giải 2796x1290_pixels mật_độ ảnh 460 ppi',\n",
       " 'kích_thước khối_lượng',\n",
       " '• 1476 x 716 x 780 mm x rộng x dày',\n",
       " '• 171 gram',\n",
       " '• 1609 x 778 x 780 mm x rộng x dày',\n",
       " '• 201 gram',\n",
       " '• 1466 x 706 x 825 mm x rộng x dày',\n",
       " '• 187 gram',\n",
       " '• 1599 x 767 x 825 mm x rộng x dày',\n",
       " '• 221 gram',\n",
       " 'khung viền',\n",
       " 'nhôm mặt kính pha màu',\n",
       " 'titan mặt kính nhám',\n",
       " 'titan mặt kính nhám',\n",
       " 'chip',\n",
       " 'chip a16 bionic',\n",
       " 'chip a17 pro',\n",
       " 'chip a17 pro',\n",
       " 'camera',\n",
       " '• hệ_thống camera kép tiên_tiến 48 mp ultra wide 12 mp',\n",
       " '• camera truedepth',\n",
       " '• lựa_chọn thu phóng quang_học 05 x 1 x 2 x',\n",
       " '• hệ_thống camera kép tiên_tiến 48 mp ultra wide 12 mp',\n",
       " '• camera truedepth',\n",
       " '• lựa_chọn thu phóng quang_học 05 x 1 x 2 x',\n",
       " '• hệ_thống camera chuyên nghiệpchính 48 mp ultra wide 12 mp telephoto 12 mp',\n",
       " '• camera truedepth',\n",
       " '• lựa_chọn thu phóng quang_học 05 x 1 x 2 x 3 x',\n",
       " '• hệ_thống camera chuyên_nghiệp 48 mp ultra wide 12 mp telephoto 12 mp',\n",
       " '• camera truedepth',\n",
       " '• lựa_chọn thu phóng quang_học 05 x 1 x 2 x 5 x',\n",
       " 'nút tác vụ',\n",
       " 'nút chuyển_đổi chuôngim_lặng',\n",
       " 'nút action button',\n",
       " 'nút action button',\n",
       " 'thời_lượng pin',\n",
       " '• video 20',\n",
       " '• video trực_tuyến 16',\n",
       " '• nhạc 80',\n",
       " '• video 26',\n",
       " '• video trực_tuyến 20',\n",
       " '• nhạc 100',\n",
       " '• video 23',\n",
       " '• video trực_tuyến 20',\n",
       " '• nhạc 75',\n",
       " '• video 29',\n",
       " '• video trực_tuyến 25',\n",
       " '• nhạc 95',\n",
       " 'cảm biến',\n",
       " 'hồi chuyển_độ lệch tương_phản',\n",
       " '• lidar scanner',\n",
       " '• hồi chuyển_độ lệch tương_phản',\n",
       " '• lidar scanner',\n",
       " '• hồi chuyển_độ lệch tương_phản',\n",
       " 'cổng kết_nối',\n",
       " '• usbc',\n",
       " '• usb 2',\n",
       " '• usbc',\n",
       " '• usb 2',\n",
       " '• usbc',\n",
       " '• usb 3 10 gbs',\n",
       " '• usbc',\n",
       " '• usb 3 10 gbs',\n",
       " 'bảng tổng_hợp thông_số kỹ_thuật hai thế_hệ điện_thoại iphone',\n",
       " 'tiêu_chí',\n",
       " 'iphone 15 128 gb',\n",
       " 'iphone 14 128 gb',\n",
       " 'màn_hình',\n",
       " '• màn_hình super retina xdr',\n",
       " '• màn_hình toàn oled 61 inch',\n",
       " '• dynamic island',\n",
       " '• \\u200b màn_hình super retina xdr',\n",
       " '• \\u200b màn_hình toàn oled 61 inch',\n",
       " 'kích_thước khối_lượng',\n",
       " '• 1476 x 716 x 78 mm x rộng x dày',\n",
       " '• 171 gram',\n",
       " '• \\u200b 1467 x 715 x 78 mm x rộng x dày',\n",
       " '• \\u200b 172 gram',\n",
       " 'chip',\n",
       " '• \\u200b chip a16 bionic',\n",
       " '• \\u200b_cpu 6 lõi 2 lõi hiệu_năng 4 lõi tiết_kiệm điện',\n",
       " '• \\u200b gpu 5 lõi',\n",
       " '• \\u200b neural engine 16 lõi',\n",
       " '• \\u200b chip a15 bionic',\n",
       " '• \\u200b_cpu 6 lõi 2 lõi hiệu_năng 4 lõi tiết_kiệm điện',\n",
       " '• \\u200b gpu 5 lõi',\n",
       " '• \\u200b neural engine 16 lõi',\n",
       " 'camera',\n",
       " '• \\u200b hệ_thống camera kép tiên_tiến 48 mp ultra wide 12 mp',\n",
       " '• \\u200b_camera 12 mp',\n",
       " '• \\u200b_camera 48 mp 12 mp',\n",
       " '• \\u200b hệ_thống camera kép 12 mp ultra wide 12 mp',\n",
       " '• \\u200b_camera 12 mp',\n",
       " '• \\u200b_camera 12 mp 12 mp',\n",
       " 'thời_lượng pin',\n",
       " '• \\u200b video 20',\n",
       " '• \\u200b video trực_tuyến 16',\n",
       " '• \\u200b nhạc 80',\n",
       " '• \\u200b video 20',\n",
       " '• \\u200b video trực_tuyến 16',\n",
       " '• \\u200b nhạc 80',\n",
       " 'cổng kết_nối',\n",
       " '• \\u200b usbc',\n",
       " '• \\u200b usb 2',\n",
       " '• \\u200b lightning',\n",
       " '• \\u200b usb 2',\n",
       " 'iphone 15 cảm_hứng thiết_kế iphone 14 ra_mắt 2022 kiểu_dáng vuông_vức khung mặt lưng phẳng điện_thoại cấu_tạo chủ_yếu chất_liệu cao_cấp khung nhôm mặt lưng kính cường_lực',\n",
       " 'iphone 15 apple ra_mắt 5 phiên_bản tùy màu_sắc phiên_bản mới_lạ màu đầu thiết_bị apple',\n",
       " 'ảnh trích applecom',\n",
       " 'nhấn chú_ý dòng sản_phẩm kính pha màu mặt lưng_kính pha màu kính cao_cấp quy_trình trao_đổi ion_kép đánh bóng hạt tinh_thể nano khắc_axit quy_trình giúp lớp kính độ bền chống trầy_xước bám vân',\n",
       " 'ảnh trích applecom',\n",
       " 'dynamic island gọi khuyết màn_hình iphone 15 khuyết hình_dạng viên thuốc bao_gồm camera truedepth cảm_biến cần_thiết tính_năng face_id animoji',\n",
       " 'dynamic island khuyết chứa cảm_biến mà_còn tính_năng tương_tác iphone thông_báo ứng_dụng dynamic island hiển_thị thông_tin chẳng_hạn ứng_dụng trạng_thái thông_báo',\n",
       " 'ảnh trích applecom',\n",
       " 'tương_tác dynamic island nhấn vuốt nhấn dynamic island giao_diện ứng_dụng vuốt dynamic island đầy_đủ thông_tin thông_báo',\n",
       " 'ảnh trích applecom',\n",
       " 'tính_năng nổi_bật dynamic_island tính_năng bong_bóng nhân_đôi tính_năng cho_phép dynamic island tách đôi thành hai hiển_thị thông_báo hai ứng_dụng giúp dễ_dàng tương_tác thông_báo',\n",
       " 'tính_năng bong_bóng nhân_đôi hoạt_động iphone hai thông_báo hai ứng_dụng dynamic_island tách đôi thành hai hiển_thị thông_báo ứng_dụng tương_tác thông_báo nhấn vuốt',\n",
       " 'thiết_kế iphone 15 cổng typec thay_vì cổng lightning đánh_dấu bước_tiến chuẩn kết_nối tiêu_chuẩn ngành công_nghiệp cổng typec tốc_độ truyền_tải dữ_liệu sạc giúp tiết_kiệm nâng hiệu_suất',\n",
       " 'ảnh trích applecom',\n",
       " 'iphone 15 cổng usbc bước_tiến hệ_sinh_thái apple giúp cáp sạc thiết_bị apple iphone mac ipad apple watch airpods vv tiết_kiệm chi_phí rắc_rối cáp_sạc góp_phần giảm_thiểu rác_thải điện_tử',\n",
       " 'hệ_thống camera iphone 15 hai ống_kính camera độ phân_giải 48 mp đi camera phụ 12 mp cải_tiến năm_ngoái camera nâng độ phân_giải gấp 4 iphone 14 camera 12 mp',\n",
       " 'cạnh nâng_cấp ống_kính apple tính_năng thú_vị giúp chụp trở_nên chuyên_nghiệp cinematic smart hdr 5 action mode',\n",
       " 'ảnh trích applecom',\n",
       " 'chú_ý tính_năng góc siêu rộng xóa_phông tính_năng góc siêu rộng giúp chụp nội_dung khung_hình hoàn_hảo chụp cảnh thiên_nhiên kiến_trúc tình_huống bao_quát toàn_bộ',\n",
       " 'tính_năng xóa_phông giúp hiệu_ứng mờ đẹp_mắt nhấn chủ_thể nổi_bật ảnh',\n",
       " 'camera camera điện_thoại mạnh_mẽ độ phân_giải 12 mp cho_phép chụp ảnh tự_sướng tham_gia trò_chuyện video chất_lượng tính_năng video 4 k giúp tự_tin ghi khoảnh_khắc biểu_đạt rõ_ràng sắc nét',\n",
       " 'ảnh trích applecom',\n",
       " 'tiêu_điểm chụp',\n",
       " 'iphone 15 điện_thoại thông_minh camera thị_trường hệ_thống camera 48 mp iphone 15 chụp ảnh chân_dung chất_lượng tuyệt đẹp',\n",
       " 'tính_năng nổi_bật iphone 15 khả_năng tiêu_điểm đối_tượng tính_năng cho_phép chụp ảnh chân_dung đối_tượng khung_hình dễ_dàng điều_chỉnh tiêu_điểm nổi_bật đối_tượng',\n",
       " 'ảnh trích applecom',\n",
       " 'tiêu_điểm đối_tượng chế_độ chụp chân_dung chụp ảnh iphone 15 dễ_dàng chụp',\n",
       " 'ảnh photonic',\n",
       " 'iphone 15 trang_bị công_nghệ ảnh photonic giúp cải_thiện chất_lượng ảnh chân_dung ánh_sáng yếu công_nghệ loạt cảm_biến thuật_toán ảnh chân_dung nét chân_thực',\n",
       " 'ảnh trích applecom',\n",
       " 'zoom chụp ảnh chân_dung',\n",
       " 'chụp ảnh chân_dung ống_kính máy_ảnh nghĩa đứng đối_tượng chụp đối_tượng hiệu_ứng xóa_phông mạnh_mẽ',\n",
       " 'ảnh trích applecom',\n",
       " 'tính_năng zoom chụp chân_dung ống_kính tele chụp ảnh giúp chụp ảnh chân_dung chụp ảnh phong_cảnh hiệu_ứng xóa phông',\n",
       " 'màn_hình iphone 15 oled chất_lượng hình_ảnh đỉnh_cao độ sâu màu_sắc độ tương_phản ấn tượng độ phân_giải super retina xdr 1179 x 2556 pixels chi_tiết màn_hình hiển_thị rõ_ràng sắc nét',\n",
       " 'màn_hình oled nổi_bật thiết_bị màn_hình oled',\n",
       " 'cạnh thông_số cơ_bản iphone 15 công_nghệ màn_hình phụ_đáng chú_ý true tone hdr display gam màu rộng p3',\n",
       " 'kích_thước 61 inch màn_hình iphone 15 kết_hợp hoàn_hảo tiện_dụng trải_nghiệm tuyệt_vời tận_hưởng nội_dung bàn làm_việc di_động vặn thoải_mái',\n",
       " 'ảnh trích applecom',\n",
       " 'màn_hình iphone 15 trang_bị mặt kính cường_lực chất_lượng ceramic shield giúp độ bền màn_hình hạn_chế hư_hại rủi_ro xước bể',\n",
       " 'bộ_vi apple a16 bionic trái_tim iphone 15 mạnh_mẽ tốc_độ giới_hạn khả_năng tối_ưu_hóa hiệu_suất tiết_kiệm năng_lượng a16 bionic đồng_hành tác_vụ giật lag',\n",
       " 'dung_lượng lưu_trữ 128 gb cho_phép thoải_mái lưu thước phim ảnh kỷ_niệm phim điện_ảnh lo bộ_nhớ',\n",
       " 'ảnh trích applecom',\n",
       " 'hệ điều_hành ios 17 trải_nghiệm mượt_mà tối_ưu_hóa hiệu_năng tính_năng cải_tiến tối_ưu hóa_độ trễ cảm_giác iphone 15 phiên_bản quyền trải_nghiệm tính_năng cải_thiện tốc_độ truy_cập ứng_dụng dịch_vụ nhanh_chóng dễ_dàng',\n",
       " 'ios 17 chính_thức ra_mắt máy',\n",
       " 'iphone 15 mẫu smartphone chạy hệ điều_hành ios 17 phiên_bản apple trải_nghiệm vượt_trội',\n",
       " 'hóa danh_bạ áp_phích liên_hệ',\n",
       " 'năng_áp_phích liên_hệ ios 17 cho_phép ảnh đại_diện tùy_chỉnh liên_hệ áp_phích liên_hệ bao_gồm ảnh văn_bản yếu_tố đồ họa áp_phích liên_hệ danh_bạ trông đẹp',\n",
       " 'ảnh trích applecom',\n",
       " 'thông_tin liên_hệ dễ_dàng namedrop',\n",
       " 'năng_namedrop giúp thông_tin liên_hệ chẳng_hạn điện_thoại địa_chỉ email ảnh hồ_sơ thiết_bị apple chạm hai thiết_bị tính_năng tiện_lợi kết_nối bạn_bè người_thân',\n",
       " 'trò_chuyện sinh_động nhãn dán động',\n",
       " 'nhãn dán_động nhãn_dán ảnh video live photo nhãn_dán ứng_dụng nhắn ứng_dụng ghi_chú ứng_dụng đánh_dấu nhãn dán_động giúp trò_chuyện trở_nên sinh_động thú_vị',\n",
       " 'iphone 15 điện_thoại thông_minh cao_cấp mà_còn thiết_bị an_toàn giúp bảo_vệ tài_xế nạn hai tính_năng đường vệ_tinh phát_hiện va_chạm iphone 15 giúp tài_xế giúp_đỡ kịp_thời trường_hợp khẩn_cấp',\n",
       " 'đường vệ_tinh',\n",
       " 'tính_năng cho_phép tài_xế gửi đường nhà_cung_cấp dịch_vụ đường iphone kết_nối mạng di_động wifi hữu_ích trường_hợp tài_xế nạn hẻo_lánh sóng điện_thoại',\n",
       " 'tính_năng tài_xế cài_đặt ứng_dụng đường apple đăng_ký dịch_vụ đường nhà_cung_cấp dịch_vụ nạn tài_xế ứng_dụng đường nhấn nút gửi vệ_tinh nhà_cung_cấp dịch_vụ đường',\n",
       " 'phát_hiện va_chạm',\n",
       " 'tính_năng cảm_biến iphone phát_hiện vụ va_chạm ô_tô nghiêm_trọng phát_hiện va_chạm iphone tự_động gọi điện_thoại dịch_vụ khẩn_cấp liên_hệ khẩn_cấp tài_xế',\n",
       " 'tính_năng hoạt_động dựa cảm_biến iphone bao_gồm cảm_biến gia_tốc cảm_biến áp_suất iphone phát_hiện vụ va_chạm ô_tô nghiêm_trọng cảm_biến ghi dữ_liệu vụ va_chạm dữ_liệu gửi dịch_vụ khẩn_cấp giúp cơ_quan_chức_năng nhanh_chóng vụ va_chạm cung_cấp kịp_thời',\n",
       " 'apple hệ_sinh_thái sản_phẩm chặt_chẽ sản_phẩm thiết_kế hoạt_động liền_mạch trải_nghiệm liền_mạch hiệu_quả',\n",
       " 'iphone apple watch kết_nối liền mạch_tiện lợi',\n",
       " 'iphone apple watch hai sản_phẩm phổ_biến apple hai sản_phẩm thiết_kế kết_nối liền_mạch tiện_lợi',\n",
       " 'apple watch trả_lời cuộc_gọi kiểm_tra nhắn điều_khiển ứng_dụng iphone điện_thoại giúp dễ_dàng tiếp_cận thông_tin tác_vụ tiện_lợi',\n",
       " 'apple watch theo_dõi sức_khỏe thể_dục apple watch theo_dõi nhịp tim chỉ_số sức khỏe',\n",
       " 'iphone mac đồng_bộ dữ_liệu liền_mạch trải_nghiệm',\n",
       " 'iphone mac thiết_kế đồng_bộ dữ_liệu liền_mạch trải_nghiệm năng_handoff chuyển_đổi dễ_dàng hai thiết_bị ví_dụ viết email iphone viết email mac',\n",
       " 'icloud đồng_bộ hóa dữ_liệu iphone mac cho_phép truy_cập tài_liệu ảnh ứng_dụng hai thiết_bị liền mạch',\n",
       " 'iphone airpods kết_nối liền mạch âm_thanh đỉnh_cao',\n",
       " 'airpods tai dây thiết_kế apple_airpods hoạt_động liền_mạch iphone thiết_bị apple airpods nhạc podcast trả_lời cuộc_gọi âm_thanh đỉnh_cao airpods điều_khiển siri',\n",
       " 'dung_lượng 3349 mah apple hé_lộ khả_năng máy tối_đa 20 phát video 80 phát âm_thanh video 3 iphone 12',\n",
       " 'khả_năng sạc 20 w iphone 15 giúp sạc pin nhanh_chóng hiệu_quả sạc phút nhanh_chóng khả_năng sạc 20 w đáp_ứng nhu_cầu',\n",
       " 'iphone 15 tối_ưu_hóa hiệu_năng chip tiết_kiệm năng_lượng kéo_dài pin_hệ điều_hành ios 17 đi kèm tính_năng tối_ưu_hóa giúp kiểm_soát ứng_dụng tiêu_thụ năng_lượng hiệu_quả đồng_nghĩa iphone 15 sạc',\n",
       " 'mua iphone 15 tìm_kiếm điện_thoại thông_minh thiết_kế đẹp hiệu_năng mạnh_mẽ camera tuyệt_vời vai_trò món phụ_kiện thời_trang tôn vẻ sang_trọng sành_điệu',\n",
       " 'iphone 15 mấy màu',\n",
       " 'iphone 15 hiện ra_mắt 5 màu đen xanh lá vàng hồng xanh_dương màu_sắc thiết_kế tone màu dịu nhẹ vẻ trẻ_trung năng_động',\n",
       " 'camera iphone 15 chụp ảnh',\n",
       " 'nâng_cấp_độ phân_giải camera 48 mp đi khẩu_độ iphone 15 ảnh chụp sắc nét vượt_trội camera_độ phân_giải video chất_lượng',\n",
       " 'iphone 15 chạy chip mạnh_mẽ',\n",
       " 'điện_thoại iphone chip apple a16 bionic trang_bị iphone 14 pro iphone 14 pro_max hiệu_suất cực khủng mẫu chip hiệu_suất mạnh_mẽ hàng_đầu thị_trường di_động',\n",
       " 'bảng tổng_hợp giá iphone 15 phiên_bản bộ_nhớ thị_trường việt_nam quốc_tế',\n",
       " 'phiên_bản iphone 15',\n",
       " 'giá thị_trường quốc_tế',\n",
       " 'hết_sức tuyệt_vời iphone 15 128 gb giúp máy điện_thoại mua 2023 đơn_thuần smartphone cơ_bản món phụ_kiện cao_cấp giúp toát vẻ hào_nhoáng sang_trọng cầm nắm',\n",
       " 'thiết_kế samsung kiểu_dáng vuông_vức bố_trí cụm camera quen_thuộc samsung galaxy s23 khen hãng ghi_nhận góp_ý đời tối_ưu_nhẹ góc vuông viền màn_hình mỏng dải loa dạng rảnh',\n",
       " 'galaxy s24 khung chất_liệu nhôm kết_hợp mặt lưng kính cường_lực cảm_giác máy cực_kỳ cảm_giác cầm máy chặt mặt lưng khung viền nhám galaxy s23 khung viền kiểu bóng',\n",
       " 'cụm camera mặt nguyên cấu_trúc 3 camera xếp dọc bố_trí có_lẽ samsung cố_gắng duy_trì tối_giản thiết_kế sản_phẩm hãng hướng xu_hướng yêu_thích họa_tiết đơn_giản',\n",
       " 'mặt galaxy_s24 trải_nghiệm hiển_thị tối_ưu_hóa màn_hình mỏng nốt ruồi tăng_cường mặt thẩm_mỹ mà_còn cải_thiện không_gian hiển_thị trải_nghiệm nội_dung trở_nên mắt',\n",
       " 'cạnh điện_thoại samsung tương_tự thế_hệ phát_hiện lỗ mic cạnh',\n",
       " 'cạnh điện_thoại galaxy s23',\n",
       " 'cạnh điện_thoại galaxy s24',\n",
       " 'thông_số máy_ảnh điện_thoại galaxy dòng s trang_bị 3 camera thông_số camera 50 mp camera góc siêu rộng 12 mp camera tele 10 mp hãng nâng_cấp độ phân_giải đổi samsung_tích_hợp tính_năng điện_thoại chụp hậu_kỳ',\n",
       " 'tính_năng nổi_bật tăng_cường khả_năng chụp môi_trường isp cải_thiện vỡ_ảnh thông_qua zoom mở_rộng khung ảnh di_chuyển chủ_thể chụp generative edit',\n",
       " 'ảnh chụp độ chi_tiết màu_sắc rực_rỡ đẹp_mắt mặc_dù chụp nắng_gắt ảnh cháy vùng_trời màu tường tái_tạo màu chính_xác',\n",
       " 'camera góc siêu rộng ảnh chụp góc cho_phép thu chi_tiết ảnh độ chi_tiết màu_sắc tương_đương ảnh chụp mặc_định góc mở_rộng tự_nhiên bóp_méo ổn_áp',\n",
       " 'camera tele 10 mp kết_hợp tính_năng zoom_quang học 3 x điện_thoại giúp ghi ảnh độc_đáo quan_sát chủ_thể tính_năng điện_thoại sát mẫu tự_nhiên',\n",
       " 'màn_hình điện_thoại dynamic amoled 2 x độ phân_giải full hd 1080 x 2340 pixels duy_trì tần_số quét màn_hình 120 hz khác_biệt galaxy_s23 trải_nghiệm phiên_bản cũ hài_lòng',\n",
       " 'phim hành_động chất_lượng ưu_điểm tái_hiện màu đen sâu màu_sắc rực_rỡ sống_động giúp trải_nghiệm trở_nên chân_thực mặc_dù full hd máy flagship thấp_thế sắc nét phim bình_thường hạn_chế xảy',\n",
       " 'mặc_dù chuẩn full hd bù nâng_cấp_độ tối_đa 2600 nits_độ giúp màn_hình điện_thoại samsung hiển_thị rõ_ràng sắc_nét ánh_sáng mặt_trời bản_đồ di_chuyển nắng',\n",
       " 'cạnh màn_hình galaxy s24 tính_năng 100 màu dci p3 khả_năng tăng_cường màu_sắc độ tương_phản môi_trường độ thông_qua vision_booster nội_dung màn_hình hiển_thị tiêu_chuẩn điện_ảnh trải_nghiệm phim rạp',\n",
       " 'kích_thước màn_hình nâng_cấp nhẹ 61 62 inch galaxy_s24 trải_nghiệm tuyệt_vời giải_trí phim game_kích_thước lý_tưởng tối_ưu_hóa không_gian hiển_thị mà_còn thoải_mái cầm nắm điện_thoại túi quần gọn tiện_lợi',\n",
       " 'nâng_cấp có_lẽ hiệu_năng ấn_tượng galaxy s24 hãng quyết_định điện_thoại chip_tự sản_xuất gọi exynos 2400 thay_vì chip qualcomm truyền_thống ấn_tượng chip trang_bị 10 nhân 8 nhân dòng chip thị_trường',\n",
       " 'chip nhân tốc_độ xung_nhịp 32 ghz nhân_hiệu suất tầm trung xung_nhịp 29 ghz 26 ghz nâng_cấp giúp điện_thoại trở_nên mượt_mà hơn_bao_giờ_hết tác_vụ hằng lướt_web phim chỉnh_sửa ảnh điện_thoại',\n",
       " 'kiểm_chứng mạnh_mẽ thử kiểm_tra cấu_hình điện_thoại thông_qua ứng_dụng đo hiệu_năng kết_quả 1924 đơn_nhân 5636 đa_nhân geekbench 6 16494 tổng pcmark con_số sức tưởng_tượng phá vỡ định_kiến “ exynos chip_yếu ”',\n",
       " 'nhu_cầu game điện_thoại galaxy s24 tựa_game liên_quân mobile genshin_impact bật đồ họa tối_đa điện_thoại duy_trì tốc_độ khung_hình 55 fps hiện_tượng drop fps xảy liên_tục chế_độ tiết_kiệm pin lưu_ý',\n",
       " 'điện_thoại ram 8 gb galaxy s24 đem trải_nghiệm đa_nhiệm cực_kỳ mượt_mà ổn_định ứng_dụng ứng_dụng gián_đoạn game đồ họa cao_bạn nâng_cấp bộ_nhớ thông_qua tính_năng “ ram_plus ”',\n",
       " 'galaxy s24 năng_lượng di_động tin_cậy viên pin 4000 mah năng_lượng điện_thoại thoải_mái suốt gọi điện_thoại video ứng_dụng trò_chơi đòi_hỏi năng_lượng',\n",
       " 'mặc_dù chip exynos 2400 galaxy_s24 hy_vọng khả_năng tối_ưu_hóa điện_năng công_nghệ tiên_tiến chip cung_cấp hiệu_suất mạnh_mẽ mà_còn giúp tiết_kiệm năng_lượng giúp kéo_dài',\n",
       " 'khả_năng sạc 25 w galaxy s24 nổi_bật cho_dù bận_rộn ngắn nhanh_chóng nạp đầy_đủ năng_lượng điện_thoại chờ_đợi lâu_điều trải_nghiệm hiệu_quả thuận_tiện ngày_nay',\n",
       " 'samsung galaxy s24 minh_chứng đầu_tư nỗ_lực ngừng samsung phát_triển sản_phẩm chất_lượng cải_tiến thiết_kế cấu_hình sản_phẩm đột_phá chú_ý thị_trường smartphone 2024',\n",
       " 'thiết_kế máy vẻ ngoại_hình vuông_vức mặt lưng_phẳng nguyên phong_cách phiên_bản hãng bốn góc hơi vuông samsung galaxy_s23 tổng_thể vuông_vắn sang_trọng cực_kỳ bắt trend',\n",
       " 'tiếc samsung chất_liệu titanium khung hãng galaxy s24_ultra áp_dụng khung nhôm hẳn tệ nổi_bật ấn_tượng hãng',\n",
       " 'thay_vì mạ bóng hãng quyết_định khung viền kiểu nhám_nhẹ hiệu_ứng ánh kim kiểu thiết_kế điện_thoại trở_nên khác_biệt nhận_diện dòng',\n",
       " 'mặt lưng ấn_tượng chất_liệu kính cường_lực kiểu nhám_mờ thẩm_mỹ mà_còn giúp độ bền rủi_ro hư_hỏng hằng',\n",
       " 'cụm camera galaxy s24 khác_biệt phiên_bản vững nhận_diện',\n",
       " 'ý_kiến samsung lười_biếng đổi_mới phát_triển sở_thích hâm_mộ trung_thành thời_đại tối_giản',\n",
       " 'màn_hình galaxy s24 trải_nghiệm thu gọn_viền thiết_kế hấp_dẫn thú_vị màn_hình mỏng cải_thiện khả_năng hiển_thị mà_còn làm_đẹp thiết_bị',\n",
       " 'nốt ruồi màn_hình diện_mạo hiện_đại thu_hút kích_thước thẩm_mỹ mà_còn giúp tối_ưu_hóa diện_tích mặt điện_thoại galaxy s24 trở_nên đẹp_mắt nâng trải_nghiệm hình_ảnh',\n",
       " 'trải_nghiệm 3 4 galaxy s24 ấn_tượng khả_năng chụp ảnh máy camera 50 mp khẩu_độ f18 độ phân_giải mà_còn ảnh sắc_nét chi_tiết thông_số mê_mẩn đam_mê nhiếp_ảnh',\n",
       " 'kết_quả chụp ảnh ấn_tượng máy tái_tạo màu_sắc xuất_sắc mà_còn thể_hiện độ chi_tiết chế_độ mặc_định tính_năng màu galaxy s24 nổi_bật khả_năng tái_tạo màu nóng rực_rỡ lẹm màu',\n",
       " 'độc_đáo s24 khả_năng ghi không_gian rộng camera góc siêu rộng 12 mp f22 chế_độ tính_năng samsung tốt_góc camera tầm rộng ảnh cần_độ bao_quát độ chi_tiết',\n",
       " 'camera tele 10 mp tính_năng zoom_quang học 3 x điện_thoại galaxy dòng s khả_năng chụp ảnh nét chân thực_mình chụp khoảnh_khắc chất_lượng hình_ảnh bể nhiễu hạt chi ưng',\n",
       " 'độc_đáo galaxy s24 nằm camera mà_còn khả_năng quay_video độ phân_giải uhd 8 k tốc_độ 30 fps trải_nghiệm video chất_lượng khả_năng chậm 240 fps độ phân_giải fhd giúp bắt kịp khoảnh_khắc chậm sắc nét',\n",
       " 'galaxy s24 ấn_tượng màn_hình dynamic amoled 2 x máy hiển_thị màu_sắc sắc nét độ tương_phản trải_nghiệm sống_động chân_thực nội_dung đa phương_tiện game điện_thoại trở_nên khác_biệt độc_đáo sản_phẩm phân_khúc giá tương_đương',\n",
       " 'màn_hình 2 k galaxy s24 nâng_cấp chú_ý hình_ảnh trở_nên sắc_nét chi_tiết trải_nghiệm nội_dung tầm hài_lòng khả_năng hiển_thị màn_hình tính_năng vision_booster tăng_cường khả_năng điều_chỉnh ánh_sáng màu_sắc dựa môi_trường xung_quanh giúp nội_dung trở_nên',\n",
       " 'cạnh điện_thoại khả_năng điều_chỉnh tần_số quét 1 120 hz tính_năng màn_hình mượt_mà tối_ưu tình_huống mà_còn giúp tiết_kiệm năng_lượng hiệu_quả',\n",
       " 'màn_hình 67 inch không_gian giải_trí mà_còn trải_nghiệm chân_thực ấn_tượng kích_thước lý_tưởng phim game làm_việc điện_thoại thoải_mái duyệt_web đọc sách_điện_tử galaxy s24',\n",
       " 'trang_bị kính cường_lực corning gorilla glass victus 2 màn_hình cộng yên_tâm khả_năng bảo_vệ chống vết xước rơi bể ý_muốn',\n",
       " 'điện_thoại samsung ấn_tượng quyết_định chip sản_xuất inhouse exynos 2400 thay_vì lựa_chọn chip snapdragon bước_tiến điện_thoại biểu_tượng đổi_mới sáng_tạo',\n",
       " 'exynos 2400 sản_phẩm tự_chủ mà_còn hứa_hẹn trải_nghiệm mượt_mà tin_cậy nhân 10 gpu xclipse 940 điện_thoại test kết_quả 1924 đơn_nhân 5636 đa_nhân geekbench 6 16494 tổng pcmark',\n",
       " 'tác_vụ thông_thường lướt_web phim trả_lời tin_nhắn galaxy s24 tựa game phổ_biến liên_quân mobile pubg mobile máy trò_chơi bật cấu_hình',\n",
       " 'trò_chơi call of_duty mobile cài_đặt cấu_hình trò_chơi mức_độ phân_giải tốc_độ khung_hình tối_đa biểu_đồ đo perfdog galaxy s24 tốc_độ khung_hình dao_động ổn_định 58 60 fps dao_động giật lag',\n",
       " 'genshin impact cấu_hình cài_đặt đồ họa toàn_bộ thông_số giới_hạn tốc_độ khung_hình 60 tương_tự tựa_game đo tốc_độ khung_hình perfdog kết_quả tương_tự call of duty_mobile con_số dao_động 59 60',\n",
       " 'phiên_bản galaxy s24 quái_thú ram 12 gb khả_năng đa_nhiệm mượt_mà mà_còn trải_nghiệm game đồ họa trở_nên ổn_định mạnh_mẽ yên_tâm khả_năng nhanh_chóng mượt_mà điện_thoại đối_mặt ứng_dụng trò_chơi đòi_hỏi tài_nguyên',\n",
       " 'bộ_nhớ 256 gb điện_thoại mạnh_mẽ hiệu_suất mà_còn bộ_nhớ lưu_trữ không_gian lưu_trữ hàng ngàn hình_ảnh video ứng_dụng lo_lắng bộ_nhớ',\n",
       " 'điện_thoại samsung sở_hữu_viên pin dung_lượng 4900 mah bước_tiến đột_phá khả_năng năng_lượng mô_hình tối_ưu_hóa chip exynos 2400 viên pin hứa_hẹn hiệu_suất vô_cùng hiệu_quả',\n",
       " 'điện_thoại đáp_ứng tác_vụ làm_việc gọi nhắn_tin 8 9 tiếng làm_việc điện_thoại 20 30 pin cho_phép thoải_mái lướt tiktok hai ván game nhẹ sạc',\n",
       " 'galaxy s24 ấn_tượng khả_năng sạc 45 w thuận_tiện tiết_kiệm nạp năng_lượng trở_nên hiệu_quả nhanh_chóng sẵn_sàng nhu_cầu di_động lo_lắng sạc',\n",
       " 'cải_tiến samsung galaxy s24 minh_chứng tận_tâm chú_ý samsung thiết_kế cấu_hình dựa nâng_cấp dự_kiến sản_phẩm thành_công đột_phá thị_trường smartphone 2024',\n",
       " 'thiết_kế galaxy s24 ultra nâng_cấp nổi_bật dòng điện_thoại flagship samsung 2024 cạnh ý_kiến trái chiều hãng lười sản_phẩm đem nguyên kiểu thiết_kế cũ chất_liệu',\n",
       " 'cầm nắm trải_nghiệm hãng hẳn sao_chép y_hệt galaxy s23 ultra hãng cố vốn khắc_phục nhược_điểm điện_thoại hoàn_thiện',\n",
       " 'ấn_tượng cầm galaxy s24 ultra máy hãng bo_cong màn_hình mặt lưng phiên_bản thay tạo_hình phẳng_phiu mặt lưng màn_hình giúp đồng_bộ 2024 samsung mẫu điện_thoại ultra phẳng trở_lại',\n",
       " 'mặt lưng bốn góc điện_thoại 90 độ samsung galaxy s23 ultra công_nhận kiểu thiết_kế đẹp ấn_tượng kích_thước galaxy s24 ultra góc vuông vô_tình hạn_chế gây_cấn túi quần cầm ngang điện_thoại game',\n",
       " 'khung viền samsung thế_hệ tiền_nhiệm bo_cong nhẹ giao mặt lưng màn_hình cầm cực_kỳ cầm chặt dường_như cấn một_tí',\n",
       " 'tranh_cãi nâng_cấp galaxy s24 ultra có_lẽ khung viền titanium hãng đạo_nhái ý_kiến kế_thừa phát_huy',\n",
       " 'trải_nghiệm viền titanium đẹp viền_nhôm dòng điện_thoại hiệu_ứng ánh kim nhám nhẹ giúp cảm_giác cầm thỏi titan tự_nhiên',\n",
       " 'viền titanium độ bền kim_loại thông_thường giúp điện_thoại bền_bỉ tình_huống vô_tình rơi va_đập hạn_chế vết hằn_xước tiếp_xúc vật_sắc nhọn',\n",
       " 'cạnh galaxy s24 ultra viền màn_hình mỏng dải loa dạng rảnh thay_vì ô liền kề hãng nguyên tích_hợp bút s pen công_nghệ âm_thanh akg dolby atmos',\n",
       " 'galaxy s24 ultra trang_bị dynamic amoled 2 x độ phân_giải 2 k 1440 x 3120 pixels độ 2600 nits trải_nghiệm điện_thoại chất_lượng hình_ảnh hết_sức đẹp_mắt tái_hiện rực_rỡ sinh_động kết_hợp màu đen sâu trải_nghiệm chân_thực',\n",
       " 'độ màn_hình điện_thoại giúp làm_việc giải_trí công_viên di_chuyển ngoài_trời bản_đồ ánh nắng chiếu ảnh_hưởng',\n",
       " 'kích_thước màn_hình tần_số quét galaxy s24 ultra thế_hệ cũ 68 inch đi 120 hz linh_hoạt điều_chỉnh dựa nội_dung giá trang_bị thông_số gọi_là ấn_tượng giá hãng nâng_cấp 144 hz game fps có_lẽ hấp_dẫn game',\n",
       " 'mạnh_mẽ tối_ưu_hóa chip snapdragon 8 gen 3 for galaxy hãng bổ_sung tính_năng ray_tracing galaxy s24 ultra tính_năng theo_dõi điều_chỉnh ánh_sáng phản_xạ trò_chơi hiệu_ứng đổ bóng hắt giúp trải_nghiệm chân_thực',\n",
       " 'camera điện_thoại chụp ảnh quay_phim máy trang_bị 4 camera mặt camera 200 mp kết_hợp camera góc siêu rộng 12 mp hai camera tele zoom quang_học độ phân_giải lần_lượt 10 mp 50 mp',\n",
       " 'hãng nâng_cấp phần_cứng máy_ảnh bù hãng bổ_sung khả_năng công_nghệ provisual mặt lý_thuyết hai công_nghệ khả_năng tăng_cường_độ chi_tiết ảnh cải_thiện tông màu giảm_nhiễu giúp tổng_thể ảnh trở_nên hài_hòa',\n",
       " 'nâng_cấp giá samsung cho_phép tùy chỉnh_độ phân_giải chụp camera 3 tùy 12 mp 50 mp 200 mp đáp_ứng nhu_cầu chụp ảnh linh_hoạt chất_lượng ảnh phục_vụ công_việc tiết_kiệm bộ_nhớ',\n",
       " 'môi_trường ánh_sáng ngoài_trời điện_thoại thu ảnh màu_sắc rực_rỡ thông_qua chế_độ 12 mp camera chi_tiết lá đằng tái_hiện sắc_nét độ ảnh chói đem ảnh đẹp_mắt',\n",
       " 'ảnh chụp chế_độ 50 mp 200 mp hai chuẩn ảnh ảnh chụp camera 12 mp nâng_cấp độ phân_giải chụp ảnh thiết_kế in_ấn đơn_giản chụp ảnh nét cắt phóng chi_tiết',\n",
       " 'minh_chứng thử chụp ảnh 200 mp quả_thực nét liên_tưởng hình chụp máy_ảnh dslr độ chi_tiết',\n",
       " 'galaxy s24 ultra lợi_thế ảnh độ chi_tiết tinh_chỉnh màu_sắc sẵn ta hậu_kỳ file máy_tính',\n",
       " 'camera_góc siêu rộng 12 mp ảnh chụp điện_thoại độ chi_tiết màu_sắc tươi_tắn rực_rỡ góc bóp_méo ảnh tự_nhiên',\n",
       " 'tiếp khả_năng chụp zoom điện_thoại camera tele 50 mp 10 mp ta chụp chi_tiết đằng nét trải_nghiệm điện_thoại trực_quan lợi_ích camera chụp ảnh chụp zoom',\n",
       " 'mặc_dù trang_bị camera chân_dung chuyên_dụng galaxy s24 ultra vai_trò ảnh xóa_phông vô_cùng đẹp_mắt độ chi_tiết chủ_thể tách mịn_màng',\n",
       " 'mặt cấu_hình điện_thoại cấu_hình tích_hợp chip snapdragon 8 gen 3 for galaxy qualcomm mạnh_mẽ phục_vụ game cấu_hình samsung khai_thác tác_vụ trở_nên nhanh_chóng',\n",
       " 'test thông_qua phần_mềm đo hiệu_năng galaxy s24 ultra 2130 đơn_nhân 6354 đa_nhân geekbench 6 18215 tổng pcmark cao_điều giúp galaxy s24 ultra điện_thoại android mạnh_mẽ thị_trường',\n",
       " 'test hiệu_năng thông_qua game galaxy s24 ultra trải_nghiệm ổn_định mượt_mà pubg mobile genshin impact mặc_dù cấu_hình máy trơn_tru',\n",
       " 'cài_đặt cấu_hình ultra_hdr tốc_độ khung hình_cực pubg mobile điện_thoại tốc_độ khung_hình ổn_định dao_động loanh_quanh 40 fps',\n",
       " 'genshin impact cài_đặt cấu_hình máy kết_quả 60 fps hơi khựng nhẹ khung_cảnh giao_tranh mạnh_thế kéo_dài ảnh_hưởng trải_nghiệm trải_nghiệm game galaxy s24_ultra diễn suôn_sẻ cực_kỳ hài_lòng điện_thoại thể_hiện',\n",
       " 'điện_thoại ram 12 gb galaxy s24 ultra thừa_sức cân_tất trải_nghiệm đa_nhiệm game đồ họa cao_điều thể_hiện ứng_dụng game hồi tạm thoát ứng_dụng điện_thoại tải đầu',\n",
       " 'galaxy s24 ultra tính_năng tích_hợp sẵn công_nghệ đề_cập sự_kiện ra_mắt sản_phẩm samsung cụm_từ trở_nên sốt hơn_bao_giờ_hết vô_tình làn_sóng công_nghệ thiết_bị di_động',\n",
       " 'khoanh tìm_kiếm',\n",
       " 'tính_năng “ khoanh tìm_kiếm ” thao_tác tác_vụ tìm_kiếm điện_thoại giúp tức_khắc thao_tác cơ_bản',\n",
       " 'nhấn phím home đóng_băng màn_hình xong khoanh tròn tìm_kiếm điện_thoại tự_động nhận_diện tra_cứu google đơn_giản điện_thoại kết_quả kết_quả chính_xác ấn_tượng',\n",
       " 'tóm_tắt dịch trang_web',\n",
       " 'xu_hướng tìm_kiếm thông_tin gia_tăng trang_web nước_ngoài cực_kỳ hấp_dẫn chứa_đựng dữ_liệu đáng_giá rào_cản ngôn_ngữ am_hiểu ngôn_ngữ cản_trở tiếp_xúc nội_dung',\n",
       " 'galaxy s24 ultra trở_nên dễ_dàng ngôn_ngữ điện_thoại dịch đầy_đủ nội_dung hiển_thị dạng văn_bản dễ_dàng công_việc viết nội_dung',\n",
       " 'dịch cuộc_gọi',\n",
       " 'chế_độ dịch cuộc_gọi điện_thoại samsung chuyển_đổi giọng đối_phương thành dạng văn_bản thuần_túy màn_hình tính_năng du_học_sinh doanh_nhân cố_gắng kết_nối ngoại_quốc kỹ_năng ngoại_ngữ vững lắm',\n",
       " 'chỉnh_sửa ảnh thông_qua',\n",
       " 'giúp_sức xóa chủ_thể cần_thiết di_chuyển đối_tượng nhanh_chóng chính_xác tốc_độ điện_thoại trống lấp chi_tiết lân_cận kết_quả ưng cực_kỳ',\n",
       " 'galaxy s24 ultra điện_thoại cao_cấp thiết_kế đẹp_mắt hiệu_năng mạnh_mẽ hệ_thống camera chất_lượng thời_lượng pin ấn_tượng sản_phẩm lựa_chọn hàng_đầu yêu_thích công_nghệ điện_thoại đáp_ứng nhu_cầu hứa_hẹn chú_ý sản_phẩm 2024',\n",
       " 'xiaomi 14 nâng_cấp hiệu_suất mà_còn bước_tiến thiết_kế tinh_tế đột_phá phiên_bản tiền_nhiệm xiaomi 13 xiaomi 14 tỏa nhấn',\n",
       " 'chú_ý cụm camera lồi camera nhô mạnh_mẽ xiaomi 14 khả_năng chụp ảnh mà_còn vẻ độc_đáo đẳng_cấp thiết_bị',\n",
       " 'góc_độ tổng_thể phủ_nhận kết_hợp mặt lưng_cong cạnh phẳng nổi_bật xiaomi 14 mặt điện_thoại trông kết_hợp mềm_mại cá_tính phong_cách độc_đáo',\n",
       " 'xiaomi chú_ý bề_mặt trơn trượt bám vân_tay xiaomi 14 mặc_dù bóng_loáng lớp sơn vẻ đẹp sang_trọng nguy_cơ trượt kiểm_soát điện_thoại trở_nên mặt xiaomi 14 duy_trì mỏng_manh viền siêu_mảnh thiết_kế phẳng bảo_vệ kính gorilla glass victus',\n",
       " 'xiaomi 14 sở_hữu amoled độc_đáo cho_phép màu đen hiển_thị_sắc nét màu thể_hiện rực_rỡ hình_ảnh cảnh_quan khung_hình trở_nên sống_động chân_thực màn_hình điện_thoại xiaomi',\n",
       " 'chất_lượng hình_ảnh độ nét yếu_tố hàng_đầu lựa_chọn màn_hình xiaomi 14 độ phân_giải 15 k làm_bạn thất_vọng chuẩn 15 k giúp tăng_cường trải_nghiệm giải_trí phim game hình_ảnh video âm_nhạc trở_nên sống_động chân_thực hơn_bao_giờ',\n",
       " 'xiaomi 14 trang_bị màn_hình kích_thước 636 inch trải_nghiệm hình_ảnh tuyệt_vời làm_bạn mỏi mắt kích_thước màn_hình tính_toán kỹ_lưỡng cân_đối tuyệt_mỹ không_gian hiển_thị tiện_lợi cầm nắm máy',\n",
       " 'tần_số quét 120 hz hành_động lướt_web đọc tài_liệu video trở_nên mượt_mà game tần_số quét màn_hình xiaomi 14 lợi_thế động_tác game di_chuyển kỹ_năng chuyển_đổi góc trở_nên nhanh_chóng mượt_mà',\n",
       " 'tệ màn_hình ngoài_trời xiaomi 14 độ 3000 nits màn_hình ánh_sáng mà_còn giúp nâng tầm trải_nghiệm hình_ảnh điện_thoại',\n",
       " 'trái_tim điện_thoại chip snapdragon 8 gen 3 cung_cấp hiệu_suất thiết_kế hiệu_suất cao_chip sản_xuất cấu_trúc lõi 1332 cung_cấp tốc_độ xung_nhịp kinh_ngạc',\n",
       " 'điện_thoại 1 nhân chạy 33 ghz tối_ưu nhiệm_vụ chất_lượng 3 nhân chạy 32 ghz tác_vụ mạnh_mẽ phức_tạp 3 nhân chạy 3 ghz cung_cấp sức_mạnh ổn_định đa_nhiệm 2 nhân chạy 23 ghz đảm_nhiệm tác_vụ nhẹ',\n",
       " 'xiaomi 14 đột_phá hiệu_năng ram 12 gb khả_năng ứng_dụng tốc_độ tổng_thể giúp máy chạy mượt_mà hiệu_quả đa_nhiệm',\n",
       " 'hệ điều_hành xiaomi 14 chạy android 14 hệ điều_hành google phiên_bản tính_năng cải_tiến giúp tối_ưu_hóa hiệu_suất tăng_cường bảo_mật cung_cấp giao_diện trực_quan giúp máy hoạt_động hiệu_quả tương_thích phần_mềm mượt_mà',\n",
       " 'điện_thoại xiaomi 14 trang_bị hệ_thống camera sở_hữu_độ phân_giải 50 mp đánh_dấu cột mốc ngành công_nghiệp di_động hiện_đại camera ống_kính summilux thế_hệ leica thương_hiệu lừng_danh giới nhiếp_ảnh giúp xiaomi 14 chất_lượng hình_ảnh tối_ưu',\n",
       " 'camera xiaomi 14 trang_bị cảm_biến hình_ảnh light fusion 900 cảm_biến tiên_tiến giúp cải_thiện khả_năng chụp ảnh ánh_sáng yếu tối cảm_biến yên_tâm ảnh chụp xiaomi 14 sở_hữu_độ nét chi_tiết kinh_ngạc ánh_sáng',\n",
       " 'xiaomi 14 chống rung_quang học ois giúp giảm_thiểu hiện_tượng mờ di_chuyển cung_cấp video chất_lượng khả_năng quay_phim 8 k cho_phép đoạn video sống_động chi_tiết độ phân_giải cực',\n",
       " 'đi kèm hệ_thống camera ấn_tượng xiaomi 14 tích_hợp tính_năng cực_kỳ thú_vị giúp khám_phá nhiếp_ảnh điện_thoại hết_mức tính_năng ho ảnh raw trôi time_lapse toàn_cảnh panorama siêu_cận macro hdr chụp ảnh chân_dung đêm',\n",
       " 'điện_thoại android trang_bị pin dung_lượng 4610 mah đáp_ứng nhu_cầu thường_ngày gọi nhắn_tin lướt_web video game hệ_thống quản_lý năng_lượng tối_ưu giúp tiết_kiệm pin thông_minh suốt sạc',\n",
       " 'điện_thoại công_nghệ sạc vượt_trội công_suất 90 w chế_độ sạc máy nhanh_chóng pin ngắn giúp nhu_cầu gấp khẩn_cấp tốn chờ_đợi',\n",
       " 'sở_hữu_hiệu_năng mạnh_mẽ chip snapdragon 8 gen 3 xiaomi 14 yêu công_nghệ trải_nghiệm ứng_dụng trò_chơi mượt_mà màn_hình đẹp hứa_hẹn trải_nghiệm video chỉnh_sửa hình_ảnh chuyên_nghiệp ấn_tượng lựa_chọn phân_khúc tầm_trung bỏ_qua',\n",
       " 'điện_thoại hiện_đại sang_trọng khung viền vuông_vức giúp nhấn thiết_kế cảm_giác mạnh_mẽ nam_tính cầm nắm đi mặt lưng khung nhựa nhẹ bóng redmi note 13 pro vẻ đẹp sang_trọng bóng_bẩy thu_hút ánh',\n",
       " 'giao khung viền_vuông hai mặt máy cong nhẹ cảm_giác cầm nắm thoải_mái tự_nhiên giúp dễ_dàng thiết_bị cảm_giác mệt_mỏi thoải_mái',\n",
       " 'xiaomi redmi note 13 pro nổi_bật thiết_kế mà_còn đa_dạng màu_sắc sở_thích tùy màu_sắc xanh lá đen tím giúp lựa_chọn thể_hiện phong_cách',\n",
       " 'viền mỏng 225 mm redmi note 13 pro trải_nghiệm mượt_mà nhấn thiết_kế tổng_thể sản_phẩm tiêu_chuẩn kháng bụi_ip54 nhấn giúp bảo_vệ thiết_bị tác_động môi_trường gia_tăng tuổi_thọ độ bền sản_phẩm',\n",
       " 'xiaomi redmi note 13 pro thu_hút chú_ý trung_tâm giải_trí di_động tích_hợp loa_kép đi kèm công_nghệ âm_thanh dolby atmos trải_nghiệm âm_thanh sống_động chi_tiết mạnh_mẽ phim nhạc trở_nên thú_vị hơn_bao_giờ',\n",
       " 'kích_thước 667 inch màn_hình trải_nghiệm hấp_dẫn phim game mà_còn cho_phép tận_hưởng chi_tiết rõ_ràng_độ phân_giải full hd 1080 x 2400 pixels cung_cấp tranh sống_động sắc nét pixel phản_ánh thế_giới đẹp_mắt đậm_chất hiện_đại',\n",
       " 'amoled cao_cấp xiaomi redmi note 13 pro đem màu_sắc rực_rỡ sống_động giúp tái_tạo độ chân_thực hình_ảnh màu_sắc trở_nên sống_động mà_còn tăng_cường_độ tương_phản chi_tiết nổi_bật rõ_ràng',\n",
       " 'tần_số quét 120 hz hành_động màn_hình trở_nên mượt_mà kinh_ngạc cử_động game cuộn mạng xã_hội thao_tác tái_hiện trơn_tru tự_nhiên',\n",
       " 'độ tối_đa 1300 nits giúp màn_hình hiển_thị rõ_ràng ánh nắng mạnh_mẽ 100 dcip3 giúp tăng_cường_độ tương_phản dải màu hình_ảnh chân_thực sống_động nội_dung chiếu rạp',\n",
       " 'camera độ phân_giải 200 mp xiaomi redmi note 13 pro công_cụ chụp ảnh ấn_tượng cánh cửa khám_phá thế_giới xung_quanh chi_tiết sắc nét hơn_bao_giờ',\n",
       " 'khả_năng chụp ảnh ánh_sáng yếu rung_lắc chống rung_ois giúp bắt khoảnh_khắc đẹp trọn_vẹn',\n",
       " 'camera góc siêu rộng 8 mp xiaomi redmi note 13 pro khả_năng thu trọn khung_cảnh khung_hình bãi biển bao_la đường_phố nhộn_nhịp ghi khoảnh_khắc độc_đáo ấn_tượng',\n",
       " 'camera macro 2 mp chú_ý xiaomi redmi note 13 pro cánh cửa khám_phá thế_giới cận_cảnh thú_vị tận_hưởng ghi chi_tiết cánh hoa giọt sương thế_giới mới_mẻ tuyệt_vời nâng thích_thú chụp ảnh điện_thoại',\n",
       " 'vi mediatek helio g99ultra điện_thoại xiaomi hiệu_năng mạnh_mẽ nhu_cầu đa_nhiệm',\n",
       " 'chip mediatek xiaomi redmi note 13 pro 450000 thông_qua antutu thông_tin web hãng chứng_tỏ sức_mạnh hiệu_suất ấn_tượng tác_vụ nặng_nề trở_ngại tận_hưởng trải_nghiệm mượt linh_hoạt',\n",
       " 'ram 8 gb điện_thoại android khả_năng đa_nhiệm mạnh_mẽ giúp ứng_dụng chạy tác_vụ mượt_mà hiệu_quả lo_lắng điện_thoại trở_nên chậm_chạp ứng_dụng game đòi_hỏi tài_nguyên',\n",
       " 'xiaomi redmi note 13 pro trang_bị viên pin 5000 mah yên_tâm thoải_mái hoạt_động hằng trò_chuyện liên_tục điện_thoại duyệt web video game',\n",
       " 'công_nghệ sạc 67 w máy trải_nghiệm sạc_pin mạnh_mẽ hiệu_quả điện_thoại nạp đầy_viên pin ngắn giúp tiết_kiệm mà_còn thuận_lợi điện_thoại linh_hoạt gián_đoạn',\n",
       " 'xiaomi redmi note 13 pro điện_thoại thông_minh thiết_kế đẹp tính_năng mà_còn máy mạnh_mẽ hiệu_suất ấn_tượng khả_năng chụp ảnh xuất_sắc kết_hợp cam_kết trải_nghiệm smartphone tối_ưu đáp_ứng nhu_cầu công_việc giải_trí',\n",
       " 'reno11 5 g ấn_tượng phiên_bản hai màu_sắc độc_đáo xanh lá nhạt xám mặt lưng xanh lá nhạt phủ lớp vân cảm_hứng biển xanh hiệu_ứng chuyển_sắc lấp_lánh sóng biển điện_thoại nổi_bật thu_hút màu xám vẻ đẹp tinh_tế tối_giản phản_ánh phong_cách sang_trọng lịch_lãm',\n",
       " 'đặc_điểm nổi_bật điện_thoại oppo cụm camera thiết_kế hình_dáng bầu_dục độc_đáo nhấn tổng_thể thiết_kế viền xung_quanh camera chế_tác tinh_tế hài_hòa sang_trọng vẻ đẹp thẩm_mỹ điện_thoại trở_nên thú_vị cuốn_hút',\n",
       " 'chất_liệu khung nhựa bóng mặt lưng thủy_tinh_hữu_cơ đẹp tin_cậy kích_thước khối_lượng reno11 5 g hợp_lý vừa_vặn hoàn_hảo cảm_giác thoải_mái',\n",
       " 'loa kép công_nghệ âm_thanh tiên_tiến reno11 5 g âm_thanh sống_động rõ_ràng mạnh_mẽ trải_nghiệm giải_trí tuyệt_vời chất_âm máy tái_hiện to trẻo âm_lượng hiện_tượng rè',\n",
       " 'reno11 5 g điện_thoại đẹp_mắt mà_còn trợ_thủ_đáng tin_cậy hoàn_cảnh khả_năng chống bụi ipx4 giúp bảo_vệ thiết_bị rủi_ro ý_muốn độ bền an_tâm hoàn_cảnh đi mưa vướng_bụi công_trường đường_phố',\n",
       " 'trang_bị amoled điện_thoại trải_nghiệm màu_sắc sắc nét độ tương_phản tiêu_thụ năng_lượng pixel màn_hình khả_năng điều_chỉnh độ giúp hiển_thị màu đen tiêu_thụ pin hữu_ích liên_tục giúp mệt_mỏi đôi mắt',\n",
       " 'kích_thước 67 inch không_gian rộng_lớn trải_nghiệm tuyệt_vời duyệt web video game màn_hình thoải_mái nội_dung thao_tác ứng_dụng chỉnh_sửa ảnh video làm_việc trang google sheet',\n",
       " 'màn_hình máy độ phân_giải full hd 1080 x 2412 pixels mức_độ coi ổn_định phân_khúc tầm_trung chuẩn full_hd hình_ảnh sắc_nét hiện_tượng rỗ_ảnh răng_cưa hiếm phim trò_chơi đồ họa cao_cấp chuẩn trở_nên hơi_đuối khai_thác chất_lượng tối_đa',\n",
       " 'độ màn_hình reno11 5 g 800 nits giúp hiển_thị rõ_ràng ánh_sáng mặt_trời chói_chang tần_số quét màn_hình 120 hz mượt_mà linh_hoạt thao_tác game trải_nghiệm trơn_tru phản_ứng nhanh_chóng',\n",
       " 'độc_đáo reno11 5 g camera 50 mp cảm_biến lyt600 sony khẩu_độ f18 tính_năng chống rung_quang học ois ảnh chụp độ nét sắc_nét tối_đa ánh_sáng yếu',\n",
       " 'môi_trường ánh_sáng điện_thoại ảnh chụp đẹp_mắt màu_sắc trẻo độ chi_tiết ảnh hiện_tượng màu nhiễu hạt ổn_tạo thuận_lợi hậu_kỳ dễ_dàng',\n",
       " 'reno11 5 g camera mà_còn hai camera phụ đa_năng camera_góc siêu rộng 8 mp giúp mở_rộng tầm chụp toàn_cảnh sống_động camera chân_dung 32 mp hình chân_dung tuyệt_vời mà_còn zoom quang_học 2 x giúp gần_gũi chủ_thể chất_lượng ảnh',\n",
       " 'reno11 5 g cộng_sự tin_cậy video khả_năng video 4 k camera camera video chất_lượng mượt_mà khoảnh_khắc ghi tái_hiện sống_động chân_thực_tạo thước phim ấn_tượng',\n",
       " 'cấu_hình điện_thoại trang_bị chip mediatek dimensity 7050 hiệu_suất vượt_trội khả_năng cân_bằng năng_lượng hiệu_quả sức_mạnh nhanh_chóng reno11 5 g đáp_ứng thách_thức game đồ họa ứng_dụng đồ họa phức_tạp',\n",
       " 'ứng_dụng đo hiệu_năng reno11 5 g kết_quả ấn_tượng đơn_nhân 958 2389 đa_nhân geekbench 6 8973 pc mark reno11 5 g tuần cảm_nhận máy hoạt_động mượt_mà trơn_tru hiếm hiện_tượng giật_lag khựng',\n",
       " 'tác_vụ thông_thường thử_nghiệm tựa_game phổ_biến liên_quân mobile pubg mobile reno11 5 g máy trò_chơi cấu_hình trường_hợp liên_quân mobile máy duy_trì tốc_độ khung_hình ổn_định xấp_xỉ 60 fps giật_lag',\n",
       " 'tựa game pubg mobile tinh_chỉnh cài_đặt mức_độ mượt_mà điện_thoại android tốc_độ khung_hình nằm ổn 57 fps khoản tác_vụ game reno11 5 g đáp_ứng nhu_cầu game ổn giá',\n",
       " 'dung_lượng ram 8 gb reno11 5 g đơn_thuần điện_thoại thông_thường mà_còn công_cụ đắc_lực công_việc giải_trí trải_nghiệm mượt_mà tác_vụ game chỉnh_sửa ảnh video trở_ngại',\n",
       " 'dung_lượng bộ_nhớ 256 gb giúp reno11 5 g giải_quyết lưu_trữ thoải_mái lưu_trữ khoảnh_khắc video chất_lượng ứng_dụng yêu_thích lo_lắng không_gian',\n",
       " 'viên pin 5000 mah giúp thoải_mái điện_thoại suốt thường_xuyên điện_thoại công_việc giải_trí lo_lắng sạc thường_xuyên ưu_điểm',\n",
       " 'viên pin thoải_mái điện_thoại dòng reno tác_vụ cuộc_gọi thư_giãn trò_chơi yêu_thích video lo_lắng pin tụt máy đáp_ứng 7 8 tiếng liên_tục cắm sạc',\n",
       " 'khả_năng sạc 67 w tiện_lợi sạc ngắn 47 phút điện_thoại sẵn_sàng tiếp giúp tiết_kiệm dễ_dàng duy_trì trạng_thái sẵn_sàng điện_thoại nhanh_chóng tình_huống cấp_bách',\n",
       " 'oppo reno11 5 g điện_thoại_di_động cao_cấp mà_còn coi biểu_tượng tinh_tế đẳng_cấp thiết_kế sang_trọng màn_hình xuất_sắc khả_năng chụp ảnh độc_đáo hiệu_suất vượt_trội điện_thoại lựa_chọn bỏ_qua',\n",
       " 'tạo_hình vuông_vức xu_hướng thiết_kế ưa_chuộng dòng smartphone vẻ đẹp hiện_đại trẻ_trung năng_động vivo y17s ngoại_lệ sản_phẩm khung mặt lưng làm_phẳng đường_nét sắc_cạnh mạnh_mẽ',\n",
       " 'khung máy kim_loại cảm_giác sang_trọng chất_liệu kim_loại giúp máy khả_năng chống va_đập mặt lưng nhựa nhám giúp hạn_chế bám dấu vân_tay mồ_hôi màu_sắc mặt lưng phối hài_hòa màu_sắc khung máy tổng_thể đồng_nhất bắt_mắt',\n",
       " 'khối_lượng 186 g con_số ấn_tượng khối_lượng vivo y17s nhẹ đối_thủ phân_khúc giúp dễ_dàng cầm nắm máy mỏi',\n",
       " 'độ mỏng 809 mm giúp vivo y17s trở_nên gọn_nhẹ tiện_lợi máy dễ_dàng bỏ_túi áo túi_xách cầm nắm dễ_dàng nữ bàn_tay',\n",
       " 'vivo y17s 2 phiên_bản màu tím xanh đen phiên_bản tím vẻ đẹp trẻ trung_năng_động màu_sắc phổ_biến thời_trang màu xanh đen điện_thoại vivo_y phối hài_hòa màu_sắc khung máy chi_tiết cụm camera tối_màu tổng_thể tinh_tế đẳng_cấp',\n",
       " 'vivo y17s_tích hợp_cảm_biến vân cạnh thuận_tiện khóa máy nhanh_chóng dễ_dàng tính_năng bảo_mật smartphone giúp bảo_vệ dữ_liệu kẻ xâm_nhập trái_phép an_toàn mã_pin mẫu_hình thông_thường',\n",
       " 'vivo y17s công_nghệ màn_hình ips lcd giúp tái_tạo màu_sắc chân_thực độ tương_phản màn_hình cung_cấp góc rộng cho_phép trải_nghiệm nội_dung chất_lượng hình_ảnh',\n",
       " 'kích_thước màn_hình 656 inch vivo y17s trải_nghiệm phim thoải_mái mà_còn nổi_bật chi_tiết ứng_dụng trò_chơi kích_thước cân_bằng đáp_ứng trải_nghiệm nội_dung điện_thoại nhẹ_nhàng dễ_dàng cầm nắm',\n",
       " 'điện_thoại trang_bị màn_hình độ phân_giải hd 720 x 1612 pixels chuẩn phổ_biến dòng sản_phẩm giá rẻ màn_hình chất_lượng hình_ảnh tái_hiện nội_dung rõ_ràng rỗ răng_cưa',\n",
       " 'độ màn_hình 840 nits vivo y17s trở_nên vượt_trội phân_khúc điện_thoại giá rẻ giúp trải_nghiệm nội_dung ngoài_trời nắng gắt trở_nên mà_còn giúp thoải_mái bản_đồ công_việc di_động',\n",
       " 'hệ_thống camera thiết_kế đẳng_cấp vivo_y17s trải_nghiệm chụp ảnh video tinh_tế sáng_tạo cạnh công_cụ lý_tưởng ghi khoảnh_khắc đẹp thú_vị cuộc_sống hằng',\n",
       " 'camera điện_thoại vivo độ phân_giải 50 mp hiện phân_khúc điện_thoại giá rẻ điện_thoại khả_năng chụp ảnh sắc_nét chi_tiết giúp bắt khoảnh_khắc độ chân_thực tuyệt_vời khả_năng xóa_phông mờ ảo tối_ưu_hóa camera phụ 2 mp hiệu_ứng chụp ảnh chuyên_nghiệp',\n",
       " 'hàng_loạt tính_năng video time lapse quét tài_liệu chụp đêm siêu_độ phân_giải xóa phông vivo y17s cung_cấp thể_hiện sáng_tạo',\n",
       " 'video full hd vivo_y17s cho_phép thỏa_sức sáng_tạo thước_phim chất_lượng tận_dụng độ phân_giải điện_thoại đồng_hành_lý_tưởng người_yêu chân_thực tinh_tế khung hình',\n",
       " 'camera 8 mp vivo y17s đơn_giản công_cụ tự_sướng mà_còn thể_hiện vẻ đẹp tự_tin tính_năng làm_đẹp xóa_phông ảnh selfie trở_nên tinh_tế cuốn_hút giúp nổi_bật vẻ đẹp tự_nhiên',\n",
       " 'vivo y17s trang_bị chip helio g85 8 nhân vi dòng gaming giới_thiệu mediatek chip sản_xuất sản_phẩm thông_minh phân_khúc giá rẻ xung_nhịp tối_đa 20 ghz giúp điện_thoại vivo dòng_y tác_vụ cơ_bản lướt_web phim nhắn_tin hằng',\n",
       " 'dung_lượng ram 4 gb bộ_nhớ 64 gb vivo y17s khả_năng đa_nhiệm tương_đối mượt tác_vụ cơ_bản cung_cấp không_gian lưu_trữ tải ứng_dụng cần_thiết',\n",
       " 'hãng điện_thoại android mở_rộng bộ_nhớ thông_qua thẻ microsd 1 tb giúp không_gian thỏa sức_tải dữ_liệu',\n",
       " 'điện_thoại cài_đặt sẵn_hệ điều_hành android 13 vivo y17s trải_nghiệm tối_ưu mà_còn tăng_cường bảo_mật hệ_thống tận_hưởng tính_năng cải_tiến google tận_dụng linh_hoạt hiệu_quả hệ điều_hành',\n",
       " 'dung_lượng pin 5000 mah vivo y17s đem khả_năng liên_tục lo_lắng sạc_pin cho_dù phim làm_việc thư_giãn điện_thoại cam_kết cung_cấp năng_lượng nhu_cầu',\n",
       " 'mặc_dù dung_lượng pin công_suất sạc vivo y17s 15 w nghĩa_là nạp pin điện_thoại giá rẻ công_suất sạc đánh_đổi hợp_lý chi_phí đợi_chờ một_chút giá hiệu_suất vivo y17s chấp_nhận',\n",
       " 'điện_thoại dự_phòng tính_năng cao_cấp xem_xét vivo y17s lựa_chọn máy có_giá hợp_lý cấu_hình pin đáp_ứng nhu_cầu bền_bỉ sản_phẩm chú_ý phân_khúc điện_thoại giá rẻ',\n",
       " 'chip apple a15 bionic siêu_mạnh sản_xuất quy_trình 5 nm giúp iphone 13 hiệu_năng ấn_tượng cpu 50 gpu 30 đối_thủ phân_khúc',\n",
       " 'hiệu_năng cải_tiến trải_nghiệm điện_thoại ứng_dụng chỉnh_sửa ảnh chiến tựa game đồ họa cao_mượt',\n",
       " 'iphone 13 trang_bị bộ_nhớ 128 gb dung_lượng lý_tưởng cho_phép thỏa lưu_trữ nội_dung ý_muốn lo bộ_nhớ',\n",
       " 'mạng 5 g cải_thiện chất_lượng băng_tần 5 g giúp điện_thoại trực_tuyến tải ứng_dụng tài_liệu tốc_độ nhanh_chóng siêu_phẩm chế_độ dữ_liệu thông_minh tự_động phát_hiện tải tốc_độ mạng tiết_kiệm năng_lượng tốc_độ',\n",
       " 'iphone 13 oled kích_thước màn_hình 61 inch chất_lượng màu_sắc chi_tiết hình_ảnh sắc nét sống động_độ phân_giải 1170 x 2532 pixels',\n",
       " 'công_nghệ super retina xdr giúp máy độ 800 nits tối_đa 1200 nits dải màu rộng p3 tỷ_lệ tương_phản giúp ổn_định màu_sắc chất_lượng hình_ảnh hiển_thị môi_trường nắng_gắt ánh_sáng chói',\n",
       " 'màn_hình phủ lớp oleophobic hạn_chế bám bụi bẩn mồ_hôi màn_hình sạch tinh_tế trang_bị kính cường_lực ceramic shield giúp màn_hình máy an_toàn vết xước va_đập',\n",
       " 'cụm camera_kép iphone 13 sở_hữu_độ phân_giải 12 mp camera giúp thu ánh_sáng khả_năng thu 47 chất_lượng ảnh chụp cải_thiện tiền_nhiệm điện_thoại camera góc siêu rộng góc 120 độ giúp thu chi_tiết dễ_dàng ghi khung_cảnh núi_non_hùng vĩ_ảnh chụp đông',\n",
       " 'cụm camera trang_bị tính_năng chống rung_quang học sensor shift giúp nét nhanh_chóng khả_năng chụp đêm trở_nên nét nhiễu hạt video ổn_định mượt_mà',\n",
       " '“ chế_độ_điện_ảnh ” cho_phép camera iphone 13 tự_động mờ hậu_cảnh video đối_tượng nét nổi_bật tiêu_điểm chủ_thể mong_muốn khung_hình video video chuyên_nghiệp',\n",
       " 'chế_độ chụp smart hdr 4 nhận_diện tối_đa 4 khung_hình tiến_hành tối_ưu_hóa ánh_sáng tương_phản tone màu_da hoàn_thiện ảnh đẹp chỉnh_sửa',\n",
       " 'camera nằm tai thỏ_độ phân_giải 12 mp công_nghệ chụp ảnh chuyên_nghiệp hiệu_ứng bokeh chế_độ điện_ảnh animoji memoji tự_tin thể_hiện ống_kính lo_lắng che_giấu khuyết_điểm',\n",
       " 'iphone 13 thiết_kế nguyên_khối vuông_vắn tiền_nhiệm khung viền nhôm mặt lưng kính sang_trọng cao_cấp',\n",
       " 'ngoại_hình khác_biệt tiền_nhiệm tỷ_lệ màn_hình khung máy tai_thỏ 20 gia_tăng diện_tích trải_nghiệm lướt_web phim game',\n",
       " 'khác_biệt ngoại_hình có_lẽ cảm_biến camera chéo thay_vì xếp thẳng hàng iphone 12 nhận_diện đặc_trưng mới_mẻ đẹp_mắt chảnh',\n",
       " 'màu_sắc mẫu iphone đa_dạng trắng đen đỏ xanh_dương hồng mới_mẻ tùy',\n",
       " 'iphone 13 chuẩn kháng bụi ip68 yên_tâm đem thiết_bị chụp ảnh bơi vô_tình đổ mưa đột_ngột',\n",
       " 'công_bố hãng iphone 13 thời_lượng pin 25 tiếng thế_hệ phục_vụ hiệu_quả nhu_cầu tần_suất',\n",
       " 'sạc 20 w giúp nạp 50 pin 30 phút đi kèm công_nghệ sạc dây tiên_tiến chuẩn_qi magsafe',\n",
       " 'lưu_ý củ sạc 20 w đi kèm hộp mua',\n",
       " 'tóm_lại nâng_cấp cải_tiến mạnh_mẽ hiệu_năng camera_đa chức_năng iphone 13 128 gb điện_thoại cao_cấp đầu_tư',\n",
       " 'tham_khảo loạt sản_phẩm iphone 2022 mẫu_mã iphone 14 iphone 14 pro iphone 14 plus iphone 14 pro max khuyến_mãi giảm_giá hàng triệu kèm quà tặng kèm hấp_dẫn chờ',\n",
       " 'redmi note 13 tinh_tế đẳng_cấp thiết_kế vuông vức khung viền mặt chế_tác tỉ_mỉ cảm_giác mịn_màng cầm nắm đặc_trưng nổi_bật điện_thoại mỏng 797 mm trang_bị viên pin dung_lượng 5000 mah diện_mạo ấn_tượng nổi_bật phân_khúc',\n",
       " 'độc_đáo redmi note 13 cụm camera rời ống_kính riêng_lẻ cụm redmi note 12 giúp dễ_dàng phân_biệt hai đời sản_phẩm làn gió nhàm_chán lặp thiết_kế',\n",
       " 'mặt redmi note 13 màn_hình tràn_viền thiết_kế dạng nốt ruồi thiết_kế thị_giác mà_còn tối_ưu_hóa không_gian hiển_thị trải_nghiệm thoải_mái tiện_ích',\n",
       " 'redmi note 13 tiện_lợi tương_thích xu_hướng công_nghệ cổng sạc typec cổng tốc_độ sạc mà_còn kết_nối trở_nên đơn_giản giúp tiết_kiệm tiện_ích',\n",
       " 'redmi note 13 ngần_ngại đương_đầu môi_trường tiêu_chuẩn chống bụi ip54 thiết_thực tiếp_xúc môi_trường khắc_nghiệt điện_thoại linh_động tự_tin',\n",
       " 'redmi note 13 trang_bị amoled màu_sắc rực_rỡ mà_còn tái_tạo hình_ảnh độ tương_phản khả_năng hiển_thị màu đen sâu giúp nội_dung màn_hình trở_nên sống_động chân_thực hơn_bao_giờ',\n",
       " 'redmi note 13 độ phân_giải full hd giúp chi_tiết màn_hình trở_nên sắc_nét sống động_độ phân_giải giúp văn_bản đọc mà_còn hình_ảnh video trở_nên rõ_ràng chi_tiết',\n",
       " 'redmi note 13 màn_hình 667 inch thế_giới giải_trí di_động trải_nghiệm trở_nên phong_phú nhu_cầu cơ_bản hằng phim game duyệt web',\n",
       " 'tần_số quét 120 hz redmi note 13 trải_nghiệm mượt_mà chân_thực tác_vụ cuộc_gọi video game lướt_web trở_nên linh_hoạt đáp_ứng nhanh_chóng',\n",
       " 'điện_thoại xiaomi trang_bị camera 108 mp đi hai cảm_biến phụ độ phân_giải 8 mp 2 mp thông_số nét chất_lượng hình_ảnh vượt_trội thỏa_sức nhiếp_ảnh',\n",
       " 'redmi note 13 tích_hợp tính_năng nhiếp_ảnh hiện_đại bao_gồm chụp ban_đêm chuyên_nghiệp siêu_độ phân_giải xóa_phông khả_năng chụp ảnh ban_đêm ghi khoảnh_khắc tuyệt_vời ánh_sáng yếu',\n",
       " 'chế_độ chuyên_nghiệp linh_hoạt kiểm_soát tham_số nhiếp_ảnh chế_độ siêu_độ phân_giải chi_tiết thu rõ_ràng chế_độ xóa_phông ảnh nổi_bật hiệu_ứng mờ hậu_cảnh thú_vị',\n",
       " 'redmi note 13 camera mà_còn chú_ý camera selfie 16 mp trang_bị tính_năng làm_đẹp ảnh selfie trở_nên hoàn_hảo vẻ đẹp tự_nhiên tươi_tắn',\n",
       " 'redmi note 13 trang_bị chipset snapdragon 685 lựa_chọn hoàn_hảo phân_khúc giá chipset hiệu_suất ổn_định trơn_tru cho_phép điện_thoại ứng_dụng tác_vụ nhanh_chóng tương_thích ứng_dụng hiện_đại khả_năng tiết_kiệm năng_lượng nổi_bật điện_thoại android',\n",
       " 'redmi note 13 trang_bị ram 6 gb trải_nghiệm đa_nhiệm mượt giúp điện_thoại chuyển_đổi linh_hoạt ứng_dụng tác_vụ trở_ngại yêu game video chất_lượng cao_ram',\n",
       " 'redmi note 13 vững hiệu_suất mà_còn nhu_cầu lưu_trữ bộ_nhớ 128 gb không_gian lưu_trữ ảnh video ứng_dụng dữ_liệu lo_lắng không_gian',\n",
       " 'redmi note 13 trang_bị pin_khủng dung_lượng 5000 mah năng_lượng lo_lắng sạc cho_dù công_việc giải_trí duyệt web điện_thoại sẵn_sàng đồng_hành',\n",
       " 'khả_năng sạc 33 w ưu_điểm nổi_bật redmi note 13 tiết_kiệm sạc mà_còn nhanh_chóng năng_lượng đầy_đủ điện_thoại trở_nên chờ_đợi',\n",
       " 'redmi note 13 chú_ý thiết_kế hiện_đại_pin màn_hình đẹp kết_hợp thiết_kế hiện_đại thời_lượng pin xuất_sắc giúp điện_thoại hoàn_hảo đòi_hỏi linh_hoạt cuộc_sống hằng điện_thoại liên_tục',\n",
       " 'đầu ra_mắt nhà_realme tự_tin khả_năng chụp ảnh c55 số_ít sản_phẩm giá rẻ trang_bị camera 64 mp hãng vượt_mặt đối_thủ mẫu điện_thoại giá rẻ chụp ảnh đẹp săn_đón',\n",
       " 'thông_số cơ_bản realme c55 trang_bị 2 camera mặt camera độ phân_giải 64 mp đi camera phụ 2 mp chụp ảnh xóa phông',\n",
       " 'môi_trường đầy_đủ ánh_sáng cường_độ gắt_realme c55 thu bức_hình độ chi_tiết chế_độ mặc_định màu_sắc tái_hiện tươi rực_rỡ giúp tổng_quan ảnh trở_nên chất_lượng đẹp_mắt',\n",
       " 'ảnh chụp mặc_định',\n",
       " 'ảnh chụp phóng to 50',\n",
       " 'chế_độ camera máy xu_hướng đẩy màu đôi_chút gam màu nổi trông_dịu ấm',\n",
       " 'ảnh chụp dễ_dàng màu xanh tán lá màu nắng chiếu mặt_đất trở_nên tươi hơi vàng nhẹ cảm_giác phủ lớp màu chế_độ bộ_lọc trở_nên đẹp tự_nhiên đánh đi_độ chân_thật vốn',\n",
       " 'khung vàng 5 6 chiều điện_thoại thu ảnh đẹp ánh_sáng dịu nắng gắt quang_cảnh tối',\n",
       " 'độ tương_phản hình thu màu_sắc tươi chi_tiết nét cực_kỳ ưng_ý tự_tin đăng_tải mạng chỉnh_sửa',\n",
       " 'khả_năng chụp ảnh ngược realme c55 ấn_tượng chất_lượng máy giá rẻ kết_quả kinh_ngạc ảnh tối quang_cảnh xung_quanh tương_đối rõ_ràng',\n",
       " 'máy trang_bị tính_năng thú_vị chụp chuyên_nghiệp hdr xóa_phông làm_đẹp chụp ảnh chế_độ video time lapse slow motion giúp thu thước phim thú_vị',\n",
       " 'màn_hình điện_thoại realme ips lcd kích_thước 672 inch phân_khúc giá rẻ phổ_biến chất_lượng nằm ổn màu_sắc thể_hiện đẹp_mắt màu tươi hề',\n",
       " 'màn_hình ips lcd nổi_bật thiết_bị màn_hình ips',\n",
       " 'đối_thủ trang_bị amoled realme c55 thua khoản màu đen tái_hiện sâu_độ tương_phản cảm_giác phim game chân_thực lắm',\n",
       " 'bù kích_thước màn_hình mở_rộng kích_thước 672 inch phim trở_nên vô_cùng thoải_mái hề bí_bách thao_tác game thoải_mái phím bấm màn_hình bố_trí riêng_lẻ',\n",
       " 'độ chi_tiết realme c55 phàn_nàn độ phân_giải full hd 1080 x 2400 pixels nội_dung nét ấn_tượng vượt_trội đối_thủ tầm_giá hiện_tượng răng_cưa lộ ảnh loại_bỏ thông_thường',\n",
       " 'đi kèm hãng trang_bị kính cường_lực panda màn_hình trở_nên cứng_cáp tần_số quét 90 hz giúp hiển_thị hình_ảnh mượt',\n",
       " 'realme c55 thiết_kế hình_notch dạng nốt ruồi kích_thước diện_tích chiếm chỗ nội_dung ảnh_hưởng trải_nghiệm hình_ảnh',\n",
       " 'hình_notch tự_động dựa hiệu_ứng điện_thoại giao_diện sạc_pin đếm chân trở_nên thú_vị dynamic island apple realme tên_riêng tính_năng mini capsule nhầm_lẫn',\n",
       " 'realme c55 hãng trang_bị điện_thoại chip mediatek helio g88 hoạt_động 8 nhân mẫu chip dòng điện_thoại android tầm_trung 2 hoạt_động hiệu_quả chú_ý trang_bị máy giá rẻ',\n",
       " 'chip mediatek helio g88 chi_tiết thông_số hiệu_năng',\n",
       " 'giải_đáp thắc_mắc test realme c55 hai phần_mềm hiệu_năng game đồ họa máy kết_quả test realme c55 447 đơn_nhân 1460 đa_nhân geekbench 6 8649 pcmark',\n",
       " 'mặt_bằng giá loanh_quanh realme c55 kết_quả thu hai phần_mềm điện_thoại tác_vụ cơ_bản lướt_web phim chụp ảnh nhắn_tin gọi thông_thường',\n",
       " 'game điện_thoại tựa game liên_quân mobile liên_minh huyền_thoại tốc_chiến tự_tin cài_đặt cấu_hình trò_chơi trải_nghiệm ưng diễn mượt giật lag',\n",
       " 'pubg mobile genshin_impact cấu_hình diễn ổn lắm helio g88 chip mạnh_mẽ hai trò_chơi quả_thực',\n",
       " 'trải_nghiệm game tham_khảo mẫu điện_thoại game có_giá hiện kinh_doanh thế_giới di_động',\n",
       " 'mẫu điện_thoại ram 6 gb hoạt_động hệ điều_hành android 13 đa_nhiệm realme c55 dễ_dàng chuyển_trang mượt trang ứng_dụng chạy ngầm hiện_tượng load đầu ngoại_trừ tựa game online 15 trang',\n",
       " 'cung_cấp năng_lượng máy viên pin dung_lượng 5000 mah điện_thoại thoải_mái realme c55 lo_lắng sạc_pin máy',\n",
       " 'test máy_quan đa_tác_vụ diễn liên_tục máy chế_độ kết_nối wifi_độ màn_hình trung_bình loa công_suất 80 kết_quả 6 tiếng 49 phút 100 dung_lượng',\n",
       " 'realme c55 điện_thoại sạc siêu công_nghệ supervooc hãng công_suất tối_đa 33 w 1 tiếng 41 phút điện_thoại 100 sạc pin 0',\n",
       " 'realme c55 sở_hữu_ngôn_ngữ thiết_kế hiện_đại lối tạo_hình vuông_vức mặt_lưng hoàn_thiện độc_đáo diện_mạo “ chảnh ” khung mặt lưng phẳng 4 góc bo_cong nhẹ kết_hợp giúp đồng_bộ thiết_kế thời_thượng bắt kịp xu_hướng',\n",
       " 'hiện phiên_bản màu đen trời đêm vô_cùng huyền_bí nổi_bật vệt chạy dọc thân máy liên_tưởng bầu_trời đêm thú_vị',\n",
       " 'hãng ra_mắt phiên_bản gọi_là vàng nắng mai phiên_bản màu_sắc bắt_mắt hiệu_ứng chuyển_sắc độc_đáo thích_hợp trẻ cá_tính yêu_thích năng_động tươi',\n",
       " 'kích_thước cạnh realme c55 dày 789 mm mặc_dù trang_bị viên pin 5000 mah đem thanh_thoát tinh_tế thiết_kế điện_thoại',\n",
       " 'hoàn_thiện chủ_yếu nhựa vẻ điện_thoại bền_bỉ lắm khả_năng xước vật_liệu thông_thường thủy_tinh_hữu_cơ',\n",
       " 'realme trang_bị điện_thoại ốp bảo_vệ máy trầy_xước vẻ đẹp vẻ realme c55',\n",
       " 'tổng_kết mẫu điện_thoại mua sở_thích chụp ảnh sở_hữu thông_số ấn_tượng camera hiệu_năng phân_khúc realme c55 thoải_mái 2 3 nhu_cầu tác_vụ thường_ngày',\n",
       " 'nâng_cấp camera cải_tiến thế_hệ iphone',\n",
       " 'iphone xr camera iphone 11 hai camera mặt',\n",
       " 'camera độ phân_giải 12 mp camera góc siêu rộng độ phân_giải tương_tự',\n",
       " 'ảnh chụp chân_dung iphone 11',\n",
       " 'apple chuyển_đổi hai ống_kính màu_sắc ảnh',\n",
       " 'ảnh chụp chế_độ chân_dung iphone 11',\n",
       " 'bước_ngoặt smartphone android camera sai_lệch màu_sắc chuyển_đổi ống_kính cảm_giác khó_chịu',\n",
       " 'ảnh chụp deep fusion',\n",
       " 'cạnh iphone 11 apple trang_bị khả_năng chụp đêm iphone',\n",
       " 'ảnh chụp chế_độ night mode',\n",
       " 'trải_nghiệm tính_năng hoạt_động hiệu_quả môi_trường cực_kỳ',\n",
       " 'kích_hoạt_chế_độ chụp đêm iphone quyết_định máy chụp đơn_giản',\n",
       " 'ảnh chụp chế_độ góc siêu rộng',\n",
       " 'apple nâng_cấp_độ phân_giải camera 12 mp thay_vì 7 mp thế_hệ',\n",
       " 'camera tính_năng thông_minh xoay ngang điện_thoại tự_kích_hoạt_chế_độ selfie_góc rộng chụp',\n",
       " 'apple giới_thiệu tính_năng video slow motion camera apple trang_bị iphone',\n",
       " 'chi_tiết iphone 11 hóa bão_tố thành bom xịt',\n",
       " 'iphone apple trải_nghiệm hiệu_năng',\n",
       " 'iphone 11 apple nâng_cấp chip thế_hệ apple a13 bionic mạnh_mẽ',\n",
       " 'iphone nâng_cấp dung_lượng ram 4 gb thay_vì 3 gb thế_hệ',\n",
       " 'cấu_hình giúp điện_thoại game tựa_game phổ_biến mượt_mà ổn_định thao_tác iphone tốc_độ phản_hồi cảm_nhận giật_lag cho_dù',\n",
       " ...]"
      ]
     },
     "execution_count": 25,
     "metadata": {},
     "output_type": "execute_result"
    }
   ],
   "source": [
    "dataDescription"
   ]
  },
  {
   "cell_type": "markdown",
   "metadata": {},
   "source": [
    "## Lọc các từ không phải Việt và Anh"
   ]
  },
  {
   "cell_type": "code",
   "execution_count": 26,
   "metadata": {},
   "outputs": [],
   "source": [
    "from langdetect import detect, DetectorFactory\n",
    "DetectorFactory.seed = 0"
   ]
  },
  {
   "cell_type": "code",
   "execution_count": 27,
   "metadata": {},
   "outputs": [],
   "source": [
    "## kiem tra ngon ngu\n",
    "vi = 0\n",
    "en = 0\n",
    "remove_index = []\n",
    "for i in range(len(dataDescription)):\n",
    "  try:\n",
    "    if detect(dataDescription[i]) == 'vi':\n",
    "      vi+=1\n",
    "    else : \n",
    "      en+=1\n",
    "      remove_index.append(i)\n",
    "  except:\n",
    "    remove_index.append(i)\n",
    "    continue"
   ]
  },
  {
   "cell_type": "code",
   "execution_count": 28,
   "metadata": {},
   "outputs": [],
   "source": [
    "## loai bo cot ngon ngu\n",
    "data_old = dataDescription\n",
    "dataDescription = []\n",
    "for i in range(len(data_old)):\n",
    "  if i in remove_index:\n",
    "    continue\n",
    "  else : dataDescription.append(data_old[i])"
   ]
  },
  {
   "cell_type": "markdown",
   "metadata": {},
   "source": [
    "## Đánh đấu keywords bằng TextRank / keyBERT"
   ]
  },
  {
   "cell_type": "markdown",
   "metadata": {},
   "source": [
    "### TextRank"
   ]
  },
  {
   "cell_type": "code",
   "execution_count": 34,
   "metadata": {},
   "outputs": [],
   "source": [
    "from collections import OrderedDict\n",
    "import numpy as np\n",
    "import spacy\n",
    "from spacy.lang.en.stop_words import STOP_WORDS\n",
    "import re\n",
    "from underthesea import pos_tag\n",
    "\n",
    "\n",
    "class TextRank4Keyword():\n",
    "    \"\"\"Extract keywords from text\"\"\"\n",
    "    \n",
    "    def __init__(self):\n",
    "        self.d = 0.85 \n",
    "        self.min_diff = 1e-5 \n",
    "        self.steps = 10 \n",
    "        self.node_weight = None \n",
    "\n",
    "    def remove_number(self,doc):\n",
    "        doc = re.sub(\" \\d+\", \" \", doc)\n",
    "        return doc\n",
    "    def recovery_sentence(self,doc):\n",
    "        doc = doc.replace(\"_\",\" \")\n",
    "        return doc\n",
    "    \n",
    "    def sentence_segment(self, doc, candidate_pos, lower=None):\n",
    "        \"\"\"Store those words only in cadidate_pos\"\"\"\n",
    "        words = []\n",
    "        for i,j in pos_tag(doc):\n",
    "          if j in candidate_pos : \n",
    "            word_token = i.replace(' ','_')\n",
    "            words.append(word_token)\n",
    "        return words\n",
    "\n",
    "    def get_vocab(self, words):\n",
    "        \"\"\"Get all tokens - word_dict\"\"\"\n",
    "        vocab = OrderedDict()\n",
    "        i = 0\n",
    "        for word in words:          \n",
    "          if word not in vocab:\n",
    "              vocab[word] = i\n",
    "              i += 1\n",
    "        return vocab\n",
    "    \n",
    "    def get_token_pairs(self, window_size, sentences):\n",
    "        \"\"\"Build token_pairs from windows in sentences\"\"\"\n",
    "        token_pairs = list()\n",
    "\n",
    "        for i, word in enumerate(sentences):\n",
    "            for j in range(i+1, i+window_size):\n",
    "                if j >= len(sentences):\n",
    "                    break\n",
    "                pair = (word, sentences[j])\n",
    "                if pair not in token_pairs:\n",
    "                    token_pairs.append(pair)\n",
    "        return token_pairs\n",
    "        \n",
    "    def symmetrize(self, a):\n",
    "        '''xây dựng ma trận đối xứng'''\n",
    "        return a + a.T - np.diag(a.diagonal())\n",
    "    \n",
    "    def get_matrix(self, vocab, token_pairs):\n",
    "        \"\"\"Get normalized matrix\"\"\"\n",
    "        vocab_size = len(vocab)\n",
    "        g = np.zeros((vocab_size, vocab_size), dtype='float')\n",
    "        for word1, word2 in token_pairs:\n",
    "            i, j = vocab[word1], vocab[word2]\n",
    "            g[i][j] = 1\n",
    "        g = self.symmetrize(g)\n",
    "        norm = np.sum(g, axis=0)\n",
    "        g_norm = np.divide(g, norm, where=norm!=0) \n",
    "        return g_norm\n",
    "\n",
    "    \n",
    "    def get_keywords(self, number=10):\n",
    "        \"\"\"in top keywords\"\"\"\n",
    "        node_weight = OrderedDict(sorted(self.node_weight.items(), key=lambda t: t[1], reverse=True))\n",
    "        re = []\n",
    "        for i, (key, value) in enumerate(node_weight.items()):\n",
    "            re.append(key)\n",
    "            if i > number:\n",
    "                break\n",
    "        return re\n",
    "        \n",
    "        \n",
    "    def analyze(self, text, \n",
    "                candidate_pos=['NOUN', 'PROPN'], \n",
    "                window_size=4, lower=False, stopwords=list()):\n",
    "\n",
    "        doc = self.remove_number(text)\n",
    "\n",
    "        doc = self.recovery_sentence(text)\n",
    "\n",
    "        # Filter sentences\n",
    "        sentences = self.sentence_segment(doc, candidate_pos, lower) # list of list of words\n",
    "        \n",
    "        # Build vocabulary\n",
    "        vocab = self.get_vocab(sentences)\n",
    "        \n",
    "        # Get token_pairs from windows\n",
    "        token_pairs = self.get_token_pairs(window_size, sentences)\n",
    "        # Get normalized matrix\n",
    "        g = self.get_matrix(vocab, token_pairs)\n",
    "        \n",
    "        # Initionlization for weight(pagerank value)\n",
    "        pr = np.array([1] * len(vocab))\n",
    "        # Iteration\n",
    "        previous_pr = 0\n",
    "        for epoch in range(self.steps):\n",
    "            pr = (1-self.d) + self.d * np.dot(g, pr)\n",
    "            if abs(previous_pr - sum(pr))  < self.min_diff:\n",
    "                break\n",
    "            else:\n",
    "                previous_pr = sum(pr)\n",
    "\n",
    "        # Get weight for each node\n",
    "        node_weight = dict()\n",
    "        for word, index in vocab.items():\n",
    "            node_weight[word] = pr[index]\n",
    "        \n",
    "        self.node_weight = node_weight"
   ]
  },
  {
   "cell_type": "code",
   "execution_count": 35,
   "metadata": {},
   "outputs": [
    {
     "data": {
      "text/plain": [
       "['pro',\n",
       " 'usbc',\n",
       " 'sạc',\n",
       " 'cổng',\n",
       " 'chuyển_đổi',\n",
       " 'max_độ',\n",
       " 'cứng_cáp',\n",
       " 'rung',\n",
       " 'truyền_tải',\n",
       " 'tối_ưu',\n",
       " 'gạt',\n",
       " 'tích_hợp',\n",
       " '48',\n",
       " 'mp',\n",
       " 'nút_tác',\n",
       " 'vụ',\n",
       " 'action_button',\n",
       " 'thay_thế',\n",
       " 'x',\n",
       " 'khối_lượng',\n",
       " 'hiệu_năng',\n",
       " 'cải_tiến',\n",
       " 'chất_liệu']"
      ]
     },
     "execution_count": 35,
     "metadata": {},
     "output_type": "execute_result"
    }
   ],
   "source": [
    "doc = \"\"\"\n",
    "      Đặc điểm nổi bật của iPhone 15 Pro Max\n",
    "      Tăng độ cứng cáp và tối ưu khối lượng với chất liệu Titan\n",
    "      Bứt phá mọi giới hạn về hiệu năng nhờ chip A17 Pro\n",
    "      Phiên bản duy nhất cải tiến camera tele 5x\n",
    "      Tích hợp camera 48 MP\n",
    "      Nút tác vụ (Action Button) thay thế cần gạt rung\n",
    "      Chuyển đổi cổng sạc USB-C, truyền tải dữ liệu tốc độ cao\n",
    "      \"\"\"\n",
    "doc_pre = preprocess_text(doc)\n",
    "TextRank = TextRank4Keyword()\n",
    "TextRank.analyze(doc_pre, candidate_pos = ['N','A','V'])\n",
    "a = TextRank.get_keywords(len(doc_pre.split()) // 2)\n",
    "a"
   ]
  },
  {
   "cell_type": "code",
   "execution_count": 16,
   "metadata": {},
   "outputs": [],
   "source": [
    "label_words = []\n",
    "for dataDes in dataDescription:\n",
    "  try:\n",
    "    if len(dataDes.split()) >= 50 :\n",
    "      keywords = 25\n",
    "    elif 50 > len(dataDes.split()) > 25:\n",
    "      keywords = 20\n",
    "    else: keywords = 10\n",
    "    TextRank = TextRank4Keyword()\n",
    "    TextRank.analyze(dataDes, candidate_pos = ['N','A','V'])\n",
    "    a = TextRank.get_keywords(keywords)\n",
    "    label_words.append(a)\n",
    "  except Exception as e: \n",
    "    print(e)\n",
    "    break"
   ]
  },
  {
   "cell_type": "code",
   "execution_count": 20,
   "metadata": {},
   "outputs": [
    {
     "data": {
      "text/plain": [
       "'máy_tính bảng ram 8 gb oppo pad neo sợ gián_đoạn trì_trệ ứng_dụng môi_trường làm_việc giải_trí mượt_mà cho_phép linh_hoạt chuyển_đổi ứng_dụng lo_lắng hiệu_suất'"
      ]
     },
     "execution_count": 20,
     "metadata": {},
     "output_type": "execute_result"
    }
   ],
   "source": [
    "import random\n",
    "t = random.choice(dataDescription)\n",
    "t"
   ]
  },
  {
   "cell_type": "code",
   "execution_count": 21,
   "metadata": {},
   "outputs": [
    {
     "data": {
      "text/plain": [
       "['ứng_dụng',\n",
       " 'gb',\n",
       " 'oppo',\n",
       " 'pad',\n",
       " 'linh_hoạt',\n",
       " 'cho_phép',\n",
       " 'neo',\n",
       " 'sợ',\n",
       " 'mượt_mà',\n",
       " 'ram',\n",
       " 'giải_trí',\n",
       " 'gián_đoạn']"
      ]
     },
     "execution_count": 21,
     "metadata": {},
     "output_type": "execute_result"
    }
   ],
   "source": [
    "label_words[dataDescription.index(t)]"
   ]
  },
  {
   "cell_type": "markdown",
   "metadata": {},
   "source": [
    "### keyBERT"
   ]
  },
  {
   "cell_type": "markdown",
   "metadata": {},
   "source": [
    "#### all-MiniLM-L6-v2"
   ]
  },
  {
   "cell_type": "markdown",
   "metadata": {},
   "source": [
    "Model chạy nhanh kích cỡ thấp nhưng chỉ dùng cho English nên không hiệu quả"
   ]
  },
  {
   "cell_type": "code",
   "execution_count": 29,
   "metadata": {},
   "outputs": [
    {
     "name": "stderr",
     "output_type": "stream",
     "text": [
      "d:\\code\\PBL7\\.venv\\lib\\site-packages\\tqdm\\auto.py:21: TqdmWarning: IProgress not found. Please update jupyter and ipywidgets. See https://ipywidgets.readthedocs.io/en/stable/user_install.html\n",
      "  from .autonotebook import tqdm as notebook_tqdm\n",
      "d:\\code\\PBL7\\.venv\\lib\\site-packages\\transformers\\utils\\generic.py:441: UserWarning: torch.utils._pytree._register_pytree_node is deprecated. Please use torch.utils._pytree.register_pytree_node instead.\n",
      "  _torch_pytree._register_pytree_node(\n",
      "d:\\code\\PBL7\\.venv\\lib\\site-packages\\transformers\\utils\\generic.py:309: UserWarning: torch.utils._pytree._register_pytree_node is deprecated. Please use torch.utils._pytree.register_pytree_node instead.\n",
      "  _torch_pytree._register_pytree_node(\n"
     ]
    }
   ],
   "source": [
    "from keybert import KeyBERT\n",
    "\n",
    "kw_model = KeyBERT(model=\"all-MiniLM-L6-v2\")"
   ]
  },
  {
   "cell_type": "code",
   "execution_count": 32,
   "metadata": {},
   "outputs": [
    {
     "name": "stdout",
     "output_type": "stream",
     "text": [
      "Num keywords:  21\n"
     ]
    },
    {
     "data": {
      "text/plain": [
       "[('tốc_độ', 0.4857),\n",
       " ('nổi_bật', 0.4285),\n",
       " ('iphone', 0.407),\n",
       " ('camera', 0.3455),\n",
       " ('giới_hạn', 0.3391),\n",
       " ('bứt_phá', 0.3386),\n",
       " ('cứng_cáp', 0.3147),\n",
       " ('tele', 0.3082),\n",
       " ('cổng', 0.3034),\n",
       " ('a17', 0.3024),\n",
       " ('chất_liệu', 0.2975),\n",
       " ('hiệu_năng', 0.2887),\n",
       " ('tích_hợp', 0.282),\n",
       " ('usbc', 0.2815),\n",
       " ('chip', 0.275),\n",
       " ('phiên_bản', 0.2707),\n",
       " ('15', 0.256),\n",
       " ('nút_tác', 0.249),\n",
       " ('gạt', 0.2309),\n",
       " ('thay_thế', 0.2267),\n",
       " ('action_button', 0.1916)]"
      ]
     },
     "execution_count": 32,
     "metadata": {},
     "output_type": "execute_result"
    }
   ],
   "source": [
    "doc = \"\"\"\n",
    "      Đặc điểm nổi bật của iPhone 15 Pro Max\n",
    "      Tăng độ cứng cáp và tối ưu khối lượng với chất liệu Titan\n",
    "      Bứt phá mọi giới hạn về hiệu năng nhờ chip A17 Pro\n",
    "      Phiên bản duy nhất cải tiến camera tele 5x\n",
    "      Tích hợp camera 48 MP\n",
    "      Nút tác vụ (Action Button) thay thế cần gạt rung\n",
    "      Chuyển đổi cổng sạc USB-C, truyền tải dữ liệu tốc độ cao\n",
    "      \"\"\"\n",
    "doc_pre = preprocess_text(doc)\n",
    "num_k_words = len(doc_pre.split()) // 2\n",
    "print(\"Num keywords: \", num_k_words)\n",
    "keywords = kw_model.extract_keywords(doc_pre, top_n=num_k_words, use_mmr=True)\n",
    "keywords"
   ]
  },
  {
   "cell_type": "markdown",
   "metadata": {},
   "source": [
    "#### paraphrase-multilingual-MiniLM-L12-v2"
   ]
  },
  {
   "cell_type": "code",
   "execution_count": 31,
   "metadata": {},
   "outputs": [],
   "source": [
    "from keybert import KeyBERT\n",
    "\n",
    "kw_model_1 = KeyBERT(model=\"paraphrase-multilingual-MiniLM-L12-v2\")"
   ]
  },
  {
   "cell_type": "code",
   "execution_count": 33,
   "metadata": {},
   "outputs": [
    {
     "name": "stdout",
     "output_type": "stream",
     "text": [
      "Num keywords:  21\n"
     ]
    },
    {
     "data": {
      "text/plain": [
       "[('iphone', 0.6727),\n",
       " ('tốc_độ', 0.4057),\n",
       " ('camera', 0.3846),\n",
       " ('chip', 0.3737),\n",
       " ('tele', 0.354),\n",
       " ('cứng_cáp', 0.3424),\n",
       " ('a17', 0.3143),\n",
       " ('nút_tác', 0.2545),\n",
       " ('max', 0.252),\n",
       " ('titan', 0.2398),\n",
       " ('action_button', 0.2038),\n",
       " ('rung', 0.1958),\n",
       " ('truyền_tải', 0.1847),\n",
       " ('15', 0.1686),\n",
       " ('khối_lượng', 0.1408),\n",
       " ('48', 0.1237),\n",
       " ('usbc', 0.1213),\n",
       " ('pro', 0.1144),\n",
       " ('mp', 0.1133),\n",
       " ('tối_ưu', 0.0456),\n",
       " ('cổng', 0.0432)]"
      ]
     },
     "execution_count": 33,
     "metadata": {},
     "output_type": "execute_result"
    }
   ],
   "source": [
    "doc = \"\"\"\n",
    "      Đặc điểm nổi bật của iPhone 15 Pro Max\n",
    "      Tăng độ cứng cáp và tối ưu khối lượng với chất liệu Titan\n",
    "      Bứt phá mọi giới hạn về hiệu năng nhờ chip A17 Pro\n",
    "      Phiên bản duy nhất cải tiến camera tele 5x\n",
    "      Tích hợp camera 48 MP\n",
    "      Nút tác vụ (Action Button) thay thế cần gạt rung\n",
    "      Chuyển đổi cổng sạc USB-C, truyền tải dữ liệu tốc độ cao\n",
    "      \"\"\"\n",
    "doc_pre = preprocess_text(doc)\n",
    "num_k_words = len(doc_pre.split()) // 2\n",
    "print(\"Num keywords: \", num_k_words)\n",
    "keywords_1 = kw_model_1.extract_keywords(doc_pre, top_n=num_k_words, use_mmr=True)\n",
    "keywords_1"
   ]
  },
  {
   "cell_type": "markdown",
   "metadata": {},
   "source": [
    "#### Label all sentences"
   ]
  },
  {
   "cell_type": "code",
   "execution_count": 49,
   "metadata": {},
   "outputs": [],
   "source": [
    "label_words = []\n",
    "for dataDes in dataDescription:\n",
    "  try:\n",
    "    if len(dataDes.split()) >= 50 :\n",
    "      keywords = 25\n",
    "    elif 50 > len(dataDes.split()) > 25:\n",
    "      keywords = 20\n",
    "    else: keywords = 10\n",
    "    \n",
    "    a_k = kw_model_1.extract_keywords(dataDes, top_n=keywords, use_mmr=True)\n",
    "    a = []\n",
    "    for word in a_k:\n",
    "      a.append(word[0])\n",
    "    \n",
    "    label_words.append(a)\n",
    "  except Exception as e: \n",
    "    print(e)\n",
    "    break"
   ]
  },
  {
   "cell_type": "code",
   "execution_count": 86,
   "metadata": {},
   "outputs": [
    {
     "data": {
      "text/plain": [
       "'kích_thước màn_hình 114 inch oppo pad neo không_gian làm_việc giải_trí tuyệt_vời laptop trở_nên hữu_ích kết_hợp phụ_kiện bàn_phím biến máy_tính bảng thành_công_cụ làm_việc hiệu_quả'"
      ]
     },
     "execution_count": 86,
     "metadata": {},
     "output_type": "execute_result"
    }
   ],
   "source": [
    "import random\n",
    "t = random.choice(dataDescription)\n",
    "t"
   ]
  },
  {
   "cell_type": "code",
   "execution_count": 87,
   "metadata": {},
   "outputs": [
    {
     "data": {
      "text/plain": [
       "['laptop',\n",
       " 'máy_tính',\n",
       " 'thành_công_cụ',\n",
       " 'bàn_phím',\n",
       " 'kết_hợp',\n",
       " 'neo',\n",
       " 'inch',\n",
       " 'pad',\n",
       " 'không_gian',\n",
       " '114']"
      ]
     },
     "execution_count": 87,
     "metadata": {},
     "output_type": "execute_result"
    }
   ],
   "source": [
    "label_words[dataDescription.index(t)]"
   ]
  },
  {
   "cell_type": "markdown",
   "metadata": {},
   "source": [
    "### Save label words to reduce runtime"
   ]
  },
  {
   "cell_type": "code",
   "execution_count": 88,
   "metadata": {},
   "outputs": [],
   "source": [
    "import pickle\n",
    "with open(\"labelWords\", \"wb\") as fp:\n",
    "    pickle.dump(label_words, fp)"
   ]
  },
  {
   "cell_type": "code",
   "execution_count": 89,
   "metadata": {},
   "outputs": [],
   "source": [
    "import pickle\n",
    "with open(\"labelWords\", \"rb\") as fp:\n",
    "    label_words_loaded = pickle.load(fp)"
   ]
  },
  {
   "cell_type": "code",
   "execution_count": 90,
   "metadata": {},
   "outputs": [
    {
     "data": {
      "text/plain": [
       "'vivo y17s_tích hợp_cảm_biến vân cạnh thuận_tiện khóa máy nhanh_chóng dễ_dàng tính_năng bảo_mật smartphone giúp bảo_vệ dữ_liệu kẻ xâm_nhập trái_phép an_toàn mã_pin mẫu_hình thông_thường'"
      ]
     },
     "execution_count": 90,
     "metadata": {},
     "output_type": "execute_result"
    }
   ],
   "source": [
    "import random\n",
    "t = random.choice(dataDescription)\n",
    "t"
   ]
  },
  {
   "cell_type": "code",
   "execution_count": 91,
   "metadata": {},
   "outputs": [
    {
     "data": {
      "text/plain": [
       "['smartphone',\n",
       " 'nhanh_chóng',\n",
       " 'máy',\n",
       " 'xâm_nhập',\n",
       " 'khóa',\n",
       " 'y17s_tích',\n",
       " 'dễ_dàng',\n",
       " 'mẫu_hình',\n",
       " 'an_toàn',\n",
       " 'mã_pin']"
      ]
     },
     "execution_count": 91,
     "metadata": {},
     "output_type": "execute_result"
    }
   ],
   "source": [
    "label_words_loaded[dataDescription.index(t)]"
   ]
  },
  {
   "cell_type": "code",
   "execution_count": 92,
   "metadata": {},
   "outputs": [],
   "source": [
    "label_words = label_words_loaded"
   ]
  },
  {
   "cell_type": "markdown",
   "metadata": {},
   "source": [
    "# 3. Prepare training data"
   ]
  },
  {
   "cell_type": "code",
   "execution_count": 93,
   "metadata": {},
   "outputs": [],
   "source": [
    "import tensorflow as tf\n",
    "import numpy as np\n",
    "\n",
    "from tensorflow.keras.preprocessing.text import Tokenizer\n",
    "from tensorflow.keras.preprocessing.sequence import pad_sequences"
   ]
  },
  {
   "cell_type": "markdown",
   "metadata": {},
   "source": [
    "## Input"
   ]
  },
  {
   "cell_type": "code",
   "execution_count": 94,
   "metadata": {},
   "outputs": [],
   "source": [
    "#Dữ liệu huấn luyện đầu vào\n",
    "x_corpus = [ i.split() for i in dataDescription]"
   ]
  },
  {
   "cell_type": "code",
   "execution_count": 95,
   "metadata": {},
   "outputs": [
    {
     "name": "stdout",
     "output_type": "stream",
     "text": [
      "['màn_hình', 'độ', '70', 'cảm_giác', 'nội_dung', 'hơi', 'ám_xanh', 'nhẹ', 'màu', 'đen', 'tái_hiện', 'sâu', 'lắm']\n"
     ]
    }
   ],
   "source": [
    "import random\n",
    "t_1 = random.choice(x_corpus)\n",
    "print(t_1)"
   ]
  },
  {
   "cell_type": "markdown",
   "metadata": {},
   "source": [
    "## Output "
   ]
  },
  {
   "cell_type": "code",
   "execution_count": 96,
   "metadata": {},
   "outputs": [],
   "source": [
    "#Output dữ liện huấn luyện\n",
    "y_label = []\n",
    "for i in range(len(dataDescription)):\n",
    "  label = [1 if j in label_words[i] else 0 for j in dataDescription[i].split()]\n",
    "  y_label.append(label)"
   ]
  },
  {
   "cell_type": "code",
   "execution_count": 97,
   "metadata": {},
   "outputs": [
    {
     "data": {
      "text/plain": [
       "array([0, 1, 1, 0, 1, 1, 1, 1, 1, 1, 1, 1, 0])"
      ]
     },
     "execution_count": 97,
     "metadata": {},
     "output_type": "execute_result"
    }
   ],
   "source": [
    "import numpy as np\n",
    "np.array(y_label[x_corpus.index(t_1)])"
   ]
  },
  {
   "cell_type": "markdown",
   "metadata": {},
   "source": [
    "## Validate dataset"
   ]
  },
  {
   "cell_type": "code",
   "execution_count": 98,
   "metadata": {},
   "outputs": [
    {
     "name": "stdout",
     "output_type": "stream",
     "text": [
      "0 câu có độ dài in-out khác nhau.\n"
     ]
    }
   ],
   "source": [
    "different_length = [1 if len(input) != len(output) else 0 for input, output in zip(x_corpus, y_label)]\n",
    "print(\"{} câu có độ dài in-out khác nhau.\".format(sum(different_length)))"
   ]
  },
  {
   "cell_type": "code",
   "execution_count": 99,
   "metadata": {},
   "outputs": [
    {
     "name": "stdout",
     "output_type": "stream",
     "text": [
      "Length of longest sentence: 57\n"
     ]
    }
   ],
   "source": [
    "lengths = [len(seq) for seq in x_corpus]\n",
    "print(\"Length of longest sentence: {}\".format(max(lengths)))"
   ]
  },
  {
   "cell_type": "markdown",
   "metadata": {},
   "source": [
    "## Mã hóa từ bằng Tokenizer"
   ]
  },
  {
   "cell_type": "code",
   "execution_count": 101,
   "metadata": {},
   "outputs": [],
   "source": [
    "# Parameters\n",
    "vocab_size = 20000\n",
    "max_length = 128\n",
    "trunc_type='post'\n",
    "oov_tok = \"<OOV>\""
   ]
  },
  {
   "cell_type": "code",
   "execution_count": 102,
   "metadata": {},
   "outputs": [],
   "source": [
    "tokenizer = Tokenizer(num_words = vocab_size, oov_token=oov_tok)\n",
    "tokenizer.fit_on_texts(x_corpus)"
   ]
  },
  {
   "cell_type": "markdown",
   "metadata": {},
   "source": [
    "## Save tokenizer"
   ]
  },
  {
   "cell_type": "code",
   "execution_count": 103,
   "metadata": {},
   "outputs": [],
   "source": [
    "import pickle\n",
    "\n",
    "#Save tokenizer để dễ load lại nhanh\n",
    "with open('tokenizer.pickle', 'wb') as handle:\n",
    "    pickle.dump(tokenizer, handle, protocol=pickle.HIGHEST_PROTOCOL)"
   ]
  },
  {
   "cell_type": "markdown",
   "metadata": {},
   "source": [
    "## Load tokenizer to reduce runtime"
   ]
  },
  {
   "cell_type": "code",
   "execution_count": 104,
   "metadata": {},
   "outputs": [],
   "source": [
    "with open('tokenizer.pickle', 'rb') as handle:\n",
    "    tokenizer_load = pickle.load(handle)"
   ]
  },
  {
   "cell_type": "code",
   "execution_count": 105,
   "metadata": {},
   "outputs": [],
   "source": [
    "tokenizer = tokenizer_load"
   ]
  },
  {
   "cell_type": "markdown",
   "metadata": {},
   "source": [
    "## Tokenize data"
   ]
  },
  {
   "cell_type": "code",
   "execution_count": 106,
   "metadata": {},
   "outputs": [],
   "source": [
    "sequences = tokenizer.texts_to_sequences(x_corpus)\n",
    "\n",
    "X_padded = pad_sequences(sequences,maxlen=max_length, truncating=trunc_type)\n",
    "Y_padded= pad_sequences(y_label, maxlen=max_length, dtype='int32', padding='pre', value=2.0)"
   ]
  },
  {
   "cell_type": "markdown",
   "metadata": {},
   "source": [
    "## Chuyển hóa Y_padded thành catergory"
   ]
  },
  {
   "cell_type": "code",
   "execution_count": 107,
   "metadata": {},
   "outputs": [],
   "source": [
    "Y = tf.keras.utils.to_categorical(Y_padded,num_classes=3)"
   ]
  },
  {
   "cell_type": "markdown",
   "metadata": {},
   "source": [
    "## Final Dataset"
   ]
  },
  {
   "cell_type": "code",
   "execution_count": 108,
   "metadata": {},
   "outputs": [
    {
     "name": "stdout",
     "output_type": "stream",
     "text": [
      "[   0    0    0    0    0    0    0    0    0    0    0    0    0    0\n",
      "    0    0    0    0    0    0    0    0    0    0    0    0    0    0\n",
      "    0    0    0    0    0    0    0    0    0    0    0    0    0    0\n",
      "    0    0    0    0    0    0    0    0    0    0    0    0    0    0\n",
      "    0    0    0    0    0    0    0    0    0    0    0    0    0    0\n",
      "    0    0    0    0    0    0    0    0    0    0    0    0    0    0\n",
      "    0    0    0    0    0    0    0    0    0    0    0    0    0    0\n",
      "    0    0    0   82  490   60 1067  220   56  939 2399 1782  225  212\n",
      "  419  225 3769 3770   62  291    3   69  277   10  277  113  960 1048\n",
      "   57 3771]\n"
     ]
    }
   ],
   "source": [
    "import random\n",
    "t_2 = random.choice(X_padded)\n",
    "print(t_2)"
   ]
  },
  {
   "cell_type": "code",
   "execution_count": 109,
   "metadata": {},
   "outputs": [
    {
     "data": {
      "text/plain": [
       "3191"
      ]
     },
     "execution_count": 109,
     "metadata": {},
     "output_type": "execute_result"
    }
   ],
   "source": [
    "np.where(X_padded == t_2)[0][-1]"
   ]
  },
  {
   "cell_type": "code",
   "execution_count": 110,
   "metadata": {},
   "outputs": [
    {
     "data": {
      "text/plain": [
       "array([2, 2, 2, 2, 2, 2, 2, 2, 2, 2, 2, 2, 2, 2, 2, 2, 2, 2, 2, 2, 2, 2,\n",
       "       2, 2, 2, 2, 2, 2, 2, 2, 2, 2, 2, 2, 2, 2, 2, 2, 2, 2, 2, 2, 2, 2,\n",
       "       2, 2, 2, 2, 2, 2, 2, 2, 2, 2, 2, 2, 2, 2, 2, 2, 2, 2, 2, 2, 2, 2,\n",
       "       2, 2, 2, 2, 2, 2, 2, 2, 2, 2, 2, 2, 2, 2, 2, 2, 2, 2, 2, 2, 2, 2,\n",
       "       2, 2, 2, 2, 2, 2, 2, 2, 2, 2, 2, 2, 2, 2, 1, 1, 1, 1, 0, 1, 1, 1,\n",
       "       1, 1, 0, 0, 1, 1, 1, 1, 1, 1, 0, 1, 0, 1, 1, 1, 1, 0])"
      ]
     },
     "execution_count": 110,
     "metadata": {},
     "output_type": "execute_result"
    }
   ],
   "source": [
    "Y_padded[np.where(X_padded == t_2)[0][-1]]"
   ]
  },
  {
   "cell_type": "code",
   "execution_count": 111,
   "metadata": {},
   "outputs": [
    {
     "data": {
      "text/plain": [
       "array([[0., 0., 1.],\n",
       "       [0., 0., 1.],\n",
       "       [0., 0., 1.],\n",
       "       [0., 0., 1.],\n",
       "       [0., 0., 1.],\n",
       "       [0., 0., 1.],\n",
       "       [0., 0., 1.],\n",
       "       [0., 0., 1.],\n",
       "       [0., 0., 1.],\n",
       "       [0., 0., 1.],\n",
       "       [0., 0., 1.],\n",
       "       [0., 0., 1.],\n",
       "       [0., 0., 1.],\n",
       "       [0., 0., 1.],\n",
       "       [0., 0., 1.],\n",
       "       [0., 0., 1.],\n",
       "       [0., 0., 1.],\n",
       "       [0., 0., 1.],\n",
       "       [0., 0., 1.],\n",
       "       [0., 0., 1.],\n",
       "       [0., 0., 1.],\n",
       "       [0., 0., 1.],\n",
       "       [0., 0., 1.],\n",
       "       [0., 0., 1.],\n",
       "       [0., 0., 1.],\n",
       "       [0., 0., 1.],\n",
       "       [0., 0., 1.],\n",
       "       [0., 0., 1.],\n",
       "       [0., 0., 1.],\n",
       "       [0., 0., 1.],\n",
       "       [0., 0., 1.],\n",
       "       [0., 0., 1.],\n",
       "       [0., 0., 1.],\n",
       "       [0., 0., 1.],\n",
       "       [0., 0., 1.],\n",
       "       [0., 0., 1.],\n",
       "       [0., 0., 1.],\n",
       "       [0., 0., 1.],\n",
       "       [0., 0., 1.],\n",
       "       [0., 0., 1.],\n",
       "       [0., 0., 1.],\n",
       "       [0., 0., 1.],\n",
       "       [0., 0., 1.],\n",
       "       [0., 0., 1.],\n",
       "       [0., 0., 1.],\n",
       "       [0., 0., 1.],\n",
       "       [0., 0., 1.],\n",
       "       [0., 0., 1.],\n",
       "       [0., 0., 1.],\n",
       "       [0., 0., 1.],\n",
       "       [0., 0., 1.],\n",
       "       [0., 0., 1.],\n",
       "       [0., 0., 1.],\n",
       "       [0., 0., 1.],\n",
       "       [0., 0., 1.],\n",
       "       [0., 0., 1.],\n",
       "       [0., 0., 1.],\n",
       "       [0., 0., 1.],\n",
       "       [0., 0., 1.],\n",
       "       [0., 0., 1.],\n",
       "       [0., 0., 1.],\n",
       "       [0., 0., 1.],\n",
       "       [0., 0., 1.],\n",
       "       [0., 0., 1.],\n",
       "       [0., 0., 1.],\n",
       "       [0., 0., 1.],\n",
       "       [0., 0., 1.],\n",
       "       [0., 0., 1.],\n",
       "       [0., 0., 1.],\n",
       "       [0., 0., 1.],\n",
       "       [0., 0., 1.],\n",
       "       [0., 0., 1.],\n",
       "       [0., 0., 1.],\n",
       "       [0., 0., 1.],\n",
       "       [0., 0., 1.],\n",
       "       [0., 0., 1.],\n",
       "       [0., 0., 1.],\n",
       "       [0., 0., 1.],\n",
       "       [0., 0., 1.],\n",
       "       [0., 0., 1.],\n",
       "       [0., 0., 1.],\n",
       "       [0., 0., 1.],\n",
       "       [0., 0., 1.],\n",
       "       [0., 0., 1.],\n",
       "       [0., 0., 1.],\n",
       "       [0., 0., 1.],\n",
       "       [0., 0., 1.],\n",
       "       [0., 0., 1.],\n",
       "       [0., 0., 1.],\n",
       "       [0., 0., 1.],\n",
       "       [0., 0., 1.],\n",
       "       [0., 0., 1.],\n",
       "       [0., 0., 1.],\n",
       "       [0., 0., 1.],\n",
       "       [0., 0., 1.],\n",
       "       [0., 0., 1.],\n",
       "       [0., 0., 1.],\n",
       "       [0., 0., 1.],\n",
       "       [0., 0., 1.],\n",
       "       [0., 0., 1.],\n",
       "       [0., 0., 1.],\n",
       "       [0., 0., 1.],\n",
       "       [0., 1., 0.],\n",
       "       [0., 1., 0.],\n",
       "       [0., 1., 0.],\n",
       "       [0., 1., 0.],\n",
       "       [1., 0., 0.],\n",
       "       [0., 1., 0.],\n",
       "       [0., 1., 0.],\n",
       "       [0., 1., 0.],\n",
       "       [0., 1., 0.],\n",
       "       [0., 1., 0.],\n",
       "       [1., 0., 0.],\n",
       "       [1., 0., 0.],\n",
       "       [0., 1., 0.],\n",
       "       [0., 1., 0.],\n",
       "       [0., 1., 0.],\n",
       "       [0., 1., 0.],\n",
       "       [0., 1., 0.],\n",
       "       [0., 1., 0.],\n",
       "       [1., 0., 0.],\n",
       "       [0., 1., 0.],\n",
       "       [1., 0., 0.],\n",
       "       [0., 1., 0.],\n",
       "       [0., 1., 0.],\n",
       "       [0., 1., 0.],\n",
       "       [0., 1., 0.],\n",
       "       [1., 0., 0.]], dtype=float32)"
      ]
     },
     "execution_count": 111,
     "metadata": {},
     "output_type": "execute_result"
    }
   ],
   "source": [
    "Y[np.where(X_padded == t_2)[0][-1]]"
   ]
  },
  {
   "cell_type": "markdown",
   "metadata": {},
   "source": [
    "## Chia tập huấn luyện kiểm thử"
   ]
  },
  {
   "cell_type": "code",
   "execution_count": 112,
   "metadata": {},
   "outputs": [],
   "source": [
    "from sklearn.model_selection import train_test_split\n",
    "\n",
    "TEST_SIZE = 0.15\n",
    "X_train, X_test, Y_train, Y_test = train_test_split(X_padded, Y, test_size=TEST_SIZE, random_state=42)"
   ]
  },
  {
   "cell_type": "code",
   "execution_count": 113,
   "metadata": {},
   "outputs": [],
   "source": [
    "VALID_SIZE = 0.3\n",
    "X_train, X_validation, Y_train, Y_validation = train_test_split(X_train, Y_train, test_size=VALID_SIZE, random_state=42)"
   ]
  },
  {
   "cell_type": "code",
   "execution_count": 48,
   "metadata": {},
   "outputs": [
    {
     "name": "stdout",
     "output_type": "stream",
     "text": [
      "TRAINING DATA\n",
      "Shape of input sequences: (1899, 100)\n",
      "Shape of output sequences: (1899, 100, 3)\n",
      "--------------------------------------------------\n",
      "VALIDATION DATA\n",
      "Shape of input sequences: (814, 100)\n",
      "Shape of output sequences: (814, 100, 3)\n",
      "--------------------------------------------------\n",
      "TESTING DATA\n",
      "Shape of input sequences: (479, 100)\n",
      "Shape of output sequences: (479, 100, 3)\n"
     ]
    }
   ],
   "source": [
    "print(\"TRAINING DATA\")\n",
    "print('Shape of input sequences: {}'.format(X_train.shape))\n",
    "print('Shape of output sequences: {}'.format(Y_train.shape))\n",
    "print(\"-\"*50)\n",
    "print(\"VALIDATION DATA\")\n",
    "print('Shape of input sequences: {}'.format(X_validation.shape))\n",
    "print('Shape of output sequences: {}'.format(Y_validation.shape))\n",
    "print(\"-\"*50)\n",
    "print(\"TESTING DATA\")\n",
    "print('Shape of input sequences: {}'.format(X_test.shape))\n",
    "print('Shape of output sequences: {}'.format(Y_test.shape))"
   ]
  },
  {
   "cell_type": "markdown",
   "metadata": {},
   "source": [
    "# 4. Build model"
   ]
  },
  {
   "cell_type": "markdown",
   "metadata": {},
   "source": [
    "## RNN model"
   ]
  },
  {
   "cell_type": "code",
   "execution_count": 36,
   "metadata": {},
   "outputs": [],
   "source": [
    "NUM_CLASSES = Y.shape[2]\n",
    "VOCABULARY_SIZE = len(tokenizer.word_index) + 1\n",
    "EMBEDDING_SIZE  = 150"
   ]
  },
  {
   "cell_type": "markdown",
   "metadata": {},
   "source": [
    "### Compile model"
   ]
  },
  {
   "cell_type": "code",
   "execution_count": 62,
   "metadata": {},
   "outputs": [],
   "source": [
    "rnn_model = tf.keras.Sequential()\n",
    "\n",
    "rnn_model.add(tf.keras.Input(shape=(max_length,)))\n",
    "\n",
    "rnn_model.add(tf.keras.layers.Embedding(input_dim=VOCABULARY_SIZE, output_dim=EMBEDDING_SIZE, trainable=False                    \n",
    "))\n",
    "\n",
    "rnn_model.add(tf.keras.layers.SimpleRNN(128, \n",
    "              return_sequences=True  \n",
    "))\n",
    "rnn_model.add(tf.keras.layers.SimpleRNN(64, \n",
    "              return_sequences=True  \n",
    "))\n",
    "\n",
    "rnn_model.add(tf.keras.layers.TimeDistributed(tf.keras.layers.Dense(NUM_CLASSES, activation='softmax')))"
   ]
  },
  {
   "cell_type": "code",
   "execution_count": 63,
   "metadata": {},
   "outputs": [],
   "source": [
    "rnn_model.compile(loss      =  'categorical_crossentropy',\n",
    "                  optimizer =  'adam',\n",
    "                  metrics   =  ['acc'])"
   ]
  },
  {
   "cell_type": "code",
   "execution_count": 64,
   "metadata": {},
   "outputs": [
    {
     "data": {
      "text/html": [
       "<pre style=\"white-space:pre;overflow-x:auto;line-height:normal;font-family:Menlo,'DejaVu Sans Mono',consolas,'Courier New',monospace\"><span style=\"font-weight: bold\">Model: \"sequential_1\"</span>\n",
       "</pre>\n"
      ],
      "text/plain": [
       "\u001b[1mModel: \"sequential_1\"\u001b[0m\n"
      ]
     },
     "metadata": {},
     "output_type": "display_data"
    },
    {
     "data": {
      "text/html": [
       "<pre style=\"white-space:pre;overflow-x:auto;line-height:normal;font-family:Menlo,'DejaVu Sans Mono',consolas,'Courier New',monospace\">┏━━━━━━━━━━━━━━━━━━━━━━━━━━━━━━━━━┳━━━━━━━━━━━━━━━━━━━━━━━━┳━━━━━━━━━━━━━━━┓\n",
       "┃<span style=\"font-weight: bold\"> Layer (type)                    </span>┃<span style=\"font-weight: bold\"> Output Shape           </span>┃<span style=\"font-weight: bold\">       Param # </span>┃\n",
       "┡━━━━━━━━━━━━━━━━━━━━━━━━━━━━━━━━━╇━━━━━━━━━━━━━━━━━━━━━━━━╇━━━━━━━━━━━━━━━┩\n",
       "│ embedding_1 (<span style=\"color: #0087ff; text-decoration-color: #0087ff\">Embedding</span>)         │ (<span style=\"color: #00d7ff; text-decoration-color: #00d7ff\">None</span>, <span style=\"color: #00af00; text-decoration-color: #00af00\">100</span>, <span style=\"color: #00af00; text-decoration-color: #00af00\">150</span>)       │       <span style=\"color: #00af00; text-decoration-color: #00af00\">603,450</span> │\n",
       "├─────────────────────────────────┼────────────────────────┼───────────────┤\n",
       "│ simple_rnn_2 (<span style=\"color: #0087ff; text-decoration-color: #0087ff\">SimpleRNN</span>)        │ (<span style=\"color: #00d7ff; text-decoration-color: #00d7ff\">None</span>, <span style=\"color: #00af00; text-decoration-color: #00af00\">100</span>, <span style=\"color: #00af00; text-decoration-color: #00af00\">128</span>)       │        <span style=\"color: #00af00; text-decoration-color: #00af00\">35,712</span> │\n",
       "├─────────────────────────────────┼────────────────────────┼───────────────┤\n",
       "│ simple_rnn_3 (<span style=\"color: #0087ff; text-decoration-color: #0087ff\">SimpleRNN</span>)        │ (<span style=\"color: #00d7ff; text-decoration-color: #00d7ff\">None</span>, <span style=\"color: #00af00; text-decoration-color: #00af00\">100</span>, <span style=\"color: #00af00; text-decoration-color: #00af00\">64</span>)        │        <span style=\"color: #00af00; text-decoration-color: #00af00\">12,352</span> │\n",
       "├─────────────────────────────────┼────────────────────────┼───────────────┤\n",
       "│ time_distributed_1              │ (<span style=\"color: #00d7ff; text-decoration-color: #00d7ff\">None</span>, <span style=\"color: #00af00; text-decoration-color: #00af00\">100</span>, <span style=\"color: #00af00; text-decoration-color: #00af00\">3</span>)         │           <span style=\"color: #00af00; text-decoration-color: #00af00\">195</span> │\n",
       "│ (<span style=\"color: #0087ff; text-decoration-color: #0087ff\">TimeDistributed</span>)               │                        │               │\n",
       "└─────────────────────────────────┴────────────────────────┴───────────────┘\n",
       "</pre>\n"
      ],
      "text/plain": [
       "┏━━━━━━━━━━━━━━━━━━━━━━━━━━━━━━━━━┳━━━━━━━━━━━━━━━━━━━━━━━━┳━━━━━━━━━━━━━━━┓\n",
       "┃\u001b[1m \u001b[0m\u001b[1mLayer (type)                   \u001b[0m\u001b[1m \u001b[0m┃\u001b[1m \u001b[0m\u001b[1mOutput Shape          \u001b[0m\u001b[1m \u001b[0m┃\u001b[1m \u001b[0m\u001b[1m      Param #\u001b[0m\u001b[1m \u001b[0m┃\n",
       "┡━━━━━━━━━━━━━━━━━━━━━━━━━━━━━━━━━╇━━━━━━━━━━━━━━━━━━━━━━━━╇━━━━━━━━━━━━━━━┩\n",
       "│ embedding_1 (\u001b[38;5;33mEmbedding\u001b[0m)         │ (\u001b[38;5;45mNone\u001b[0m, \u001b[38;5;34m100\u001b[0m, \u001b[38;5;34m150\u001b[0m)       │       \u001b[38;5;34m603,450\u001b[0m │\n",
       "├─────────────────────────────────┼────────────────────────┼───────────────┤\n",
       "│ simple_rnn_2 (\u001b[38;5;33mSimpleRNN\u001b[0m)        │ (\u001b[38;5;45mNone\u001b[0m, \u001b[38;5;34m100\u001b[0m, \u001b[38;5;34m128\u001b[0m)       │        \u001b[38;5;34m35,712\u001b[0m │\n",
       "├─────────────────────────────────┼────────────────────────┼───────────────┤\n",
       "│ simple_rnn_3 (\u001b[38;5;33mSimpleRNN\u001b[0m)        │ (\u001b[38;5;45mNone\u001b[0m, \u001b[38;5;34m100\u001b[0m, \u001b[38;5;34m64\u001b[0m)        │        \u001b[38;5;34m12,352\u001b[0m │\n",
       "├─────────────────────────────────┼────────────────────────┼───────────────┤\n",
       "│ time_distributed_1              │ (\u001b[38;5;45mNone\u001b[0m, \u001b[38;5;34m100\u001b[0m, \u001b[38;5;34m3\u001b[0m)         │           \u001b[38;5;34m195\u001b[0m │\n",
       "│ (\u001b[38;5;33mTimeDistributed\u001b[0m)               │                        │               │\n",
       "└─────────────────────────────────┴────────────────────────┴───────────────┘\n"
      ]
     },
     "metadata": {},
     "output_type": "display_data"
    },
    {
     "data": {
      "text/html": [
       "<pre style=\"white-space:pre;overflow-x:auto;line-height:normal;font-family:Menlo,'DejaVu Sans Mono',consolas,'Courier New',monospace\"><span style=\"font-weight: bold\"> Total params: </span><span style=\"color: #00af00; text-decoration-color: #00af00\">651,709</span> (2.49 MB)\n",
       "</pre>\n"
      ],
      "text/plain": [
       "\u001b[1m Total params: \u001b[0m\u001b[38;5;34m651,709\u001b[0m (2.49 MB)\n"
      ]
     },
     "metadata": {},
     "output_type": "display_data"
    },
    {
     "data": {
      "text/html": [
       "<pre style=\"white-space:pre;overflow-x:auto;line-height:normal;font-family:Menlo,'DejaVu Sans Mono',consolas,'Courier New',monospace\"><span style=\"font-weight: bold\"> Trainable params: </span><span style=\"color: #00af00; text-decoration-color: #00af00\">651,709</span> (2.49 MB)\n",
       "</pre>\n"
      ],
      "text/plain": [
       "\u001b[1m Trainable params: \u001b[0m\u001b[38;5;34m651,709\u001b[0m (2.49 MB)\n"
      ]
     },
     "metadata": {},
     "output_type": "display_data"
    },
    {
     "data": {
      "text/html": [
       "<pre style=\"white-space:pre;overflow-x:auto;line-height:normal;font-family:Menlo,'DejaVu Sans Mono',consolas,'Courier New',monospace\"><span style=\"font-weight: bold\"> Non-trainable params: </span><span style=\"color: #00af00; text-decoration-color: #00af00\">0</span> (0.00 B)\n",
       "</pre>\n"
      ],
      "text/plain": [
       "\u001b[1m Non-trainable params: \u001b[0m\u001b[38;5;34m0\u001b[0m (0.00 B)\n"
      ]
     },
     "metadata": {},
     "output_type": "display_data"
    }
   ],
   "source": [
    "rnn_model.summary()"
   ]
  },
  {
   "cell_type": "markdown",
   "metadata": {},
   "source": [
    "### Train model"
   ]
  },
  {
   "cell_type": "code",
   "execution_count": 65,
   "metadata": {},
   "outputs": [
    {
     "name": "stdout",
     "output_type": "stream",
     "text": [
      "Epoch 1/50\n",
      "\u001b[1m30/30\u001b[0m \u001b[32m━━━━━━━━━━━━━━━━━━━━\u001b[0m\u001b[37m\u001b[0m \u001b[1m12s\u001b[0m 145ms/step - acc: 0.8403 - loss: 0.4129 - val_acc: 0.9273 - val_loss: 0.1339\n",
      "Epoch 2/50\n",
      "\u001b[1m30/30\u001b[0m \u001b[32m━━━━━━━━━━━━━━━━━━━━\u001b[0m\u001b[37m\u001b[0m \u001b[1m3s\u001b[0m 99ms/step - acc: 0.9334 - loss: 0.1273 - val_acc: 0.9424 - val_loss: 0.1167\n",
      "Epoch 3/50\n",
      "\u001b[1m30/30\u001b[0m \u001b[32m━━━━━━━━━━━━━━━━━━━━\u001b[0m\u001b[37m\u001b[0m \u001b[1m3s\u001b[0m 106ms/step - acc: 0.9501 - loss: 0.1080 - val_acc: 0.9470 - val_loss: 0.1074\n",
      "Epoch 4/50\n",
      "\u001b[1m30/30\u001b[0m \u001b[32m━━━━━━━━━━━━━━━━━━━━\u001b[0m\u001b[37m\u001b[0m \u001b[1m3s\u001b[0m 100ms/step - acc: 0.9610 - loss: 0.0904 - val_acc: 0.9483 - val_loss: 0.1049\n",
      "Epoch 5/50\n",
      "\u001b[1m30/30\u001b[0m \u001b[32m━━━━━━━━━━━━━━━━━━━━\u001b[0m\u001b[37m\u001b[0m \u001b[1m3s\u001b[0m 101ms/step - acc: 0.9680 - loss: 0.0773 - val_acc: 0.9460 - val_loss: 0.1119\n",
      "Epoch 6/50\n",
      "\u001b[1m30/30\u001b[0m \u001b[32m━━━━━━━━━━━━━━━━━━━━\u001b[0m\u001b[37m\u001b[0m \u001b[1m3s\u001b[0m 100ms/step - acc: 0.9750 - loss: 0.0635 - val_acc: 0.9480 - val_loss: 0.1186\n",
      "Epoch 7/50\n",
      "\u001b[1m30/30\u001b[0m \u001b[32m━━━━━━━━━━━━━━━━━━━━\u001b[0m\u001b[37m\u001b[0m \u001b[1m3s\u001b[0m 104ms/step - acc: 0.9789 - loss: 0.0553 - val_acc: 0.9462 - val_loss: 0.1301\n",
      "Epoch 8/50\n",
      "\u001b[1m30/30\u001b[0m \u001b[32m━━━━━━━━━━━━━━━━━━━━\u001b[0m\u001b[37m\u001b[0m \u001b[1m3s\u001b[0m 102ms/step - acc: 0.9837 - loss: 0.0437 - val_acc: 0.9458 - val_loss: 0.1439\n",
      "Epoch 9/50\n",
      "\u001b[1m30/30\u001b[0m \u001b[32m━━━━━━━━━━━━━━━━━━━━\u001b[0m\u001b[37m\u001b[0m \u001b[1m3s\u001b[0m 106ms/step - acc: 0.9860 - loss: 0.0373 - val_acc: 0.9442 - val_loss: 0.1656\n",
      "Epoch 10/50\n",
      "\u001b[1m30/30\u001b[0m \u001b[32m━━━━━━━━━━━━━━━━━━━━\u001b[0m\u001b[37m\u001b[0m \u001b[1m3s\u001b[0m 105ms/step - acc: 0.9878 - loss: 0.0327 - val_acc: 0.9438 - val_loss: 0.1857\n",
      "Epoch 11/50\n",
      "\u001b[1m30/30\u001b[0m \u001b[32m━━━━━━━━━━━━━━━━━━━━\u001b[0m\u001b[37m\u001b[0m \u001b[1m4s\u001b[0m 129ms/step - acc: 0.9883 - loss: 0.0306 - val_acc: 0.9445 - val_loss: 0.2002\n",
      "Epoch 12/50\n",
      "\u001b[1m30/30\u001b[0m \u001b[32m━━━━━━━━━━━━━━━━━━━━\u001b[0m\u001b[37m\u001b[0m \u001b[1m4s\u001b[0m 130ms/step - acc: 0.9893 - loss: 0.0280 - val_acc: 0.9451 - val_loss: 0.2045\n",
      "Epoch 13/50\n",
      "\u001b[1m30/30\u001b[0m \u001b[32m━━━━━━━━━━━━━━━━━━━━\u001b[0m\u001b[37m\u001b[0m \u001b[1m5s\u001b[0m 125ms/step - acc: 0.9894 - loss: 0.0267 - val_acc: 0.9426 - val_loss: 0.2250\n",
      "Epoch 14/50\n",
      "\u001b[1m30/30\u001b[0m \u001b[32m━━━━━━━━━━━━━━━━━━━━\u001b[0m\u001b[37m\u001b[0m \u001b[1m4s\u001b[0m 129ms/step - acc: 0.9899 - loss: 0.0250 - val_acc: 0.9438 - val_loss: 0.2308\n",
      "Epoch 15/50\n",
      "\u001b[1m30/30\u001b[0m \u001b[32m━━━━━━━━━━━━━━━━━━━━\u001b[0m\u001b[37m\u001b[0m \u001b[1m3s\u001b[0m 115ms/step - acc: 0.9911 - loss: 0.0230 - val_acc: 0.9398 - val_loss: 0.2494\n",
      "Epoch 16/50\n",
      "\u001b[1m30/30\u001b[0m \u001b[32m━━━━━━━━━━━━━━━━━━━━\u001b[0m\u001b[37m\u001b[0m \u001b[1m3s\u001b[0m 116ms/step - acc: 0.9911 - loss: 0.0222 - val_acc: 0.9427 - val_loss: 0.2564\n",
      "Epoch 17/50\n",
      "\u001b[1m30/30\u001b[0m \u001b[32m━━━━━━━━━━━━━━━━━━━━\u001b[0m\u001b[37m\u001b[0m \u001b[1m4s\u001b[0m 126ms/step - acc: 0.9915 - loss: 0.0210 - val_acc: 0.9409 - val_loss: 0.2681\n",
      "Epoch 18/50\n",
      "\u001b[1m30/30\u001b[0m \u001b[32m━━━━━━━━━━━━━━━━━━━━\u001b[0m\u001b[37m\u001b[0m \u001b[1m4s\u001b[0m 121ms/step - acc: 0.9922 - loss: 0.0197 - val_acc: 0.9433 - val_loss: 0.2716\n",
      "Epoch 19/50\n",
      "\u001b[1m30/30\u001b[0m \u001b[32m━━━━━━━━━━━━━━━━━━━━\u001b[0m\u001b[37m\u001b[0m \u001b[1m4s\u001b[0m 120ms/step - acc: 0.9921 - loss: 0.0191 - val_acc: 0.9429 - val_loss: 0.2832\n",
      "Epoch 20/50\n",
      "\u001b[1m30/30\u001b[0m \u001b[32m━━━━━━━━━━━━━━━━━━━━\u001b[0m\u001b[37m\u001b[0m \u001b[1m4s\u001b[0m 117ms/step - acc: 0.9931 - loss: 0.0176 - val_acc: 0.9406 - val_loss: 0.2896\n",
      "Epoch 21/50\n",
      "\u001b[1m30/30\u001b[0m \u001b[32m━━━━━━━━━━━━━━━━━━━━\u001b[0m\u001b[37m\u001b[0m \u001b[1m4s\u001b[0m 120ms/step - acc: 0.9922 - loss: 0.0184 - val_acc: 0.9430 - val_loss: 0.2956\n",
      "Epoch 22/50\n",
      "\u001b[1m30/30\u001b[0m \u001b[32m━━━━━━━━━━━━━━━━━━━━\u001b[0m\u001b[37m\u001b[0m \u001b[1m4s\u001b[0m 121ms/step - acc: 0.9924 - loss: 0.0179 - val_acc: 0.9403 - val_loss: 0.3149\n",
      "Epoch 23/50\n",
      "\u001b[1m30/30\u001b[0m \u001b[32m━━━━━━━━━━━━━━━━━━━━\u001b[0m\u001b[37m\u001b[0m \u001b[1m4s\u001b[0m 119ms/step - acc: 0.9929 - loss: 0.0171 - val_acc: 0.9411 - val_loss: 0.3122\n",
      "Epoch 24/50\n",
      "\u001b[1m30/30\u001b[0m \u001b[32m━━━━━━━━━━━━━━━━━━━━\u001b[0m\u001b[37m\u001b[0m \u001b[1m4s\u001b[0m 123ms/step - acc: 0.9925 - loss: 0.0177 - val_acc: 0.9402 - val_loss: 0.3273\n",
      "Epoch 25/50\n",
      "\u001b[1m30/30\u001b[0m \u001b[32m━━━━━━━━━━━━━━━━━━━━\u001b[0m\u001b[37m\u001b[0m \u001b[1m4s\u001b[0m 135ms/step - acc: 0.9931 - loss: 0.0167 - val_acc: 0.9394 - val_loss: 0.3346\n",
      "Epoch 26/50\n",
      "\u001b[1m30/30\u001b[0m \u001b[32m━━━━━━━━━━━━━━━━━━━━\u001b[0m\u001b[37m\u001b[0m \u001b[1m4s\u001b[0m 118ms/step - acc: 0.9930 - loss: 0.0163 - val_acc: 0.9398 - val_loss: 0.3386\n",
      "Epoch 27/50\n",
      "\u001b[1m30/30\u001b[0m \u001b[32m━━━━━━━━━━━━━━━━━━━━\u001b[0m\u001b[37m\u001b[0m \u001b[1m4s\u001b[0m 116ms/step - acc: 0.9930 - loss: 0.0163 - val_acc: 0.9409 - val_loss: 0.3516\n",
      "Epoch 28/50\n",
      "\u001b[1m30/30\u001b[0m \u001b[32m━━━━━━━━━━━━━━━━━━━━\u001b[0m\u001b[37m\u001b[0m \u001b[1m4s\u001b[0m 116ms/step - acc: 0.9934 - loss: 0.0156 - val_acc: 0.9392 - val_loss: 0.3541\n",
      "Epoch 29/50\n",
      "\u001b[1m30/30\u001b[0m \u001b[32m━━━━━━━━━━━━━━━━━━━━\u001b[0m\u001b[37m\u001b[0m \u001b[1m4s\u001b[0m 118ms/step - acc: 0.9928 - loss: 0.0172 - val_acc: 0.9399 - val_loss: 0.3494\n",
      "Epoch 30/50\n",
      "\u001b[1m30/30\u001b[0m \u001b[32m━━━━━━━━━━━━━━━━━━━━\u001b[0m\u001b[37m\u001b[0m \u001b[1m4s\u001b[0m 119ms/step - acc: 0.9920 - loss: 0.0181 - val_acc: 0.9408 - val_loss: 0.3409\n",
      "Epoch 31/50\n",
      "\u001b[1m30/30\u001b[0m \u001b[32m━━━━━━━━━━━━━━━━━━━━\u001b[0m\u001b[37m\u001b[0m \u001b[1m4s\u001b[0m 116ms/step - acc: 0.9920 - loss: 0.0195 - val_acc: 0.9437 - val_loss: 0.3337\n",
      "Epoch 32/50\n",
      "\u001b[1m30/30\u001b[0m \u001b[32m━━━━━━━━━━━━━━━━━━━━\u001b[0m\u001b[37m\u001b[0m \u001b[1m3s\u001b[0m 115ms/step - acc: 0.9914 - loss: 0.0208 - val_acc: 0.9396 - val_loss: 0.3494\n",
      "Epoch 33/50\n",
      "\u001b[1m30/30\u001b[0m \u001b[32m━━━━━━━━━━━━━━━━━━━━\u001b[0m\u001b[37m\u001b[0m \u001b[1m4s\u001b[0m 118ms/step - acc: 0.9923 - loss: 0.0186 - val_acc: 0.9409 - val_loss: 0.3487\n",
      "Epoch 34/50\n",
      "\u001b[1m30/30\u001b[0m \u001b[32m━━━━━━━━━━━━━━━━━━━━\u001b[0m\u001b[37m\u001b[0m \u001b[1m3s\u001b[0m 115ms/step - acc: 0.9924 - loss: 0.0175 - val_acc: 0.9386 - val_loss: 0.3622\n",
      "Epoch 35/50\n",
      "\u001b[1m30/30\u001b[0m \u001b[32m━━━━━━━━━━━━━━━━━━━━\u001b[0m\u001b[37m\u001b[0m \u001b[1m4s\u001b[0m 117ms/step - acc: 0.9932 - loss: 0.0160 - val_acc: 0.9406 - val_loss: 0.3609\n",
      "Epoch 36/50\n",
      "\u001b[1m30/30\u001b[0m \u001b[32m━━━━━━━━━━━━━━━━━━━━\u001b[0m\u001b[37m\u001b[0m \u001b[1m4s\u001b[0m 121ms/step - acc: 0.9933 - loss: 0.0149 - val_acc: 0.9392 - val_loss: 0.3745\n",
      "Epoch 37/50\n",
      "\u001b[1m30/30\u001b[0m \u001b[32m━━━━━━━━━━━━━━━━━━━━\u001b[0m\u001b[37m\u001b[0m \u001b[1m3s\u001b[0m 116ms/step - acc: 0.9940 - loss: 0.0138 - val_acc: 0.9390 - val_loss: 0.3812\n",
      "Epoch 38/50\n",
      "\u001b[1m30/30\u001b[0m \u001b[32m━━━━━━━━━━━━━━━━━━━━\u001b[0m\u001b[37m\u001b[0m \u001b[1m4s\u001b[0m 117ms/step - acc: 0.9937 - loss: 0.0143 - val_acc: 0.9382 - val_loss: 0.3964\n",
      "Epoch 39/50\n",
      "\u001b[1m30/30\u001b[0m \u001b[32m━━━━━━━━━━━━━━━━━━━━\u001b[0m\u001b[37m\u001b[0m \u001b[1m3s\u001b[0m 115ms/step - acc: 0.9937 - loss: 0.0144 - val_acc: 0.9393 - val_loss: 0.3952\n",
      "Epoch 40/50\n",
      "\u001b[1m30/30\u001b[0m \u001b[32m━━━━━━━━━━━━━━━━━━━━\u001b[0m\u001b[37m\u001b[0m \u001b[1m4s\u001b[0m 119ms/step - acc: 0.9937 - loss: 0.0143 - val_acc: 0.9397 - val_loss: 0.3990\n",
      "Epoch 41/50\n",
      "\u001b[1m30/30\u001b[0m \u001b[32m━━━━━━━━━━━━━━━━━━━━\u001b[0m\u001b[37m\u001b[0m \u001b[1m4s\u001b[0m 117ms/step - acc: 0.9939 - loss: 0.0139 - val_acc: 0.9389 - val_loss: 0.4032\n",
      "Epoch 42/50\n",
      "\u001b[1m30/30\u001b[0m \u001b[32m━━━━━━━━━━━━━━━━━━━━\u001b[0m\u001b[37m\u001b[0m \u001b[1m3s\u001b[0m 115ms/step - acc: 0.9940 - loss: 0.0137 - val_acc: 0.9387 - val_loss: 0.4093\n",
      "Epoch 43/50\n",
      "\u001b[1m30/30\u001b[0m \u001b[32m━━━━━━━━━━━━━━━━━━━━\u001b[0m\u001b[37m\u001b[0m \u001b[1m4s\u001b[0m 121ms/step - acc: 0.9938 - loss: 0.0135 - val_acc: 0.9387 - val_loss: 0.4163\n",
      "Epoch 44/50\n",
      "\u001b[1m30/30\u001b[0m \u001b[32m━━━━━━━━━━━━━━━━━━━━\u001b[0m\u001b[37m\u001b[0m \u001b[1m3s\u001b[0m 115ms/step - acc: 0.9937 - loss: 0.0139 - val_acc: 0.9391 - val_loss: 0.4201\n",
      "Epoch 45/50\n",
      "\u001b[1m30/30\u001b[0m \u001b[32m━━━━━━━━━━━━━━━━━━━━\u001b[0m\u001b[37m\u001b[0m \u001b[1m4s\u001b[0m 118ms/step - acc: 0.9943 - loss: 0.0129 - val_acc: 0.9384 - val_loss: 0.4246\n",
      "Epoch 46/50\n",
      "\u001b[1m30/30\u001b[0m \u001b[32m━━━━━━━━━━━━━━━━━━━━\u001b[0m\u001b[37m\u001b[0m \u001b[1m4s\u001b[0m 125ms/step - acc: 0.9944 - loss: 0.0127 - val_acc: 0.9402 - val_loss: 0.4272\n",
      "Epoch 47/50\n",
      "\u001b[1m30/30\u001b[0m \u001b[32m━━━━━━━━━━━━━━━━━━━━\u001b[0m\u001b[37m\u001b[0m \u001b[1m4s\u001b[0m 121ms/step - acc: 0.9941 - loss: 0.0130 - val_acc: 0.9377 - val_loss: 0.4346\n",
      "Epoch 48/50\n",
      "\u001b[1m30/30\u001b[0m \u001b[32m━━━━━━━━━━━━━━━━━━━━\u001b[0m\u001b[37m\u001b[0m \u001b[1m4s\u001b[0m 126ms/step - acc: 0.9943 - loss: 0.0131 - val_acc: 0.9408 - val_loss: 0.4291\n",
      "Epoch 49/50\n",
      "\u001b[1m30/30\u001b[0m \u001b[32m━━━━━━━━━━━━━━━━━━━━\u001b[0m\u001b[37m\u001b[0m \u001b[1m4s\u001b[0m 119ms/step - acc: 0.9941 - loss: 0.0128 - val_acc: 0.9388 - val_loss: 0.4321\n",
      "Epoch 50/50\n",
      "\u001b[1m30/30\u001b[0m \u001b[32m━━━━━━━━━━━━━━━━━━━━\u001b[0m\u001b[37m\u001b[0m \u001b[1m4s\u001b[0m 116ms/step - acc: 0.9942 - loss: 0.0130 - val_acc: 0.9383 - val_loss: 0.4482\n"
     ]
    }
   ],
   "source": [
    "with tf.device('/device:GPU:1'):\n",
    "    EPOCHS=50\n",
    "    rnn_training = rnn_model.fit(X_train, Y_train, batch_size=64, epochs=EPOCHS, validation_data=(X_validation, Y_validation))"
   ]
  },
  {
   "cell_type": "markdown",
   "metadata": {},
   "source": [
    "### Evaluate model"
   ]
  },
  {
   "cell_type": "code",
   "execution_count": 66,
   "metadata": {},
   "outputs": [
    {
     "data": {
      "image/png": "[encoded data removed]",
      "text/plain": [
       "<Figure size 640x480 with 1 Axes>"
      ]
     },
     "metadata": {},
     "output_type": "display_data"
    }
   ],
   "source": [
    "import matplotlib.pyplot as plt\n",
    "\n",
    "plt.plot(rnn_training.history['acc'])\n",
    "plt.plot(rnn_training.history['val_acc'])\n",
    "plt.title('model accuracy')\n",
    "plt.ylabel('accuracy')\n",
    "plt.xlabel('epoch')\n",
    "plt.legend(['train', 'test'], loc=\"lower right\")\n",
    "plt.show()"
   ]
  },
  {
   "cell_type": "code",
   "execution_count": 67,
   "metadata": {},
   "outputs": [
    {
     "data": {
      "image/png": "[encoded data removed]",
      "text/plain": [
       "<Figure size 640x480 with 1 Axes>"
      ]
     },
     "metadata": {},
     "output_type": "display_data"
    }
   ],
   "source": [
    "import matplotlib.pyplot as plt\n",
    "\n",
    "plt.plot(rnn_training.history['loss'])\n",
    "plt.plot(rnn_training.history['val_loss'])\n",
    "plt.title('model loss')\n",
    "plt.ylabel('loss')\n",
    "plt.xlabel('epoch')\n",
    "plt.legend(['train', 'test'], loc=\"upper right\")\n",
    "plt.show()"
   ]
  },
  {
   "cell_type": "code",
   "execution_count": 68,
   "metadata": {},
   "outputs": [
    {
     "name": "stdout",
     "output_type": "stream",
     "text": [
      "\u001b[1m15/15\u001b[0m \u001b[32m━━━━━━━━━━━━━━━━━━━━\u001b[0m\u001b[37m\u001b[0m \u001b[1m0s\u001b[0m 14ms/step - acc: 0.9431 - loss: 0.4100\n",
      "Loss: 0.42425239086151123,\n",
      "Accuracy: 0.9410020709037781\n"
     ]
    }
   ],
   "source": [
    "loss, accuracy = rnn_model.evaluate(X_test, Y_test, verbose = 1)\n",
    "print(\"Loss: {0},\\nAccuracy: {1}\".format(loss, accuracy))"
   ]
  },
  {
   "cell_type": "markdown",
   "metadata": {},
   "source": [
    "### Save model"
   ]
  },
  {
   "cell_type": "code",
   "execution_count": 69,
   "metadata": {},
   "outputs": [],
   "source": [
    "#Save model\n",
    "rnn_model.save('my_model.keras')"
   ]
  },
  {
   "cell_type": "markdown",
   "metadata": {},
   "source": [
    "### Load model"
   ]
  },
  {
   "cell_type": "code",
   "execution_count": 70,
   "metadata": {},
   "outputs": [],
   "source": [
    "import tensorflow as tf\n",
    "from tf.keras.models import load_model\n",
    "\n",
    "reconstructed_model = load_model(\"my_model.keras\")"
   ]
  },
  {
   "cell_type": "markdown",
   "metadata": {},
   "source": [
    "## Bi LSTM model"
   ]
  },
  {
   "cell_type": "code",
   "execution_count": 114,
   "metadata": {},
   "outputs": [],
   "source": [
    "NUM_CLASSES = Y.shape[2]\n",
    "VOCABULARY_SIZE = len(tokenizer.word_index) + 1\n",
    "EMBEDDING_SIZE  = 150"
   ]
  },
  {
   "cell_type": "markdown",
   "metadata": {},
   "source": [
    "### Compile model"
   ]
  },
  {
   "cell_type": "code",
   "execution_count": 115,
   "metadata": {},
   "outputs": [
    {
     "name": "stdout",
     "output_type": "stream",
     "text": [
      "Model: \"sequential\"\n",
      "_________________________________________________________________\n",
      " Layer (type)                Output Shape              Param #   \n",
      "=================================================================\n",
      " embedding (Embedding)       (None, 128, 150)          603450    \n",
      "                                                                 \n",
      " bidirectional (Bidirection  (None, 128, 128)          110080    \n",
      " al)                                                             \n",
      "                                                                 \n",
      " bidirectional_1 (Bidirecti  (None, 128, 64)           41216     \n",
      " onal)                                                           \n",
      "                                                                 \n",
      " time_distributed (TimeDist  (None, 128, 3)            195       \n",
      " ributed)                                                        \n",
      "                                                                 \n",
      "=================================================================\n",
      "Total params: 754941 (2.88 MB)\n",
      "Trainable params: 151491 (591.76 KB)\n",
      "Non-trainable params: 603450 (2.30 MB)\n",
      "_________________________________________________________________\n"
     ]
    }
   ],
   "source": [
    "# biLstmModel = tf.keras.Sequential()\n",
    "\n",
    "# biLstmModel.add(tf.keras.Input(shape=(max_length,)))\n",
    "# biLstmModel.add(tf.keras.layers.Embedding(input_dim=VOCABULARY_SIZE, output_dim=EMBEDDING_SIZE, trainable=False))\n",
    "\n",
    "# biLstmModel.add(tf.keras.layers.Bidirectional(tf.keras.layers.LSTM(64,  return_sequences=True)))\n",
    "# biLstmModel.add(tf.keras.layers.Bidirectional(tf.keras.layers.LSTM(32,  return_sequences=True)))\n",
    "\n",
    "# biLstmModel.add(tf.keras.layers.TimeDistributed(tf.keras.layers.Dense(NUM_CLASSES, activation='softmax')))\n",
    "\n",
    "# Creating the model \n",
    "biLstmModel = tf.keras.Sequential([ \n",
    "    tf.keras.Input(shape=(max_length,)),\n",
    "    tf.keras.layers.Embedding(input_dim=VOCABULARY_SIZE, output_dim=EMBEDDING_SIZE, trainable=False),\n",
    "    tf.keras.layers.Bidirectional(tf.keras.layers.LSTM(64,  return_sequences=True)),\n",
    "    tf.keras.layers.Bidirectional(tf.keras.layers.LSTM(32,  return_sequences=True)), \n",
    "    tf.keras.layers.TimeDistributed(tf.keras.layers.Dense(NUM_CLASSES, activation='softmax')),\n",
    "]) \n",
    "biLstmModel.summary()\n",
    "biLstmModel.compile(loss      =  'categorical_crossentropy',\n",
    "                    optimizer =  'Adam',\n",
    "                    metrics   =  ['accuracy'])\n"
   ]
  },
  {
   "cell_type": "markdown",
   "metadata": {},
   "source": [
    "### Train model"
   ]
  },
  {
   "cell_type": "code",
   "execution_count": 116,
   "metadata": {},
   "outputs": [
    {
     "name": "stdout",
     "output_type": "stream",
     "text": [
      "Epoch 1/50\n",
      "WARNING:tensorflow:From d:\\code\\PBL7\\.venv\\lib\\site-packages\\keras\\src\\utils\\tf_utils.py:492: The name tf.ragged.RaggedTensorValue is deprecated. Please use tf.compat.v1.ragged.RaggedTensorValue instead.\n",
      "\n",
      "WARNING:tensorflow:From d:\\code\\PBL7\\.venv\\lib\\site-packages\\keras\\src\\engine\\base_layer_utils.py:384: The name tf.executing_eagerly_outside_functions is deprecated. Please use tf.compat.v1.executing_eagerly_outside_functions instead.\n",
      "\n",
      "30/30 [==============================] - 13s 215ms/step - loss: 0.3849 - accuracy: 0.8588 - val_loss: 0.1844 - val_accuracy: 0.9425\n",
      "Epoch 2/50\n",
      "30/30 [==============================] - 4s 138ms/step - loss: 0.1558 - accuracy: 0.9400 - val_loss: 0.1256 - val_accuracy: 0.9443\n",
      "Epoch 3/50\n",
      "30/30 [==============================] - 4s 145ms/step - loss: 0.1132 - accuracy: 0.9435 - val_loss: 0.1047 - val_accuracy: 0.9467\n",
      "Epoch 4/50\n",
      "30/30 [==============================] - 4s 146ms/step - loss: 0.1045 - accuracy: 0.9446 - val_loss: 0.1022 - val_accuracy: 0.9469\n",
      "Epoch 5/50\n",
      "30/30 [==============================] - 4s 147ms/step - loss: 0.1030 - accuracy: 0.9448 - val_loss: 0.1013 - val_accuracy: 0.9468\n",
      "Epoch 6/50\n",
      "30/30 [==============================] - 4s 148ms/step - loss: 0.1018 - accuracy: 0.9448 - val_loss: 0.1000 - val_accuracy: 0.9470\n",
      "Epoch 7/50\n",
      "30/30 [==============================] - 5s 153ms/step - loss: 0.1008 - accuracy: 0.9449 - val_loss: 0.0992 - val_accuracy: 0.9470\n",
      "Epoch 8/50\n",
      "30/30 [==============================] - 5s 156ms/step - loss: 0.1005 - accuracy: 0.9446 - val_loss: 0.0985 - val_accuracy: 0.9474\n",
      "Epoch 9/50\n",
      "30/30 [==============================] - 4s 150ms/step - loss: 0.0985 - accuracy: 0.9453 - val_loss: 0.0977 - val_accuracy: 0.9468\n",
      "Epoch 10/50\n",
      "30/30 [==============================] - 5s 153ms/step - loss: 0.0983 - accuracy: 0.9457 - val_loss: 0.0972 - val_accuracy: 0.9470\n",
      "Epoch 11/50\n",
      "30/30 [==============================] - 5s 155ms/step - loss: 0.0977 - accuracy: 0.9459 - val_loss: 0.0953 - val_accuracy: 0.9476\n",
      "Epoch 12/50\n",
      "30/30 [==============================] - 5s 156ms/step - loss: 0.0965 - accuracy: 0.9467 - val_loss: 0.0952 - val_accuracy: 0.9484\n",
      "Epoch 13/50\n",
      "30/30 [==============================] - 5s 162ms/step - loss: 0.0973 - accuracy: 0.9461 - val_loss: 0.0948 - val_accuracy: 0.9480\n",
      "Epoch 14/50\n",
      "30/30 [==============================] - 5s 154ms/step - loss: 0.0970 - accuracy: 0.9459 - val_loss: 0.0945 - val_accuracy: 0.9485\n",
      "Epoch 15/50\n",
      "30/30 [==============================] - 5s 157ms/step - loss: 0.0962 - accuracy: 0.9466 - val_loss: 0.0946 - val_accuracy: 0.9494\n",
      "Epoch 16/50\n",
      "30/30 [==============================] - 5s 176ms/step - loss: 0.0957 - accuracy: 0.9471 - val_loss: 0.0943 - val_accuracy: 0.9485\n",
      "Epoch 17/50\n",
      "30/30 [==============================] - 5s 165ms/step - loss: 0.0956 - accuracy: 0.9472 - val_loss: 0.0956 - val_accuracy: 0.9480\n",
      "Epoch 18/50\n",
      "30/30 [==============================] - 5s 159ms/step - loss: 0.0946 - accuracy: 0.9484 - val_loss: 0.0934 - val_accuracy: 0.9494\n",
      "Epoch 19/50\n",
      "30/30 [==============================] - 5s 157ms/step - loss: 0.0942 - accuracy: 0.9485 - val_loss: 0.0926 - val_accuracy: 0.9502\n",
      "Epoch 20/50\n",
      "30/30 [==============================] - 5s 154ms/step - loss: 0.0935 - accuracy: 0.9493 - val_loss: 0.0923 - val_accuracy: 0.9519\n",
      "Epoch 21/50\n",
      "30/30 [==============================] - 5s 154ms/step - loss: 0.0936 - accuracy: 0.9489 - val_loss: 0.0914 - val_accuracy: 0.9520\n",
      "Epoch 22/50\n",
      "30/30 [==============================] - 5s 158ms/step - loss: 0.0917 - accuracy: 0.9510 - val_loss: 0.0901 - val_accuracy: 0.9531\n",
      "Epoch 23/50\n",
      "30/30 [==============================] - 5s 155ms/step - loss: 0.0906 - accuracy: 0.9514 - val_loss: 0.0891 - val_accuracy: 0.9536\n",
      "Epoch 24/50\n",
      "30/30 [==============================] - 5s 172ms/step - loss: 0.0903 - accuracy: 0.9517 - val_loss: 0.0898 - val_accuracy: 0.9530\n",
      "Epoch 25/50\n",
      "30/30 [==============================] - 5s 152ms/step - loss: 0.0887 - accuracy: 0.9533 - val_loss: 0.0869 - val_accuracy: 0.9552\n",
      "Epoch 26/50\n",
      "30/30 [==============================] - 5s 153ms/step - loss: 0.0884 - accuracy: 0.9537 - val_loss: 0.0878 - val_accuracy: 0.9550\n",
      "Epoch 27/50\n",
      "30/30 [==============================] - 5s 155ms/step - loss: 0.0865 - accuracy: 0.9555 - val_loss: 0.0850 - val_accuracy: 0.9570\n",
      "Epoch 28/50\n",
      "30/30 [==============================] - 5s 156ms/step - loss: 0.0861 - accuracy: 0.9554 - val_loss: 0.0877 - val_accuracy: 0.9543\n",
      "Epoch 29/50\n",
      "30/30 [==============================] - 5s 154ms/step - loss: 0.0859 - accuracy: 0.9555 - val_loss: 0.0834 - val_accuracy: 0.9573\n",
      "Epoch 30/50\n",
      "30/30 [==============================] - 5s 155ms/step - loss: 0.0841 - accuracy: 0.9573 - val_loss: 0.0828 - val_accuracy: 0.9578\n",
      "Epoch 31/50\n",
      "30/30 [==============================] - 5s 153ms/step - loss: 0.0830 - accuracy: 0.9578 - val_loss: 0.0821 - val_accuracy: 0.9587\n",
      "Epoch 32/50\n",
      "30/30 [==============================] - 5s 156ms/step - loss: 0.0816 - accuracy: 0.9590 - val_loss: 0.0813 - val_accuracy: 0.9592\n",
      "Epoch 33/50\n",
      "30/30 [==============================] - 5s 161ms/step - loss: 0.0828 - accuracy: 0.9579 - val_loss: 0.0824 - val_accuracy: 0.9578\n",
      "Epoch 34/50\n",
      "30/30 [==============================] - 6s 188ms/step - loss: 0.0838 - accuracy: 0.9565 - val_loss: 0.0817 - val_accuracy: 0.9584\n",
      "Epoch 35/50\n",
      "30/30 [==============================] - 5s 157ms/step - loss: 0.0809 - accuracy: 0.9593 - val_loss: 0.0806 - val_accuracy: 0.9598\n",
      "Epoch 36/50\n",
      "30/30 [==============================] - 5s 153ms/step - loss: 0.0798 - accuracy: 0.9603 - val_loss: 0.0795 - val_accuracy: 0.9601\n",
      "Epoch 37/50\n",
      "30/30 [==============================] - 5s 152ms/step - loss: 0.0794 - accuracy: 0.9605 - val_loss: 0.0796 - val_accuracy: 0.9600\n",
      "Epoch 38/50\n",
      "30/30 [==============================] - 5s 153ms/step - loss: 0.0794 - accuracy: 0.9603 - val_loss: 0.0792 - val_accuracy: 0.9605\n",
      "Epoch 39/50\n",
      "30/30 [==============================] - 5s 181ms/step - loss: 0.0822 - accuracy: 0.9586 - val_loss: 0.0815 - val_accuracy: 0.9586\n",
      "Epoch 40/50\n",
      "30/30 [==============================] - 5s 170ms/step - loss: 0.0799 - accuracy: 0.9600 - val_loss: 0.0795 - val_accuracy: 0.9602\n",
      "Epoch 41/50\n",
      "30/30 [==============================] - 5s 176ms/step - loss: 0.0787 - accuracy: 0.9611 - val_loss: 0.0811 - val_accuracy: 0.9591\n",
      "Epoch 42/50\n",
      "30/30 [==============================] - 5s 162ms/step - loss: 0.0785 - accuracy: 0.9611 - val_loss: 0.0792 - val_accuracy: 0.9603\n",
      "Epoch 43/50\n",
      "30/30 [==============================] - 5s 162ms/step - loss: 0.0797 - accuracy: 0.9600 - val_loss: 0.0792 - val_accuracy: 0.9605\n",
      "Epoch 44/50\n",
      "30/30 [==============================] - 5s 162ms/step - loss: 0.0785 - accuracy: 0.9613 - val_loss: 0.0781 - val_accuracy: 0.9612\n",
      "Epoch 45/50\n",
      "30/30 [==============================] - 5s 157ms/step - loss: 0.0785 - accuracy: 0.9611 - val_loss: 0.0783 - val_accuracy: 0.9614\n",
      "Epoch 46/50\n",
      "30/30 [==============================] - 5s 157ms/step - loss: 0.0773 - accuracy: 0.9622 - val_loss: 0.0777 - val_accuracy: 0.9616\n",
      "Epoch 47/50\n",
      "30/30 [==============================] - 5s 160ms/step - loss: 0.0767 - accuracy: 0.9623 - val_loss: 0.0823 - val_accuracy: 0.9580\n",
      "Epoch 48/50\n",
      "30/30 [==============================] - 5s 158ms/step - loss: 0.0848 - accuracy: 0.9558 - val_loss: 0.0827 - val_accuracy: 0.9574\n",
      "Epoch 49/50\n",
      "30/30 [==============================] - 5s 158ms/step - loss: 0.0807 - accuracy: 0.9594 - val_loss: 0.0802 - val_accuracy: 0.9592\n",
      "Epoch 50/50\n",
      "30/30 [==============================] - 5s 161ms/step - loss: 0.0793 - accuracy: 0.9604 - val_loss: 0.0840 - val_accuracy: 0.9565\n"
     ]
    }
   ],
   "source": [
    "with tf.device('/device:GPU:1'):\n",
    "    EPOCHS=50\n",
    "    bilstm_training = biLstmModel.fit(X_train, Y_train, batch_size=64, epochs=EPOCHS, validation_data=(X_validation, Y_validation))"
   ]
  },
  {
   "cell_type": "markdown",
   "metadata": {},
   "source": [
    "### Evaluate model"
   ]
  },
  {
   "cell_type": "code",
   "execution_count": 117,
   "metadata": {},
   "outputs": [
    {
     "data": {
      "image/png": "[encoded data removed]",
      "text/plain": [
       "<Figure size 640x480 with 1 Axes>"
      ]
     },
     "metadata": {},
     "output_type": "display_data"
    }
   ],
   "source": [
    "import matplotlib.pyplot as plt\n",
    "\n",
    "plt.plot(bilstm_training.history['accuracy'])\n",
    "plt.plot(bilstm_training.history['val_accuracy'])\n",
    "plt.title('biLSTM model accuracy')\n",
    "plt.ylabel('accuracy')\n",
    "plt.xlabel('epoch')\n",
    "plt.legend(['train', 'test'], loc=\"lower right\")\n",
    "plt.show()"
   ]
  },
  {
   "cell_type": "code",
   "execution_count": 118,
   "metadata": {},
   "outputs": [
    {
     "data": {
      "image/png": "[encoded data removed]",
      "text/plain": [
       "<Figure size 640x480 with 1 Axes>"
      ]
     },
     "metadata": {},
     "output_type": "display_data"
    }
   ],
   "source": [
    "import matplotlib.pyplot as plt\n",
    "\n",
    "plt.plot(bilstm_training.history['loss'])\n",
    "plt.plot(bilstm_training.history['val_loss'])\n",
    "plt.title('biLSTM model loss')\n",
    "plt.ylabel('loss')\n",
    "plt.xlabel('epoch')\n",
    "plt.legend(['train', 'test'], loc=\"upper right\")\n",
    "plt.show()"
   ]
  },
  {
   "cell_type": "code",
   "execution_count": 121,
   "metadata": {},
   "outputs": [
    {
     "name": "stdout",
     "output_type": "stream",
     "text": [
      "15/15 [==============================] - 0s 30ms/step - loss: 0.0785 - accuracy: 0.9598\n",
      "Loss: 0.07847678661346436,\n",
      "Accuracy: 0.9598284363746643\n"
     ]
    }
   ],
   "source": [
    "loss_bilstm, accuracy_bilstm = biLstmModel.evaluate(X_test, Y_test, verbose = 1)\n",
    "print(\"Loss: {0},\\nAccuracy: {1}\".format(loss_bilstm, accuracy_bilstm))"
   ]
  },
  {
   "cell_type": "markdown",
   "metadata": {},
   "source": [
    "### Save model"
   ]
  },
  {
   "cell_type": "code",
   "execution_count": 122,
   "metadata": {},
   "outputs": [],
   "source": [
    "biLstmModel.save(\"biLSTM.keras\")"
   ]
  },
  {
   "cell_type": "markdown",
   "metadata": {},
   "source": [
    "### Load model"
   ]
  },
  {
   "cell_type": "code",
   "execution_count": 123,
   "metadata": {},
   "outputs": [],
   "source": [
    "from tensorflow.keras.models import load_model\n",
    "\n",
    "reconstructed_biLstmModel = load_model(\"biLSTM.keras\")"
   ]
  },
  {
   "cell_type": "markdown",
   "metadata": {},
   "source": [
    "# 5. Demo prediction"
   ]
  },
  {
   "cell_type": "code",
   "execution_count": 124,
   "metadata": {},
   "outputs": [],
   "source": [
    "#Load tokenizer\n",
    "import pickle\n",
    "from tensorflow.keras.preprocessing.sequence import pad_sequences\n",
    "with open('tokenizer.pickle', 'rb') as handle:\n",
    "    tokenizer_load = pickle.load(handle)"
   ]
  },
  {
   "cell_type": "code",
   "execution_count": 125,
   "metadata": {},
   "outputs": [],
   "source": [
    "#Load model\n",
    "from tensorflow.keras.models import load_model\n",
    "reconstructed_biLstmModel = load_model(\"biLSTM.keras\")"
   ]
  },
  {
   "cell_type": "code",
   "execution_count": 156,
   "metadata": {},
   "outputs": [],
   "source": [
    "text =  ''' Tôi cần một điện thoại có cấu hình, giá từ 1 triệu rưỡi và rẻ hơn.\n",
    "        '''\n",
    "text_pre = preprocess_text(text)\n",
    "text_pre_token = [text_pre.split()]\n",
    "\n",
    "max_length = 128\n",
    "trunc_type='post'\n",
    "\n",
    "sequences = tokenizer_load.texts_to_sequences(text_pre_token)\n",
    "input_padded = pad_sequences(sequences,maxlen=max_length, truncating=trunc_type)"
   ]
  },
  {
   "cell_type": "code",
   "execution_count": 157,
   "metadata": {},
   "outputs": [
    {
     "data": {
      "text/plain": [
       "'điện_thoại cấu_hình giá 1 triệu rưỡi rẻ'"
      ]
     },
     "execution_count": 157,
     "metadata": {},
     "output_type": "execute_result"
    }
   ],
   "source": [
    "text_pre"
   ]
  },
  {
   "cell_type": "code",
   "execution_count": 158,
   "metadata": {},
   "outputs": [
    {
     "data": {
      "text/plain": [
       "array([[   0,    0,    0,    0,    0,    0,    0,    0,    0,    0,    0,\n",
       "           0,    0,    0,    0,    0,    0,    0,    0,    0,    0,    0,\n",
       "           0,    0,    0,    0,    0,    0,    0,    0,    0,    0,    0,\n",
       "           0,    0,    0,    0,    0,    0,    0,    0,    0,    0,    0,\n",
       "           0,    0,    0,    0,    0,    0,    0,    0,    0,    0,    0,\n",
       "           0,    0,    0,    0,    0,    0,    0,    0,    0,    0,    0,\n",
       "           0,    0,    0,    0,    0,    0,    0,    0,    0,    0,    0,\n",
       "           0,    0,    0,    0,    0,    0,    0,    0,    0,    0,    0,\n",
       "           0,    0,    0,    0,    0,    0,    0,    0,    0,    0,    0,\n",
       "           0,    0,    0,    0,    0,    0,    0,    0,    0,    0,    0,\n",
       "           0,    0,    0,    0,    0,    0,    0,    0,    0,    0,    0,\n",
       "           2,  100,   88,  190, 1127, 3388,  203]])"
      ]
     },
     "execution_count": 158,
     "metadata": {},
     "output_type": "execute_result"
    }
   ],
   "source": [
    "input_padded"
   ]
  },
  {
   "cell_type": "code",
   "execution_count": 159,
   "metadata": {},
   "outputs": [
    {
     "name": "stdout",
     "output_type": "stream",
     "text": [
      "1/1 [==============================] - 0s 44ms/step\n"
     ]
    }
   ],
   "source": [
    "predict = reconstructed_biLstmModel.predict(input_padded)"
   ]
  },
  {
   "cell_type": "code",
   "execution_count": 160,
   "metadata": {},
   "outputs": [],
   "source": [
    "import numpy as np\n",
    "label_key_phrases = np.argmax(predict[0],axis=1, out=None)"
   ]
  },
  {
   "cell_type": "code",
   "execution_count": 161,
   "metadata": {},
   "outputs": [
    {
     "name": "stdout",
     "output_type": "stream",
     "text": [
      "(1, 128)\n",
      "(1, 128, 3)\n",
      "(128,)\n"
     ]
    }
   ],
   "source": [
    "print(input_padded.shape)\n",
    "print(predict.shape)\n",
    "print(label_key_phrases.shape)"
   ]
  },
  {
   "cell_type": "code",
   "execution_count": 162,
   "metadata": {},
   "outputs": [
    {
     "data": {
      "text/plain": [
       "['<OOV> <OOV> <OOV> <OOV> <OOV> <OOV> <OOV> <OOV> <OOV> <OOV> <OOV> <OOV> <OOV> <OOV> <OOV> <OOV> <OOV> <OOV> <OOV> <OOV> <OOV> <OOV> <OOV> <OOV> <OOV> <OOV> <OOV> <OOV> <OOV> <OOV> <OOV> <OOV> <OOV> <OOV> <OOV> <OOV> <OOV> <OOV> <OOV> <OOV> <OOV> <OOV> <OOV> <OOV> <OOV> <OOV> <OOV> <OOV> <OOV> <OOV> <OOV> <OOV> <OOV> <OOV> <OOV> <OOV> <OOV> <OOV> <OOV> <OOV> <OOV> <OOV> <OOV> <OOV> <OOV> <OOV> <OOV> <OOV> <OOV> <OOV> <OOV> <OOV> <OOV> <OOV> <OOV> <OOV> <OOV> <OOV> <OOV> <OOV> <OOV> <OOV> <OOV> <OOV> <OOV> <OOV> <OOV> <OOV> <OOV> <OOV> <OOV> <OOV> <OOV> <OOV> <OOV> <OOV> <OOV> <OOV> <OOV> <OOV> <OOV> <OOV> <OOV> <OOV> <OOV> <OOV> <OOV> <OOV> <OOV> <OOV> <OOV> <OOV> <OOV> <OOV> <OOV> <OOV> <OOV> <OOV> <OOV> <OOV> <OOV> điện_thoại cấu_hình giá 1 triệu rưỡi rẻ']"
      ]
     },
     "execution_count": 162,
     "metadata": {},
     "output_type": "execute_result"
    }
   ],
   "source": [
    "text_rever = tokenizer_load.sequences_to_texts(input_padded)\n",
    "text_rever"
   ]
  },
  {
   "cell_type": "code",
   "execution_count": 163,
   "metadata": {},
   "outputs": [],
   "source": [
    "text_rever_split = text_rever[0].split()"
   ]
  },
  {
   "cell_type": "code",
   "execution_count": 164,
   "metadata": {},
   "outputs": [],
   "source": [
    "key_phrases = [text_rever_split[i] for i in range(len(label_key_phrases)) if label_key_phrases[i] == 1]"
   ]
  },
  {
   "cell_type": "code",
   "execution_count": 165,
   "metadata": {},
   "outputs": [],
   "source": [
    "def remove_items(test_list, item): \n",
    "    # using filter() + __ne__ to perform the task \n",
    "    res = list(filter((item).__ne__, test_list)) \n",
    "    return res "
   ]
  },
  {
   "cell_type": "code",
   "execution_count": 166,
   "metadata": {},
   "outputs": [],
   "source": [
    "key_phrases = remove_items(key_phrases, '<OOV>')"
   ]
  },
  {
   "cell_type": "code",
   "execution_count": 167,
   "metadata": {},
   "outputs": [],
   "source": [
    "key_phrases_nonToken = [i.replace(\"_\",\" \") for i in key_phrases]"
   ]
  },
  {
   "cell_type": "code",
   "execution_count": 168,
   "metadata": {},
   "outputs": [
    {
     "data": {
      "text/plain": [
       "['điện thoại', 'cấu hình', 'giá', '1', 'triệu', 'rưỡi', 'rẻ']"
      ]
     },
     "execution_count": 168,
     "metadata": {},
     "output_type": "execute_result"
    }
   ],
   "source": [
    "key_phrases_nonToken"
   ]
  }
 ],
 "metadata": {
  "kernelspec": {
   "display_name": ".venv",
   "language": "python",
   "name": "python3"
  },
  "language_info": {
   "codemirror_mode": {
    "name": "ipython",
    "version": 3
   },
   "file_extension": ".py",
   "mimetype": "text/x-python",
   "name": "python",
   "nbconvert_exporter": "python",
   "pygments_lexer": "ipython3",
   "version": "3.9.2"
  }
 },
 "nbformat": 4,
 "nbformat_minor": 2
}
